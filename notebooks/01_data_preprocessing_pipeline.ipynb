{
 "cells": [
  {
   "cell_type": "markdown",
   "metadata": {},
   "source": [
    "# GreenCast Data Preprocessing Pipeline\n",
    "\n",
    "This notebook contains the complete data preprocessing pipeline for the GreenCast agriculture AI project.\n",
    "\n",
    "## Dataset Overview\n",
    "- **PlantVillage Dataset**: Plant disease images in color, grayscale, and segmented formats\n",
    "- **Data2**: Organized crop datasets with Train/Test/Val splits\n",
    "\n",
    "## Pipeline Steps\n",
    "1. Dataset exploration and analysis\n",
    "2. Image preprocessing and augmentation\n",
    "3. Data cleaning and validation\n",
    "4. Feature extraction\n",
    "5. Dataset splitting and organization\n",
    "6. Export processed data"
   ]
  },
  {
   "cell_type": "markdown",
   "metadata": {},
   "source": [
    "## 1. Import Libraries and Setup"
   ]
  },
  {
   "cell_type": "code",
   "execution_count": null,
   "metadata": {},
   "outputs": [],
   "source": [
    "# Core libraries\n",
    "import os\n",
    "import sys\n",
    "import numpy as np\n",
    "import pandas as pd\n",
    "import matplotlib.pyplot as plt\n",
    "import seaborn as sns\n",
    "from pathlib import Path\n",
    "import warnings\n",
    "warnings.filterwarnings('ignore')\n",
    "\n",
    "# Image processing\n",
    "import cv2\n",
    "from PIL import Image, ImageEnhance, ImageFilter\n",
    "import imageio\n",
    "from skimage import io, transform, filters, exposure\n",
    "from skimage.feature import local_binary_pattern, greycomatrix, greycoprops\n",
    "from skimage.measure import label, regionprops\n",
    "\n",
    "# Machine Learning\n",
    "from sklearn.model_selection import train_test_split\n",
    "from sklearn.preprocessing import LabelEncoder, StandardScaler\n",
    "from sklearn.metrics import classification_report, confusion_matrix\n",
    "\n",
    "# Deep Learning\n",
    "import tensorflow as tf\n",
    "from tensorflow.keras.preprocessing.image import ImageDataGenerator, load_img, img_to_array\n",
    "from tensorflow.keras.applications import VGG16, ResNet50, EfficientNetB0\n",
    "from tensorflow.keras.utils import to_categorical\n",
    "\n",
    "# Utilities\n",
    "import json\n",
    "import pickle\n",
    "from datetime import datetime\n",
    "import logging\n",
    "from tqdm import tqdm\n",
    "import glob\n",
    "from collections import Counter, defaultdict\n",
    "\n",
    "# Set random seeds for reproducibility\n",
    "np.random.seed(42)\n",
    "tf.random.set_seed(42)\n",
    "\n",
    "# Configure matplotlib\n",
    "plt.style.use('seaborn-v0_8')\n",
    "plt.rcParams['figure.figsize'] = (12, 8)\n",
    "\n",
    "print(\"Libraries imported successfully!\")\n",
    "print(f\"TensorFlow version: {tf.__version__}\")\n",
    "print(f\"OpenCV version: {cv2.__version__}\")"
   ]
  },
  {
   "cell_type": "markdown",
   "metadata": {},
   "source": [
    "## 2. Configuration and Paths"
   ]
  },
  {
   "cell_type": "code",
   "execution_count": null,
   "metadata": {},
   "outputs": [],
   "source": [
    "# Project paths\n",
    "PROJECT_ROOT = Path('/Users/debabratapattnayak/web-dev/greencast')\n",
    "DATASET_PATH = PROJECT_ROOT / 'dataset'\n",
    "PLANTVILLAGE_PATH = DATASET_PATH / 'plantvillage dataset'\n",
    "DATA2_PATH = DATASET_PATH / 'data2'\n",
    "PROCESSED_DATA_PATH = PROJECT_ROOT / 'processed_data'\n",
    "MODELS_PATH = PROJECT_ROOT / 'models'\n",
    "\n",
    "# Create directories if they don't exist\n",
    "PROCESSED_DATA_PATH.mkdir(exist_ok=True)\n",
    "MODELS_PATH.mkdir(exist_ok=True)\n",
    "\n",
    "# Image processing configuration\n",
    "IMG_CONFIG = {\n",
    "    'target_size': (224, 224),  # Standard size for most pre-trained models\n",
    "    'batch_size': 32,\n",
    "    'color_mode': 'rgb',\n",
    "    'class_mode': 'categorical',\n",
    "    'validation_split': 0.2,\n",
    "    'test_split': 0.1\n",
    "}\n",
    "\n",
    "# Data augmentation parameters\n",
    "AUGMENTATION_CONFIG = {\n",
    "    'rotation_range': 20,\n",
    "    'width_shift_range': 0.2,\n",
    "    'height_shift_range': 0.2,\n",
    "    'shear_range': 0.2,\n",
    "    'zoom_range': 0.2,\n",
    "    'horizontal_flip': True,\n",
    "    'fill_mode': 'nearest',\n",
    "    'brightness_range': [0.8, 1.2]\n",
    "}\n",
    "\n",
    "print(f\"Dataset path: {DATASET_PATH}\")\n",
    "print(f\"PlantVillage path: {PLANTVILLAGE_PATH}\")\n",
    "print(f\"Data2 path: {DATA2_PATH}\")\n",
    "print(f\"Processed data will be saved to: {PROCESSED_DATA_PATH}\")"
   ]
  }
 ],
 "metadata": {
  "kernelspec": {
   "display_name": "Python 3",
   "language": "python",
   "name": "python3"
  },
  "language_info": {
   "codemirror_mode": {
    "name": "ipython",
    "version": 3
   },
   "file_extension": ".py",
   "mimetype": "text/x-python",
   "name": "python",
   "nbconvert_exporter": "python",
   "pygments_lexer": "ipython3",
   "version": "3.8.0"
  }
 },
 "nbformat": 4,
 "nbformat_minor": 4
}
