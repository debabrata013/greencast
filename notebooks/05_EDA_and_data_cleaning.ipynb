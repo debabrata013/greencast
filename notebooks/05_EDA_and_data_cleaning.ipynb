{
 "cells": [
  {
   "cell_type": "markdown",
   "metadata": {},
   "source": [
    "# 📊 Exploratory Data Analysis (EDA) and Data Cleaning\n",
    "\n",
    "This notebook performs comprehensive EDA on the processed PlantVillage dataset and handles:\n",
    "- Data exploration and visualization\n",
    "- Null value handling\n",
    "- Data normalization\n",
    "- Class balancing\n",
    "- Feature analysis"
   ]
  },
  {
   "cell_type": "code",
   "execution_count": 1,
   "metadata": {},
   "outputs": [
    {
     "name": "stdout",
     "output_type": "stream",
     "text": [
      "📚 Libraries imported successfully!\n"
     ]
    }
   ],
   "source": [
    "# Import required libraries\n",
    "import os\n",
    "import sys\n",
    "import numpy as np\n",
    "import pandas as pd\n",
    "import matplotlib.pyplot as plt\n",
    "import seaborn as sns\n",
    "from pathlib import Path\n",
    "import warnings\n",
    "warnings.filterwarnings('ignore')\n",
    "\n",
    "# Image processing\n",
    "import cv2\n",
    "from PIL import Image\n",
    "import imageio\n",
    "from skimage import io, transform, filters, exposure\n",
    "\n",
    "# Machine Learning\n",
    "from sklearn.model_selection import train_test_split\n",
    "from sklearn.preprocessing import LabelEncoder, StandardScaler\n",
    "from sklearn.utils import resample\n",
    "from sklearn.metrics import classification_report, confusion_matrix\n",
    "\n",
    "# Utilities\n",
    "from collections import Counter, defaultdict\n",
    "from tqdm import tqdm\n",
    "import json\n",
    "\n",
    "# Set style\n",
    "plt.style.use('seaborn-v0_8')\n",
    "plt.rcParams['figure.figsize'] = (12, 8)\n",
    "sns.set_palette(\"husl\")\n",
    "\n",
    "print(\"📚 Libraries imported successfully!\")"
   ]
  },
  {
   "cell_type": "code",
   "execution_count": 2,
   "metadata": {},
   "outputs": [
    {
     "name": "stdout",
     "output_type": "stream",
     "text": [
      "📁 Using symlinked dataset: /Users/debabratapattnayak/web-dev/greencast/processed_data/plantvillage_color_symlinks\n",
      "✅ Paths configured successfully\n"
     ]
    }
   ],
   "source": [
    "# Define paths\n",
    "BASE_PATH = Path(\"/Users/debabratapattnayak/web-dev/greencast\")\n",
    "PROCESSED_DATA_PATH = BASE_PATH / \"processed_data\"\n",
    "FEATURES_PATH = BASE_PATH / \"features\"\n",
    "MODELS_PATH = BASE_PATH / \"models\"\n",
    "\n",
    "# Create directories\n",
    "FEATURES_PATH.mkdir(parents=True, exist_ok=True)\n",
    "MODELS_PATH.mkdir(parents=True, exist_ok=True)\n",
    "\n",
    "# Dataset paths\n",
    "SYMLINK_DATASET_PATH = PROCESSED_DATA_PATH / \"plantvillage_color_symlinks\"\n",
    "COPY_DATASET_PATH = PROCESSED_DATA_PATH / \"plantvillage_color\"\n",
    "\n",
    "# Choose the dataset to use (prefer symlinks to save space)\n",
    "if SYMLINK_DATASET_PATH.exists():\n",
    "    DATASET_PATH = SYMLINK_DATASET_PATH\n",
    "    print(f\"📁 Using symlinked dataset: {DATASET_PATH}\")\n",
    "elif COPY_DATASET_PATH.exists():\n",
    "    DATASET_PATH = COPY_DATASET_PATH\n",
    "    print(f\"📁 Using copied dataset: {DATASET_PATH}\")\n",
    "else:\n",
    "    raise FileNotFoundError(\"No processed dataset found!\")\n",
    "\n",
    "print(f\"✅ Paths configured successfully\")"
   ]
  }
 ],
 "metadata": {
  "kernelspec": {
   "display_name": "venv",
   "language": "python",
   "name": "python3"
  },
  "language_info": {
   "codemirror_mode": {
    "name": "ipython",
    "version": 3
   },
   "file_extension": ".py",
   "mimetype": "text/x-python",
   "name": "python",
   "nbconvert_exporter": "python",
   "pygments_lexer": "ipython3",
   "version": "3.13.5"
  }
 },
 "nbformat": 4,
 "nbformat_minor": 4
}
