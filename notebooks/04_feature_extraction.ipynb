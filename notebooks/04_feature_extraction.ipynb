{
  "cells": [
    {
      "cell_type": "markdown",
      "metadata": {},
      "source": [
        "# Feature Extraction Pipeline\n",
        "\n",
        "This notebook extracts various features from plant images for disease detection and analysis."
      ]
    },
    {
      "cell_type": "code",
      "execution_count": 4,
      "metadata": {},
      "outputs": [],
      "source": [
        "import os\n",
        "import numpy as np\n",
        "import pandas as pd\n",
        "import matplotlib.pyplot as plt\n",
        "import cv2\n",
        "from pathlib import Path\n",
        "import tensorflow as tf\n",
        "from tensorflow.keras.applications import VGG16, ResNet50, EfficientNetB0\n",
        "from tensorflow.keras.preprocessing import image\n",
        "from tensorflow.keras.applications.vgg16 import preprocess_input as vgg_preprocess\n",
        "from tensorflow.keras.applications.resnet50 import preprocess_input as resnet_preprocess\n",
        "from tensorflow.keras.applications.efficientnet import preprocess_input as efficientnet_preprocess\n",
        "from skimage.feature import local_binary_pattern, graycomatrix, graycoprops\n",
        "from skimage.measure import label, regionprops\n",
        "from skimage import filters, exposure\n",
        "import pickle\n",
        "from tqdm import tqdm\n",
        "import json\n",
        "\n",
        "# Set paths\n",
        "PROJECT_ROOT = Path('/Users/debabratapattnayak/web-dev/greencast')\n",
        "PROCESSED_DATA_PATH = PROJECT_ROOT / 'processed_data'\n",
        "FEATURES_PATH = PROJECT_ROOT / 'features'\n",
        "FEATURES_PATH.mkdir(parents=True, exist_ok=True)"
      ]
    },
    {
      "cell_type": "markdown",
      "metadata": {},
      "source": [
        "## Traditional Computer Vision Features"
      ]
    },
    {
      "cell_type": "code",
      "execution_count": 5,
      "metadata": {},
      "outputs": [
        {
          "name": "stdout",
          "output_type": "stream",
          "text": [
            "Traditional feature extractor initialized!\n"
          ]
        }
      ],
      "source": [
        "class TraditionalFeatureExtractor:\n",
        "    \"\"\"Extract traditional computer vision features from images\"\"\"\n",
        "    \n",
        "    def __init__(self):\n",
        "        self.feature_names = []\n",
        "    \n",
        "    def extract_color_features(self, image):\n",
        "        \"\"\"Extract color-based features\"\"\"\n",
        "        features = []\n",
        "        \n",
        "        # Convert to different color spaces\n",
        "        hsv = cv2.cvtColor(image, cv2.COLOR_RGB2HSV)\n",
        "        lab = cv2.cvtColor(image, cv2.COLOR_RGB2LAB)\n",
        "        \n",
        "        # RGB statistics\n",
        "        for i, channel in enumerate(['R', 'G', 'B']):\n",
        "            channel_data = image[:, :, i]\n",
        "            features.extend([\n",
        "                np.mean(channel_data),\n",
        "                np.std(channel_data),\n",
        "                np.median(channel_data),\n",
        "                np.percentile(channel_data, 25),\n",
        "                np.percentile(channel_data, 75)\n",
        "            ])\n",
        "        \n",
        "        # HSV statistics\n",
        "        for i, channel in enumerate(['H', 'S', 'V']):\n",
        "            channel_data = hsv[:, :, i]\n",
        "            features.extend([\n",
        "                np.mean(channel_data),\n",
        "                np.std(channel_data)\n",
        "            ])\n",
        "        \n",
        "        # Color ratios\n",
        "        features.extend([\n",
        "            np.mean(image[:, :, 1]) / (np.mean(image[:, :, 0]) + 1e-8),  # G/R ratio\n",
        "            np.mean(image[:, :, 2]) / (np.mean(image[:, :, 1]) + 1e-8),  # B/G ratio\n",
        "            np.mean(image[:, :, 0]) / (np.mean(image[:, :, 2]) + 1e-8),  # R/B ratio\n",
        "        ])\n",
        "        \n",
        "        return features\n",
        "    \n",
        "    def extract_texture_features(self, image):\n",
        "        \"\"\"Extract texture-based features\"\"\"\n",
        "        features = []\n",
        "        \n",
        "        # Convert to grayscale\n",
        "        gray = cv2.cvtColor(image, cv2.COLOR_RGB2GRAY)\n",
        "        \n",
        "        # Local Binary Pattern\n",
        "        radius = 3\n",
        "        n_points = 8 * radius\n",
        "        lbp = local_binary_pattern(gray, n_points, radius, method='uniform')\n",
        "        lbp_hist, _ = np.histogram(lbp.ravel(), bins=n_points + 2, \n",
        "                                  range=(0, n_points + 2), density=True)\n",
        "        features.extend(lbp_hist)\n",
        "        \n",
        "        # Gray Level Co-occurrence Matrix (GLCM)\n",
        "        # Normalize gray image to 0-255 range for GLCM\n",
        "        gray_norm = ((gray - gray.min()) / (gray.max() - gray.min()) * 255).astype(np.uint8)\n",
        "        \n",
        "        # Calculate GLCM for different angles\n",
        "        distances = [1, 2]\n",
        "        angles = [0, 45, 90, 135]\n",
        "        \n",
        "        for distance in distances:\n",
        "            for angle in angles:\n",
        "                glcm = graycomatrix(gray_norm, [distance], [np.radians(angle)], \n",
        "                                  levels=256, symmetric=True, normed=True)\n",
        "                \n",
        "                # Extract GLCM properties\n",
        "                features.extend([\n",
        "                    graycoprops(glcm, 'contrast')[0, 0],\n",
        "                    graycoprops(glcm, 'dissimilarity')[0, 0],\n",
        "                    graycoprops(glcm, 'homogeneity')[0, 0],\n",
        "                    graycoprops(glcm, 'energy')[0, 0],\n",
        "                    graycoprops(glcm, 'correlation')[0, 0]\n",
        "                ])\n",
        "        \n",
        "        return features\n",
        "    \n",
        "    def extract_shape_features(self, image):\n",
        "        \"\"\"Extract shape-based features\"\"\"\n",
        "        features = []\n",
        "        \n",
        "        # Convert to grayscale and threshold\n",
        "        gray = cv2.cvtColor(image, cv2.COLOR_RGB2GRAY)\n",
        "        \n",
        "        # Apply Otsu's thresholding\n",
        "        _, binary = cv2.threshold(gray, 0, 255, cv2.THRESH_BINARY + cv2.THRESH_OTSU)\n",
        "        \n",
        "        # Find contours\n",
        "        contours, _ = cv2.findContours(binary, cv2.RETR_EXTERNAL, cv2.CHAIN_APPROX_SIMPLE)\n",
        "        \n",
        "        if contours:\n",
        "            # Get the largest contour (assuming it's the main object)\n",
        "            largest_contour = max(contours, key=cv2.contourArea)\n",
        "            \n",
        "            # Calculate shape features\n",
        "            area = cv2.contourArea(largest_contour)\n",
        "            perimeter = cv2.arcLength(largest_contour, True)\n",
        "            \n",
        "            if perimeter > 0:\n",
        "                # Circularity\n",
        "                circularity = 4 * np.pi * area / (perimeter * perimeter)\n",
        "                features.append(circularity)\n",
        "            else:\n",
        "                features.append(0)\n",
        "            \n",
        "            # Aspect ratio\n",
        "            x, y, w, h = cv2.boundingRect(largest_contour)\n",
        "            aspect_ratio = float(w) / h if h > 0 else 0\n",
        "            features.append(aspect_ratio)\n",
        "            \n",
        "            # Extent (ratio of contour area to bounding rectangle area)\n",
        "            rect_area = w * h\n",
        "            extent = float(area) / rect_area if rect_area > 0 else 0\n",
        "            features.append(extent)\n",
        "            \n",
        "            # Solidity (ratio of contour area to convex hull area)\n",
        "            hull = cv2.convexHull(largest_contour)\n",
        "            hull_area = cv2.contourArea(hull)\n",
        "            solidity = float(area) / hull_area if hull_area > 0 else 0\n",
        "            features.append(solidity)\n",
        "            \n",
        "        else:\n",
        "            # No contours found, add default values\n",
        "            features.extend([0, 0, 0, 0])\n",
        "        \n",
        "        return features\n",
        "    \n",
        "    def extract_all_features(self, image):\n",
        "        \"\"\"Extract all traditional features from an image\"\"\"\n",
        "        features = []\n",
        "        \n",
        "        # Extract different types of features\n",
        "        color_features = self.extract_color_features(image)\n",
        "        texture_features = self.extract_texture_features(image)\n",
        "        shape_features = self.extract_shape_features(image)\n",
        "        \n",
        "        features.extend(color_features)\n",
        "        features.extend(texture_features)\n",
        "        features.extend(shape_features)\n",
        "        \n",
        "        return np.array(features)\n",
        "\n",
        "# Initialize feature extractor\n",
        "traditional_extractor = TraditionalFeatureExtractor()\n",
        "print(\"Traditional feature extractor initialized!\")"
      ]
    },
    {
      "cell_type": "markdown",
      "metadata": {},
      "source": [
        "## Deep Learning Feature Extraction"
      ]
    },
    {
      "cell_type": "code",
      "execution_count": 6,
      "metadata": {},
      "outputs": [],
      "source": [
        "# LIGHTWEIGHT FEATURE EXTRACTOR - OPTIMIZED FOR DISK SPACE\n",
        "import sys\n",
        "sys.path.append('/Users/debabratapattnayak/web-dev/greencast')\n",
        "from lightweight_feature_extractor import LightweightFeatureExtractor\n",
        "\n",
        "# Enhanced DeepFeatureExtractor using lightweight backend\n",
        "class DeepFeatureExtractor:\n",
        "    def __init__(self):\n",
        "        print(\"Initializing lightweight feature extractor...\")\n",
        "        try:\n",
        "            self.extractor = LightweightFeatureExtractor(use_deep_features=True)\n",
        "            print(\"✅ Deep feature extractor initialized with VGG16!\")\n",
        "        except Exception as e:\n",
        "            print(f\"⚠️ Deep features failed: {e}\")\n",
        "            self.extractor = LightweightFeatureExtractor(use_deep_features=False)\n",
        "            print(\"✅ Basic feature extractor initialized!\")\n",
        "    \n",
        "    def extract_all_features(self, image_path):\n",
        "        return self.extractor.extract_all_features(image_path)\n",
        "    \n",
        "    def extract_vgg16_features(self, image_path):\n",
        "        import cv2\n",
        "        image = cv2.imread(str(image_path))\n",
        "        if image is not None:\n",
        "            image = cv2.cvtColor(image, cv2.COLOR_BGR2RGB)\n",
        "            return self.extractor.extract_deep_features(image)\n",
        "        return []\n",
        "    \n",
        "    def extract_resnet50_features(self, image_path):\n",
        "        return self.extract_vgg16_features(image_path)\n",
        "    \n",
        "    def extract_efficientnet_features(self, image_path):\n",
        "        return self.extract_vgg16_features(image_path)\n"
      ]
    },
    {
      "cell_type": "markdown",
      "metadata": {},
      "source": [
        "## Feature Extraction Pipeline"
      ]
    },
    {
      "cell_type": "code",
      "execution_count": 7,
      "metadata": {},
      "outputs": [
        {
          "name": "stdout",
          "output_type": "stream",
          "text": [
            "Extracting features from training set...\n",
            "Extracting features from 1000 images...\n"
          ]
        },
        {
          "name": "stderr",
          "output_type": "stream",
          "text": [
            "Extracting features:   1%|          | 7/1000 [00:00<00:27, 36.34it/s]"
          ]
        },
        {
          "name": "stdout",
          "output_type": "stream",
          "text": [
            "Error processing /Users/debabratapattnayak/web-dev/greencast/processed_data/plantvillage_color/train/Grape___Esca_(Black_Measles)/3a4f2681-0ad1-4ad1-a05b-005592733970___FAM_B.Msls 1037.JPG: name 'deep_extractor' is not defined\n",
            "Error processing /Users/debabratapattnayak/web-dev/greencast/processed_data/plantvillage_color/train/Tomato___Tomato_Yellow_Leaf_Curl_Virus/391bd206-4341-4404-9904-945b0ce617a1___YLCV_NREC 2584.JPG: name 'deep_extractor' is not defined\n",
            "Error processing /Users/debabratapattnayak/web-dev/greencast/processed_data/plantvillage_color/train/Cherry_(including_sour)___Powdery_mildew/886e024a-ae28-4692-96dd-f8c7a5c38c19___FREC_Pwd.M 4759.JPG: name 'deep_extractor' is not defined\n",
            "Error processing /Users/debabratapattnayak/web-dev/greencast/processed_data/plantvillage_color/train/Soybean___healthy/a6ef7cfa-e411-4fff-945c-e658860318e8___RS_HL 2943.JPG: name 'deep_extractor' is not defined\n",
            "Error processing /Users/debabratapattnayak/web-dev/greencast/processed_data/plantvillage_color/train/Apple___Apple_scab/7be1e0a3-01d0-40c3-9628-f69952550267___FREC_Scab 3263.JPG: name 'deep_extractor' is not defined\n",
            "Error processing /Users/debabratapattnayak/web-dev/greencast/processed_data/plantvillage_color/train/Tomato___Septoria_leaf_spot/231f9534-833a-48b3-9da1-d3c4be1747e9___JR_Sept.L.S 2475.JPG: name 'deep_extractor' is not defined\n",
            "Error processing /Users/debabratapattnayak/web-dev/greencast/processed_data/plantvillage_color/train/Apple___healthy/238ba7d8-807f-4af5-8524-5259b80cff9e___RS_HL 8119.JPG: name 'deep_extractor' is not defined\n",
            "Error processing /Users/debabratapattnayak/web-dev/greencast/processed_data/plantvillage_color/train/Corn_(maize)___healthy/5417243a-8492-4bf5-9c54-9b930dd54bff___R.S_HL 8069 copy 2.jpg: name 'deep_extractor' is not defined\n",
            "Error processing /Users/debabratapattnayak/web-dev/greencast/processed_data/plantvillage_color/train/Orange___Haunglongbing_(Citrus_greening)/f5725f2f-9af8-47fc-8be5-e1f186463b35___CREC_HLB 4012.JPG: name 'deep_extractor' is not defined\n",
            "Error processing /Users/debabratapattnayak/web-dev/greencast/processed_data/plantvillage_color/train/Soybean___healthy/188ca027-7d50-4969-9f74-116b40820f98___RS_HL 7261.JPG: name 'deep_extractor' is not defined\n",
            "Error processing /Users/debabratapattnayak/web-dev/greencast/processed_data/plantvillage_color/train/Tomato___Target_Spot/7ddd582f-fbfb-4dbb-a73e-bb68f1f864fe___Com.G_TgS_FL 8006.JPG: name 'deep_extractor' is not defined\n",
            "Error processing /Users/debabratapattnayak/web-dev/greencast/processed_data/plantvillage_color/train/Grape___Black_rot/d4b044fa-dae0-4d76-85a7-8a456ee3c72a___FAM_B.Rot 3242.JPG: name 'deep_extractor' is not defined\n",
            "Error processing /Users/debabratapattnayak/web-dev/greencast/processed_data/plantvillage_color/train/Soybean___healthy/0e141922-8df2-4665-9a26-6895b360116e___RS_HL 5788.JPG: name 'deep_extractor' is not defined\n"
          ]
        },
        {
          "name": "stderr",
          "output_type": "stream",
          "text": [
            "Extracting features:   2%|▏         | 20/1000 [00:00<00:19, 50.24it/s]"
          ]
        },
        {
          "name": "stdout",
          "output_type": "stream",
          "text": [
            "Error processing /Users/debabratapattnayak/web-dev/greencast/processed_data/plantvillage_color/train/Pepper,_bell___Bacterial_spot/dd1be385-6753-4a84-ab24-bf4b9ede3950___NREC_B.Spot 9198.JPG: name 'deep_extractor' is not defined\n",
            "Error processing /Users/debabratapattnayak/web-dev/greencast/processed_data/plantvillage_color/train/Soybean___healthy/20ced3da-9b1e-4af7-94c1-13c9f2525769___RS_HL 5596.JPG: name 'deep_extractor' is not defined\n",
            "Error processing /Users/debabratapattnayak/web-dev/greencast/processed_data/plantvillage_color/train/Tomato___Spider_mites Two-spotted_spider_mite/35a278b4-e474-4a62-99d5-80bb10639193___Com.G_SpM_FL 1368.JPG: name 'deep_extractor' is not defined\n",
            "Error processing /Users/debabratapattnayak/web-dev/greencast/processed_data/plantvillage_color/train/Tomato___Tomato_Yellow_Leaf_Curl_Virus/7eb45688-09bb-43bf-a5f6-38e57e32eeed___YLCV_NREC 2003.JPG: name 'deep_extractor' is not defined\n",
            "Error processing /Users/debabratapattnayak/web-dev/greencast/processed_data/plantvillage_color/train/Tomato___Tomato_Yellow_Leaf_Curl_Virus/62a66e0a-e057-4d7a-8347-9a2b80c44f79___YLCV_GCREC 5398.JPG: name 'deep_extractor' is not defined\n",
            "Error processing /Users/debabratapattnayak/web-dev/greencast/processed_data/plantvillage_color/train/Tomato___Spider_mites Two-spotted_spider_mite/b867a878-d563-40e1-a0f5-7037f4918842___Com.G_SpM_FL 1354.JPG: name 'deep_extractor' is not defined\n",
            "Error processing /Users/debabratapattnayak/web-dev/greencast/processed_data/plantvillage_color/train/Cherry_(including_sour)___healthy/9061c91f-b268-4725-a2b7-26500a26f1f1___JR_HL 4248.JPG: name 'deep_extractor' is not defined\n",
            "Error processing /Users/debabratapattnayak/web-dev/greencast/processed_data/plantvillage_color/train/Soybean___healthy/d2ab9489-e14b-413d-a54a-81a03dcb8aed___RS_HL 6726.JPG: name 'deep_extractor' is not defined\n",
            "Error processing /Users/debabratapattnayak/web-dev/greencast/processed_data/plantvillage_color/train/Tomato___Late_blight/f5261645-e84e-433a-8edb-ff53e8586646___GHLB2 Leaf 143.1.JPG: name 'deep_extractor' is not defined\n",
            "Error processing /Users/debabratapattnayak/web-dev/greencast/processed_data/plantvillage_color/train/Grape___Esca_(Black_Measles)/6fba0907-14aa-44d4-96ac-6a40ef299939___FAM_B.Msls 4026.JPG: name 'deep_extractor' is not defined\n",
            "Error processing /Users/debabratapattnayak/web-dev/greencast/processed_data/plantvillage_color/train/Apple___Apple_scab/c270319e-61d4-4376-a3e8-b159ff712dd4___FREC_Scab 3401.JPG: name 'deep_extractor' is not defined\n"
          ]
        },
        {
          "name": "stderr",
          "output_type": "stream",
          "text": [
            "Extracting features:   3%|▎         | 32/1000 [00:00<00:17, 54.10it/s]"
          ]
        },
        {
          "name": "stdout",
          "output_type": "stream",
          "text": [
            "Error processing /Users/debabratapattnayak/web-dev/greencast/processed_data/plantvillage_color/train/Tomato___Late_blight/2821660a-106c-4e22-9167-6c22f0dd692b___GHLB2 Leaf 8712.JPG: name 'deep_extractor' is not defined\n",
            "Error processing /Users/debabratapattnayak/web-dev/greencast/processed_data/plantvillage_color/train/Tomato___Bacterial_spot/8c556686-072a-4d3a-aad6-4e5534611f03___GCREC_Bact.Sp 5825.JPG: name 'deep_extractor' is not defined\n",
            "Error processing /Users/debabratapattnayak/web-dev/greencast/processed_data/plantvillage_color/train/Tomato___Tomato_Yellow_Leaf_Curl_Virus/01fa2c83-fffb-4aad-a456-e991aeb93f3e___UF.GRC_YLCV_Lab 02154.JPG: name 'deep_extractor' is not defined\n",
            "Error processing /Users/debabratapattnayak/web-dev/greencast/processed_data/plantvillage_color/train/Soybean___healthy/d553e82d-4444-47a2-9849-3809d763459e___RS_HL 5973.JPG: name 'deep_extractor' is not defined\n",
            "Error processing /Users/debabratapattnayak/web-dev/greencast/processed_data/plantvillage_color/train/Tomato___Tomato_Yellow_Leaf_Curl_Virus/b83f0d90-0dce-427a-9cdd-ab8d1f20724f___UF.GRC_YLCV_Lab 01690.JPG: name 'deep_extractor' is not defined\n",
            "Error processing /Users/debabratapattnayak/web-dev/greencast/processed_data/plantvillage_color/train/Grape___Black_rot/0959dfd7-a6af-4e43-b99e-b248e7b3b2eb___FAM_B.Rot 5039.JPG: name 'deep_extractor' is not defined\n",
            "Error processing /Users/debabratapattnayak/web-dev/greencast/processed_data/plantvillage_color/train/Tomato___Tomato_Yellow_Leaf_Curl_Virus/5e6befa6-70ea-4001-b4bc-986ec910cbbc___YLCV_NREC 2638.JPG: name 'deep_extractor' is not defined\n",
            "Error processing /Users/debabratapattnayak/web-dev/greencast/processed_data/plantvillage_color/train/Tomato___healthy/7a51866d-a48a-4443-8243-b7de56104946___RS_HL 0311.JPG: name 'deep_extractor' is not defined\n",
            "Error processing /Users/debabratapattnayak/web-dev/greencast/processed_data/plantvillage_color/train/Peach___Bacterial_spot/6e2d6244-d73c-4aba-982d-438fd6e1f056___Rutg._Bact.S 1412.JPG: name 'deep_extractor' is not defined\n",
            "Error processing /Users/debabratapattnayak/web-dev/greencast/processed_data/plantvillage_color/train/Tomato___Tomato_Yellow_Leaf_Curl_Virus/b3ec0e57-e514-49c0-87e5-33d3da17bcea___UF.GRC_YLCV_Lab 08444.JPG: name 'deep_extractor' is not defined\n",
            "Error processing /Users/debabratapattnayak/web-dev/greencast/processed_data/plantvillage_color/train/Potato___Early_blight/12429fa8-02ea-4017-88ef-b2d219b892f7___RS_Early.B 6916.JPG: name 'deep_extractor' is not defined\n",
            "Error processing /Users/debabratapattnayak/web-dev/greencast/processed_data/plantvillage_color/train/Tomato___Septoria_leaf_spot/9143d8ef-3d8a-48e8-9345-a5eb988091ef___Matt.S_CG 6821.JPG: name 'deep_extractor' is not defined\n",
            "Error processing /Users/debabratapattnayak/web-dev/greencast/processed_data/plantvillage_color/train/Pepper,_bell___Bacterial_spot/de583596-e89f-4a21-be43-a6629318bd6e___NREC_B.Spot 1840.JPG: name 'deep_extractor' is not defined\n"
          ]
        },
        {
          "name": "stderr",
          "output_type": "stream",
          "text": [
            "Extracting features:   4%|▍         | 44/1000 [00:00<00:17, 53.47it/s]"
          ]
        },
        {
          "name": "stdout",
          "output_type": "stream",
          "text": [
            "Error processing /Users/debabratapattnayak/web-dev/greencast/processed_data/plantvillage_color/train/Corn_(maize)___Common_rust_/RS_Rust 2243.JPG: name 'deep_extractor' is not defined\n",
            "Error processing /Users/debabratapattnayak/web-dev/greencast/processed_data/plantvillage_color/train/Orange___Haunglongbing_(Citrus_greening)/752a6137-d47a-4271-aa0e-85cbe6801208___CREC_HLB 4196.JPG: name 'deep_extractor' is not defined\n",
            "Error processing /Users/debabratapattnayak/web-dev/greencast/processed_data/plantvillage_color/train/Soybean___healthy/f1b68e1a-43ec-46d9-a59f-b4131e39de96___RS_HL 5704.JPG: name 'deep_extractor' is not defined\n",
            "Error processing /Users/debabratapattnayak/web-dev/greencast/processed_data/plantvillage_color/train/Soybean___healthy/b1ed20c5-7983-45ad-8ab1-850df07bfb01___RS_HL 6013.JPG: name 'deep_extractor' is not defined\n",
            "Error processing /Users/debabratapattnayak/web-dev/greencast/processed_data/plantvillage_color/train/Tomato___Bacterial_spot/eabeca07-9aa1-431a-92eb-be617775811d___UF.GRC_BS_Lab Leaf 0460.JPG: name 'deep_extractor' is not defined\n",
            "Error processing /Users/debabratapattnayak/web-dev/greencast/processed_data/plantvillage_color/train/Tomato___Late_blight/5f473bdb-1899-4877-8d8f-df2e94996d1f___RS_Late.B 6266.JPG: name 'deep_extractor' is not defined\n",
            "Error processing /Users/debabratapattnayak/web-dev/greencast/processed_data/plantvillage_color/train/Potato___Late_blight/a5a6ebeb-2535-441d-acf5-33bce305fa14___RS_LB 3304.JPG: name 'deep_extractor' is not defined\n",
            "Error processing /Users/debabratapattnayak/web-dev/greencast/processed_data/plantvillage_color/train/Tomato___Early_blight/0cd2270f-87f8-45b5-a4af-19fa34b2acaa___RS_Erly.B 9567.JPG: name 'deep_extractor' is not defined\n",
            "Error processing /Users/debabratapattnayak/web-dev/greencast/processed_data/plantvillage_color/train/Squash___Powdery_mildew/46be4156-616d-41ba-9ad3-edc2bd4292ae___MD_Powd.M 0797.JPG: name 'deep_extractor' is not defined\n",
            "Error processing /Users/debabratapattnayak/web-dev/greencast/processed_data/plantvillage_color/train/Squash___Powdery_mildew/784b9bdf-cce6-4a53-95d6-6475fef6030d___UMD_Powd.M 0459.JPG: name 'deep_extractor' is not defined\n",
            "Error processing /Users/debabratapattnayak/web-dev/greencast/processed_data/plantvillage_color/train/Corn_(maize)___Northern_Leaf_Blight/37665d4b-1063-4929-b9e1-88fb5439cdfb___RS_NLB 0765.JPG: name 'deep_extractor' is not defined\n",
            "Error processing /Users/debabratapattnayak/web-dev/greencast/processed_data/plantvillage_color/train/Tomato___Tomato_Yellow_Leaf_Curl_Virus/d1c9e050-a0a8-4d18-bc4b-a4bca72bea2c___UF.GRC_YLCV_Lab 02158.JPG: name 'deep_extractor' is not defined\n",
            "Error processing /Users/debabratapattnayak/web-dev/greencast/processed_data/plantvillage_color/train/Grape___Esca_(Black_Measles)/1160c835-3682-4c35-bbc7-f15c212cabda___FAM_B.Msls 1249.JPG: name 'deep_extractor' is not defined\n"
          ]
        },
        {
          "name": "stderr",
          "output_type": "stream",
          "text": [
            "Extracting features:   6%|▌         | 58/1000 [00:01<00:16, 58.59it/s]"
          ]
        },
        {
          "name": "stdout",
          "output_type": "stream",
          "text": [
            "Error processing /Users/debabratapattnayak/web-dev/greencast/processed_data/plantvillage_color/train/Tomato___Septoria_leaf_spot/5d1cc870-27d2-4442-bc2a-a8788543d326___JR_Sept.L.S 2578.JPG: name 'deep_extractor' is not defined\n",
            "Error processing /Users/debabratapattnayak/web-dev/greencast/processed_data/plantvillage_color/train/Raspberry___healthy/837ce07f-c8df-42c6-8b24-a6d93b6e60dc___Mary_HL 9332.JPG: name 'deep_extractor' is not defined\n",
            "Error processing /Users/debabratapattnayak/web-dev/greencast/processed_data/plantvillage_color/train/Corn_(maize)___Northern_Leaf_Blight/361f06a6-6dbc-4ea0-b954-c3a1e6b9b481___RS_NLB 3653.JPG: name 'deep_extractor' is not defined\n",
            "Error processing /Users/debabratapattnayak/web-dev/greencast/processed_data/plantvillage_color/train/Cherry_(including_sour)___Powdery_mildew/88396555-c8fa-4750-8d0c-b3034960c63c___FREC_Pwd.M 4811.JPG: name 'deep_extractor' is not defined\n",
            "Error processing /Users/debabratapattnayak/web-dev/greencast/processed_data/plantvillage_color/train/Cherry_(including_sour)___Powdery_mildew/c86a51cc-d1a2-4fb2-b6b5-2866331631e9___FREC_Pwd.M 5089.JPG: name 'deep_extractor' is not defined\n",
            "Error processing /Users/debabratapattnayak/web-dev/greencast/processed_data/plantvillage_color/train/Orange___Haunglongbing_(Citrus_greening)/79dfacb4-fbca-471a-9374-0910410629d7___UF.Citrus_HLB_Lab 9670.JPG: name 'deep_extractor' is not defined\n",
            "Error processing /Users/debabratapattnayak/web-dev/greencast/processed_data/plantvillage_color/train/Apple___Black_rot/b2d126c0-49f9-4013-a6bf-2c08ffe87f94___JR_FrgE.S 2865.JPG: name 'deep_extractor' is not defined\n",
            "Error processing /Users/debabratapattnayak/web-dev/greencast/processed_data/plantvillage_color/train/Tomato___Spider_mites Two-spotted_spider_mite/0247236f-c1ae-4b3f-92b3-9077fe5cb3c3___Com.G_SpM_FL 8505.JPG: name 'deep_extractor' is not defined\n",
            "Error processing /Users/debabratapattnayak/web-dev/greencast/processed_data/plantvillage_color/train/Corn_(maize)___healthy/8639d32c-4fe2-4eb1-ae6b-a2cd6608363b___R.S_HL 0623 copy.jpg: name 'deep_extractor' is not defined\n",
            "Error processing /Users/debabratapattnayak/web-dev/greencast/processed_data/plantvillage_color/train/Soybean___healthy/7dac4c24-2e97-487d-8a6e-0d24fe9459d7___RS_HL 5343.JPG: name 'deep_extractor' is not defined\n",
            "Error processing /Users/debabratapattnayak/web-dev/greencast/processed_data/plantvillage_color/train/Orange___Haunglongbing_(Citrus_greening)/77886c62-513c-4eef-ac0c-3a0ed6f25798___CREC_HLB 7085.JPG: name 'deep_extractor' is not defined\n",
            "Error processing /Users/debabratapattnayak/web-dev/greencast/processed_data/plantvillage_color/train/Corn_(maize)___Cercospora_leaf_spot Gray_leaf_spot/24776f62-abd9-4187-897d-f61b41a9a9ad___RS_GLSp 3810.JPG: name 'deep_extractor' is not defined\n",
            "Error processing /Users/debabratapattnayak/web-dev/greencast/processed_data/plantvillage_color/train/Cherry_(including_sour)___Powdery_mildew/5b542577-0a56-46c3-a18e-f1c114eb6e18___FREC_Pwd.M 4680.JPG: name 'deep_extractor' is not defined\n"
          ]
        },
        {
          "name": "stderr",
          "output_type": "stream",
          "text": [
            "Extracting features:   7%|▋         | 72/1000 [00:01<00:15, 60.63it/s]"
          ]
        },
        {
          "name": "stdout",
          "output_type": "stream",
          "text": [
            "Error processing /Users/debabratapattnayak/web-dev/greencast/processed_data/plantvillage_color/train/Apple___Cedar_apple_rust/1a80b84d-1a5a-4e23-8deb-823ba928e29a___FREC_C.Rust 4431.JPG: name 'deep_extractor' is not defined\n",
            "Error processing /Users/debabratapattnayak/web-dev/greencast/processed_data/plantvillage_color/train/Orange___Haunglongbing_(Citrus_greening)/2f4b68bc-0efc-4dae-88e2-cb4499bd033b___CREC_HLB 7215.JPG: name 'deep_extractor' is not defined\n",
            "Error processing /Users/debabratapattnayak/web-dev/greencast/processed_data/plantvillage_color/train/Soybean___healthy/86d47cd4-82e3-4021-acc5-515c2c326e06___RS_HL 4001.JPG: name 'deep_extractor' is not defined\n",
            "Error processing /Users/debabratapattnayak/web-dev/greencast/processed_data/plantvillage_color/train/Soybean___healthy/c668b75d-b636-4513-b1d0-1b6420318c21___RS_HL 5268.JPG: name 'deep_extractor' is not defined\n",
            "Error processing /Users/debabratapattnayak/web-dev/greencast/processed_data/plantvillage_color/train/Tomato___Spider_mites Two-spotted_spider_mite/9115f047-1373-48de-9c60-d62e71c99586___Com.G_SpM_FL 8896.JPG: name 'deep_extractor' is not defined\n",
            "Error processing /Users/debabratapattnayak/web-dev/greencast/processed_data/plantvillage_color/train/Corn_(maize)___Northern_Leaf_Blight/cea4e177-947e-466f-9b0f-fc2adae6a02e___RS_NLB 4198.JPG: name 'deep_extractor' is not defined\n",
            "Error processing /Users/debabratapattnayak/web-dev/greencast/processed_data/plantvillage_color/train/Tomato___healthy/387dd4db-733b-4d6a-b87e-77ab2f2890a8___RS_HL 9866.JPG: name 'deep_extractor' is not defined\n",
            "Error processing /Users/debabratapattnayak/web-dev/greencast/processed_data/plantvillage_color/train/Tomato___Spider_mites Two-spotted_spider_mite/74433374-b410-426c-8752-c0e4ea7c9f71___Com.G_SpM_FL 8641.JPG: name 'deep_extractor' is not defined\n",
            "Error processing /Users/debabratapattnayak/web-dev/greencast/processed_data/plantvillage_color/train/Potato___Late_blight/f083d357-23f8-45e6-9fac-87e5d0ab9cac___RS_LB 3317.JPG: name 'deep_extractor' is not defined\n",
            "Error processing /Users/debabratapattnayak/web-dev/greencast/processed_data/plantvillage_color/train/Cherry_(including_sour)___healthy/cbb4bd24-9572-4235-a9c1-e6b73118b7d5___JR_HL 4120.JPG: name 'deep_extractor' is not defined\n",
            "Error processing /Users/debabratapattnayak/web-dev/greencast/processed_data/plantvillage_color/train/Orange___Haunglongbing_(Citrus_greening)/fdf012b4-2c83-4ed2-b385-821133c34a88___UF.Citrus_HLB_Lab 0285.JPG: name 'deep_extractor' is not defined\n",
            "Error processing /Users/debabratapattnayak/web-dev/greencast/processed_data/plantvillage_color/train/Peach___Bacterial_spot/02c18d29-fef1-40bf-aabb-0bb052893931___Rut._Bact.S 1012.JPG: name 'deep_extractor' is not defined\n",
            "Error processing /Users/debabratapattnayak/web-dev/greencast/processed_data/plantvillage_color/train/Tomato___Bacterial_spot/129f7d8d-d261-4aa6-b6ef-55a37851ac3e___UF.GRC_BS_Lab Leaf 0380.JPG: name 'deep_extractor' is not defined\n"
          ]
        },
        {
          "name": "stderr",
          "output_type": "stream",
          "text": [
            "Extracting features:   9%|▊         | 86/1000 [00:01<00:14, 61.70it/s]"
          ]
        },
        {
          "name": "stdout",
          "output_type": "stream",
          "text": [
            "Error processing /Users/debabratapattnayak/web-dev/greencast/processed_data/plantvillage_color/train/Soybean___healthy/12cee518-a9ec-4259-a261-97609caed6db___RS_HL 4078.JPG: name 'deep_extractor' is not defined\n",
            "Error processing /Users/debabratapattnayak/web-dev/greencast/processed_data/plantvillage_color/train/Tomato___Septoria_leaf_spot/1f8a9dd1-e501-430d-9c80-7eaf0904961c___Matt.S_CG 2477.JPG: name 'deep_extractor' is not defined\n",
            "Error processing /Users/debabratapattnayak/web-dev/greencast/processed_data/plantvillage_color/train/Tomato___Tomato_Yellow_Leaf_Curl_Virus/9ee6c0b2-37ba-4559-b597-c1cce9f2a201___YLCV_NREC 0299.JPG: name 'deep_extractor' is not defined\n",
            "Error processing /Users/debabratapattnayak/web-dev/greencast/processed_data/plantvillage_color/train/Tomato___healthy/6657a918-63fb-49d1-a74d-8ef6bbb66231___RS_HL 9816.JPG: name 'deep_extractor' is not defined\n",
            "Error processing /Users/debabratapattnayak/web-dev/greencast/processed_data/plantvillage_color/train/Pepper,_bell___Bacterial_spot/d696fdd7-228b-41be-9401-9ab0f8053802___NREC_B.Spot 9116.JPG: name 'deep_extractor' is not defined\n",
            "Error processing /Users/debabratapattnayak/web-dev/greencast/processed_data/plantvillage_color/train/Pepper,_bell___healthy/fb4468f7-1a89-496a-8953-32edb1ff775a___JR_HL 8888.JPG: name 'deep_extractor' is not defined\n",
            "Error processing /Users/debabratapattnayak/web-dev/greencast/processed_data/plantvillage_color/train/Soybean___healthy/4b58233b-8627-4072-be87-f49838ea7f7e___RS_HL 3943.JPG: name 'deep_extractor' is not defined\n",
            "Error processing /Users/debabratapattnayak/web-dev/greencast/processed_data/plantvillage_color/train/Soybean___healthy/ee016082-8bf6-40e9-b8fe-01fed30993e2___RS_HL 5128.JPG: name 'deep_extractor' is not defined\n",
            "Error processing /Users/debabratapattnayak/web-dev/greencast/processed_data/plantvillage_color/train/Blueberry___healthy/fbb77662-a840-401f-b66b-2748e13e7294___RS_HL 5217.JPG: name 'deep_extractor' is not defined\n",
            "Error processing /Users/debabratapattnayak/web-dev/greencast/processed_data/plantvillage_color/train/Soybean___healthy/8add68a5-965e-45b1-85d3-0baf4e9e4e74___RS_HL 2899.JPG: name 'deep_extractor' is not defined\n",
            "Error processing /Users/debabratapattnayak/web-dev/greencast/processed_data/plantvillage_color/train/Corn_(maize)___healthy/384dee4e-f5d5-4c86-a3f8-279946157984___R.S_HL 8278 copy.jpg: name 'deep_extractor' is not defined\n",
            "Error processing /Users/debabratapattnayak/web-dev/greencast/processed_data/plantvillage_color/train/Cherry_(including_sour)___Powdery_mildew/3947085c-910c-4251-bd9f-90c25fddcb3a___FREC_Pwd.M 0576.JPG: name 'deep_extractor' is not defined\n",
            "Error processing /Users/debabratapattnayak/web-dev/greencast/processed_data/plantvillage_color/train/Squash___Powdery_mildew/e409a2fb-194f-4413-a29a-a60c6bdb52fb___UMD_Powd.M 0703.JPG: name 'deep_extractor' is not defined\n"
          ]
        },
        {
          "name": "stderr",
          "output_type": "stream",
          "text": [
            "Extracting features:  10%|█         | 100/1000 [00:01<00:14, 61.55it/s]"
          ]
        },
        {
          "name": "stdout",
          "output_type": "stream",
          "text": [
            "Error processing /Users/debabratapattnayak/web-dev/greencast/processed_data/plantvillage_color/train/Apple___healthy/81666301-0038-450d-bd14-36d069f4f30a___RS_HL 7696.JPG: name 'deep_extractor' is not defined\n",
            "Error processing /Users/debabratapattnayak/web-dev/greencast/processed_data/plantvillage_color/train/Tomato___Bacterial_spot/88f0b60f-1758-449a-afee-16c95edc6355___GCREC_Bact.Sp 2979.JPG: name 'deep_extractor' is not defined\n",
            "Error processing /Users/debabratapattnayak/web-dev/greencast/processed_data/plantvillage_color/train/Corn_(maize)___Northern_Leaf_Blight/a3b588f0-1c34-4a1e-ad47-c2202a896173___RS_NLB 3834.JPG: name 'deep_extractor' is not defined\n",
            "Error processing /Users/debabratapattnayak/web-dev/greencast/processed_data/plantvillage_color/train/Tomato___Late_blight/84b7d3ab-56ae-4eef-a852-7b32f3ef0160___GHLB2 Leaf 150.JPG: name 'deep_extractor' is not defined\n",
            "Error processing /Users/debabratapattnayak/web-dev/greencast/processed_data/plantvillage_color/train/Squash___Powdery_mildew/62e6b01c-663b-4524-8eab-45076ff45a44___UMD_Powd.M 9852.JPG: name 'deep_extractor' is not defined\n",
            "Error processing /Users/debabratapattnayak/web-dev/greencast/processed_data/plantvillage_color/train/Tomato___healthy/21d294dd-0c03-457d-a02d-1243bdf0ff4f___RS_HL 9887.JPG: name 'deep_extractor' is not defined\n",
            "Error processing /Users/debabratapattnayak/web-dev/greencast/processed_data/plantvillage_color/train/Orange___Haunglongbing_(Citrus_greening)/c8a6dfa6-762e-4ab3-9b94-caee4b45b614___UF.Citrus_HLB_Lab 0267.JPG: name 'deep_extractor' is not defined\n",
            "Error processing /Users/debabratapattnayak/web-dev/greencast/processed_data/plantvillage_color/train/Tomato___Late_blight/5c63799e-98ee-4f57-9f01-8695b60243de___RS_Late.B 5144.JPG: name 'deep_extractor' is not defined\n",
            "Error processing /Users/debabratapattnayak/web-dev/greencast/processed_data/plantvillage_color/train/Blueberry___healthy/2e9a7633-b8f9-4d79-99f2-56dbcb9a1cb5___RS_HL 5130.JPG: name 'deep_extractor' is not defined\n",
            "Error processing /Users/debabratapattnayak/web-dev/greencast/processed_data/plantvillage_color/train/Tomato___Septoria_leaf_spot/93803782-3190-4a41-98a3-1c2712ca8571___JR_Sept.L.S 2704.JPG: name 'deep_extractor' is not defined\n",
            "Error processing /Users/debabratapattnayak/web-dev/greencast/processed_data/plantvillage_color/train/Tomato___Tomato_Yellow_Leaf_Curl_Virus/81dd4d22-e4b0-4a8f-87b4-8acf3cf41d85___YLCV_GCREC 5287.JPG: name 'deep_extractor' is not defined\n",
            "Error processing /Users/debabratapattnayak/web-dev/greencast/processed_data/plantvillage_color/train/Tomato___Target_Spot/cd367cf2-183d-47d1-a3fb-aae802a92d9e___Com.G_TgS_FL 8410.JPG: name 'deep_extractor' is not defined\n",
            "Error processing /Users/debabratapattnayak/web-dev/greencast/processed_data/plantvillage_color/train/Potato___Late_blight/969aa93b-46d1-478c-a398-dcb4ed7d27bd___RS_LB 2870.JPG: name 'deep_extractor' is not defined\n"
          ]
        },
        {
          "name": "stderr",
          "output_type": "stream",
          "text": [
            "Extracting features:  11%|█▏        | 114/1000 [00:02<00:14, 60.50it/s]"
          ]
        },
        {
          "name": "stdout",
          "output_type": "stream",
          "text": [
            "Error processing /Users/debabratapattnayak/web-dev/greencast/processed_data/plantvillage_color/train/Orange___Haunglongbing_(Citrus_greening)/26d60a07-3bd9-44d3-9882-7b70a592f7de___UF.Citrus_HLB_Lab 1016.JPG: name 'deep_extractor' is not defined\n",
            "Error processing /Users/debabratapattnayak/web-dev/greencast/processed_data/plantvillage_color/train/Blueberry___healthy/febee391-ba76-4673-9178-0849d0382298___RS_HL 2508.JPG: name 'deep_extractor' is not defined\n",
            "Error processing /Users/debabratapattnayak/web-dev/greencast/processed_data/plantvillage_color/train/Soybean___healthy/2c8a961c-08bf-40da-bd74-7bd6d812f2e6___RS_HL 3412.JPG: name 'deep_extractor' is not defined\n",
            "Error processing /Users/debabratapattnayak/web-dev/greencast/processed_data/plantvillage_color/train/Tomato___Late_blight/0da53824-7b3b-43a9-9b34-146a7f71ef7e___RS_Late.B 6958.JPG: name 'deep_extractor' is not defined\n",
            "Error processing /Users/debabratapattnayak/web-dev/greencast/processed_data/plantvillage_color/train/Tomato___Bacterial_spot/c2a9f434-879d-49f4-9491-0b5a970e43b5___GCREC_Bact.Sp 5934.JPG: name 'deep_extractor' is not defined\n",
            "Error processing /Users/debabratapattnayak/web-dev/greencast/processed_data/plantvillage_color/train/Corn_(maize)___Northern_Leaf_Blight/1b0ee938-dc5b-44a2-9d22-37aae22aada4___RS_NLB 4129.JPG: name 'deep_extractor' is not defined\n",
            "Error processing /Users/debabratapattnayak/web-dev/greencast/processed_data/plantvillage_color/train/Potato___healthy/1a1184f8-c414-4ead-a4c4-41ae78e29a82___RS_HL 1971.JPG: name 'deep_extractor' is not defined\n",
            "Error processing /Users/debabratapattnayak/web-dev/greencast/processed_data/plantvillage_color/train/Tomato___Tomato_Yellow_Leaf_Curl_Virus/58fdcd9d-1c01-4689-88a3-e307ef358f34___YLCV_GCREC 2852.JPG: name 'deep_extractor' is not defined\n",
            "Error processing /Users/debabratapattnayak/web-dev/greencast/processed_data/plantvillage_color/train/Orange___Haunglongbing_(Citrus_greening)/73cd786e-269e-47e3-835c-aaf78e2842db___CREC_HLB 7119.JPG: name 'deep_extractor' is not defined\n",
            "Error processing /Users/debabratapattnayak/web-dev/greencast/processed_data/plantvillage_color/train/Blueberry___healthy/8216d2c7-e88e-46ae-9654-1a0e37afb8dd___RS_HL 5440.JPG: name 'deep_extractor' is not defined\n",
            "Error processing /Users/debabratapattnayak/web-dev/greencast/processed_data/plantvillage_color/train/Tomato___Tomato_Yellow_Leaf_Curl_Virus/5d7e00a2-082b-4da4-9e5a-0a8e348573c6___UF.GRC_YLCV_Lab 01359.JPG: name 'deep_extractor' is not defined\n",
            "Error processing /Users/debabratapattnayak/web-dev/greencast/processed_data/plantvillage_color/train/Tomato___healthy/275d05cf-89de-45bc-9928-ac6f242c9dd7___RS_HL 0572.JPG: name 'deep_extractor' is not defined\n"
          ]
        },
        {
          "name": "stderr",
          "output_type": "stream",
          "text": [
            "Extracting features:  12%|█▏        | 121/1000 [00:02<00:14, 60.58it/s]"
          ]
        },
        {
          "name": "stdout",
          "output_type": "stream",
          "text": [
            "Error processing /Users/debabratapattnayak/web-dev/greencast/processed_data/plantvillage_color/train/Peach___Bacterial_spot/6ef60810-911d-4f96-9fa7-7bc5064b96c5___Rutg._Bact.S 2012.JPG: name 'deep_extractor' is not defined\n",
            "Error processing /Users/debabratapattnayak/web-dev/greencast/processed_data/plantvillage_color/train/Pepper,_bell___Bacterial_spot/313c8e04-9195-4b11-9f63-72ce704f78f3___NREC_B.Spot 9245.JPG: name 'deep_extractor' is not defined\n",
            "Error processing /Users/debabratapattnayak/web-dev/greencast/processed_data/plantvillage_color/train/Corn_(maize)___healthy/13a3d820-0844-401b-87cf-9350ba351ac5___R.S_HL 7945 copy.jpg: name 'deep_extractor' is not defined\n",
            "Error processing /Users/debabratapattnayak/web-dev/greencast/processed_data/plantvillage_color/train/Tomato___Late_blight/1905cdb8-1725-4386-9d49-59f47c3e4a1b___GHLB2ES Leaf 65.JPG: name 'deep_extractor' is not defined\n",
            "Error processing /Users/debabratapattnayak/web-dev/greencast/processed_data/plantvillage_color/train/Tomato___Late_blight/71dc2643-35ec-4660-99ba-e2dbb3b82229___GHLB2 Leaf 8983.JPG: name 'deep_extractor' is not defined\n",
            "Error processing /Users/debabratapattnayak/web-dev/greencast/processed_data/plantvillage_color/train/Tomato___Septoria_leaf_spot/fc5d2094-6116-423e-9d2a-a0cc1c7b19af___Matt.S_CG 2529.JPG: name 'deep_extractor' is not defined\n",
            "Error processing /Users/debabratapattnayak/web-dev/greencast/processed_data/plantvillage_color/train/Soybean___healthy/110f2321-ebf5-43f4-aa43-36482e213c06___RS_HL 5878.JPG: name 'deep_extractor' is not defined\n",
            "Error processing /Users/debabratapattnayak/web-dev/greencast/processed_data/plantvillage_color/train/Tomato___Tomato_Yellow_Leaf_Curl_Virus/8932d275-9859-46a4-9d47-60c1a88e1112___UF.GRC_YLCV_Lab 09415.JPG: name 'deep_extractor' is not defined\n",
            "Error processing /Users/debabratapattnayak/web-dev/greencast/processed_data/plantvillage_color/train/Tomato___Spider_mites Two-spotted_spider_mite/905add43-a0f6-4dbb-a78b-d613c2e178e1___Com.G_SpM_FL 1584.JPG: name 'deep_extractor' is not defined\n",
            "Error processing /Users/debabratapattnayak/web-dev/greencast/processed_data/plantvillage_color/train/Apple___Apple_scab/a15c8e33-6b90-489e-800d-99b3056235c2___FREC_Scab 3466.JPG: name 'deep_extractor' is not defined\n",
            "Error processing /Users/debabratapattnayak/web-dev/greencast/processed_data/plantvillage_color/train/Orange___Haunglongbing_(Citrus_greening)/ebaf7f19-ef63-4797-8de6-fd36c6de86a3___CREC_HLB 7067.JPG: name 'deep_extractor' is not defined\n",
            "Error processing /Users/debabratapattnayak/web-dev/greencast/processed_data/plantvillage_color/train/Potato___Late_blight/a6f75dd1-c290-4116-be6a-e3c94e40aa2a___RS_LB 3265.JPG: name 'deep_extractor' is not defined\n",
            "Error processing /Users/debabratapattnayak/web-dev/greencast/processed_data/plantvillage_color/train/Tomato___Tomato_mosaic_virus/b8a9c9dd-fbba-41e2-b75d-7fd7f990cda0___PSU_CG 2185.JPG: name 'deep_extractor' is not defined\n"
          ]
        },
        {
          "name": "stderr",
          "output_type": "stream",
          "text": [
            "Extracting features:  14%|█▎        | 135/1000 [00:02<00:15, 56.94it/s]"
          ]
        },
        {
          "name": "stdout",
          "output_type": "stream",
          "text": [
            "Error processing /Users/debabratapattnayak/web-dev/greencast/processed_data/plantvillage_color/train/Orange___Haunglongbing_(Citrus_greening)/dbdd4c1f-8ee6-4d2e-b46b-ac347477b289___CREC_HLB 7361.JPG: name 'deep_extractor' is not defined\n",
            "Error processing /Users/debabratapattnayak/web-dev/greencast/processed_data/plantvillage_color/train/Tomato___healthy/da7db6e5-d5d5-489a-b1b2-9b3a880cebaa___RS_HL 9769.JPG: name 'deep_extractor' is not defined\n",
            "Error processing /Users/debabratapattnayak/web-dev/greencast/processed_data/plantvillage_color/train/Tomato___Spider_mites Two-spotted_spider_mite/84838a39-2c68-42ed-a423-04e4398460b6___Com.G_SpM_FL 1781.JPG: name 'deep_extractor' is not defined\n",
            "Error processing /Users/debabratapattnayak/web-dev/greencast/processed_data/plantvillage_color/train/Apple___healthy/86f3c6c0-3038-45dc-9307-3f548f20b74b___RS_HL 6318.JPG: name 'deep_extractor' is not defined\n",
            "Error processing /Users/debabratapattnayak/web-dev/greencast/processed_data/plantvillage_color/train/Pepper,_bell___Bacterial_spot/03bb7042-3fd5-42e1-aa2c-d51d6843704c___JR_B.Spot 8925.JPG: name 'deep_extractor' is not defined\n",
            "Error processing /Users/debabratapattnayak/web-dev/greencast/processed_data/plantvillage_color/train/Tomato___Tomato_Yellow_Leaf_Curl_Virus/8cec28f2-470f-4726-b080-50b68f408ee0___UF.GRC_YLCV_Lab 01796.JPG: name 'deep_extractor' is not defined\n",
            "Error processing /Users/debabratapattnayak/web-dev/greencast/processed_data/plantvillage_color/train/Tomato___healthy/14d46dfe-5348-428c-af6b-82b6625ce6c3___GH_HL Leaf 483.1.JPG: name 'deep_extractor' is not defined\n",
            "Error processing /Users/debabratapattnayak/web-dev/greencast/processed_data/plantvillage_color/train/Soybean___healthy/b8bcbd9f-0806-4b2e-a452-1c0acc7cd5d0___RS_HL 7005.JPG: name 'deep_extractor' is not defined\n",
            "Error processing /Users/debabratapattnayak/web-dev/greencast/processed_data/plantvillage_color/train/Soybean___healthy/8cece6e7-1c88-47ba-ac1a-528867411960___RS_HL 7347.JPG: name 'deep_extractor' is not defined\n",
            "Error processing /Users/debabratapattnayak/web-dev/greencast/processed_data/plantvillage_color/train/Potato___Early_blight/eec2262a-d16b-42e1-99bd-6891ef392988___RS_Early.B 7085.JPG: name 'deep_extractor' is not defined\n",
            "Error processing /Users/debabratapattnayak/web-dev/greencast/processed_data/plantvillage_color/train/Pepper,_bell___Bacterial_spot/018e494e-d2eb-468b-9d02-40219d9f4921___JR_B.Spot 9045.JPG: name 'deep_extractor' is not defined\n"
          ]
        },
        {
          "name": "stderr",
          "output_type": "stream",
          "text": [
            "Extracting features:  15%|█▍        | 149/1000 [00:02<00:14, 59.08it/s]"
          ]
        },
        {
          "name": "stdout",
          "output_type": "stream",
          "text": [
            "Error processing /Users/debabratapattnayak/web-dev/greencast/processed_data/plantvillage_color/train/Strawberry___Leaf_scorch/6050c241-121b-4f9e-8bce-25e99daa39c4___RS_L.Scorch 1066.JPG: name 'deep_extractor' is not defined\n",
            "Error processing /Users/debabratapattnayak/web-dev/greencast/processed_data/plantvillage_color/train/Cherry_(including_sour)___Powdery_mildew/d4eeefad-2e82-4a46-ab6f-a23244cc670e___FREC_Pwd.M 5042.JPG: name 'deep_extractor' is not defined\n",
            "Error processing /Users/debabratapattnayak/web-dev/greencast/processed_data/plantvillage_color/train/Blueberry___healthy/d5594b22-684c-4a5b-9a5d-b65ebc5546c3___RS_HL 0428.JPG: name 'deep_extractor' is not defined\n",
            "Error processing /Users/debabratapattnayak/web-dev/greencast/processed_data/plantvillage_color/train/Tomato___Leaf_Mold/4c439043-1b03-485d-8d88-e0b52177c248___Crnl_L.Mold 9145.JPG: name 'deep_extractor' is not defined\n",
            "Error processing /Users/debabratapattnayak/web-dev/greencast/processed_data/plantvillage_color/train/Tomato___Target_Spot/a5f763b2-2034-4df0-a69e-69e4e9137be9___Com.G_TgS_FL 0872.JPG: name 'deep_extractor' is not defined\n",
            "Error processing /Users/debabratapattnayak/web-dev/greencast/processed_data/plantvillage_color/train/Orange___Haunglongbing_(Citrus_greening)/44ff4ac9-da74-4b22-9494-c2219c5e5b1e___CREC_HLB 5048.JPG: name 'deep_extractor' is not defined\n",
            "Error processing /Users/debabratapattnayak/web-dev/greencast/processed_data/plantvillage_color/train/Tomato___Tomato_Yellow_Leaf_Curl_Virus/0a3befdb-c654-435b-b834-d3451436afd3___YLCV_NREC 2313.JPG: name 'deep_extractor' is not defined\n",
            "Error processing /Users/debabratapattnayak/web-dev/greencast/processed_data/plantvillage_color/train/Potato___Early_blight/5c3363d5-5873-40f5-b179-37ab6df0328c___RS_Early.B 8828.JPG: name 'deep_extractor' is not defined\n",
            "Error processing /Users/debabratapattnayak/web-dev/greencast/processed_data/plantvillage_color/train/Potato___Late_blight/f14f54ba-3706-4f6e-8152-01226e55c86e___RS_LB 4237.JPG: name 'deep_extractor' is not defined\n",
            "Error processing /Users/debabratapattnayak/web-dev/greencast/processed_data/plantvillage_color/train/Orange___Haunglongbing_(Citrus_greening)/72fbe104-2bcb-4fe7-8be0-b86e392b3a78___CREC_HLB 7255.JPG: name 'deep_extractor' is not defined\n",
            "Error processing /Users/debabratapattnayak/web-dev/greencast/processed_data/plantvillage_color/train/Tomato___healthy/2e96661f-a313-4deb-bf32-1eacbc10c48d___GH_HL Leaf 424.JPG: name 'deep_extractor' is not defined\n",
            "Error processing /Users/debabratapattnayak/web-dev/greencast/processed_data/plantvillage_color/train/Soybean___healthy/3696a50b-9ff2-4da1-9ab7-1ca2cc06a462___RS_HL 5326.JPG: name 'deep_extractor' is not defined\n",
            "Error processing /Users/debabratapattnayak/web-dev/greencast/processed_data/plantvillage_color/train/Grape___Esca_(Black_Measles)/e9dec9be-76c0-4a5b-a0a3-31686adc849a___FAM_B.Msls 4462.JPG: name 'deep_extractor' is not defined\n"
          ]
        },
        {
          "name": "stderr",
          "output_type": "stream",
          "text": [
            "Extracting features:  16%|█▌        | 161/1000 [00:02<00:14, 58.00it/s]"
          ]
        },
        {
          "name": "stdout",
          "output_type": "stream",
          "text": [
            "Error processing /Users/debabratapattnayak/web-dev/greencast/processed_data/plantvillage_color/train/Potato___Late_blight/f8d2bf55-3044-4d09-9372-63aa960f1881___RS_LB 2538.JPG: name 'deep_extractor' is not defined\n",
            "Error processing /Users/debabratapattnayak/web-dev/greencast/processed_data/plantvillage_color/train/Corn_(maize)___healthy/216cc3ea-7af3-4fa5-a2f6-b3845b749c85___R.S_HL 8113 copy.jpg: name 'deep_extractor' is not defined\n",
            "Error processing /Users/debabratapattnayak/web-dev/greencast/processed_data/plantvillage_color/train/Tomato___Septoria_leaf_spot/f93d5fb9-3505-456e-a494-531738e66e6d___JR_Sept.L.S 8473.JPG: name 'deep_extractor' is not defined\n",
            "Error processing /Users/debabratapattnayak/web-dev/greencast/processed_data/plantvillage_color/train/Soybean___healthy/a649e6cf-ca92-4049-bbad-3db98af40fbc___RS_HL 6533.JPG: name 'deep_extractor' is not defined\n",
            "Error processing /Users/debabratapattnayak/web-dev/greencast/processed_data/plantvillage_color/train/Blueberry___healthy/2180862e-1d01-4854-8950-d7ea79eeab44___RS_HL 5428.JPG: name 'deep_extractor' is not defined\n",
            "Error processing /Users/debabratapattnayak/web-dev/greencast/processed_data/plantvillage_color/train/Tomato___Late_blight/a41982b4-98ca-40de-a386-96e865a3dd21___RS_Late.B 6138.JPG: name 'deep_extractor' is not defined\n",
            "Error processing /Users/debabratapattnayak/web-dev/greencast/processed_data/plantvillage_color/train/Orange___Haunglongbing_(Citrus_greening)/ad000c52-c8fa-4dae-8692-e2a9e82ab4cd___CREC_HLB 4722.JPG: name 'deep_extractor' is not defined\n",
            "Error processing /Users/debabratapattnayak/web-dev/greencast/processed_data/plantvillage_color/train/Apple___healthy/a8d012ca-b1ac-45b6-b8fa-44257fd4605f___RS_HL 5824.JPG: name 'deep_extractor' is not defined\n",
            "Error processing /Users/debabratapattnayak/web-dev/greencast/processed_data/plantvillage_color/train/Orange___Haunglongbing_(Citrus_greening)/e6641373-97e3-4d7d-ba30-b19e7938dc88___CREC_HLB 6544.JPG: name 'deep_extractor' is not defined\n",
            "Error processing /Users/debabratapattnayak/web-dev/greencast/processed_data/plantvillage_color/train/Tomato___Bacterial_spot/23f67e39-1b4b-4296-a8a2-2a15890d0529___GCREC_Bact.Sp 3364.JPG: name 'deep_extractor' is not defined\n",
            "Error processing /Users/debabratapattnayak/web-dev/greencast/processed_data/plantvillage_color/train/Corn_(maize)___healthy/26f3cea7-cffe-4d2e-8e72-491a61653fb8___R.S_HL 0626 copy 3.jpg: name 'deep_extractor' is not defined\n",
            "Error processing /Users/debabratapattnayak/web-dev/greencast/processed_data/plantvillage_color/train/Peach___Bacterial_spot/6724872d-de5a-4764-9e16-3ca228343801___Rutg._Bact.S 1119.JPG: name 'deep_extractor' is not defined\n"
          ]
        },
        {
          "name": "stderr",
          "output_type": "stream",
          "text": [
            "Extracting features:  18%|█▊        | 175/1000 [00:03<00:13, 60.13it/s]"
          ]
        },
        {
          "name": "stdout",
          "output_type": "stream",
          "text": [
            "Error processing /Users/debabratapattnayak/web-dev/greencast/processed_data/plantvillage_color/train/Tomato___Tomato_Yellow_Leaf_Curl_Virus/4bebb8b8-3b71-48ce-9636-354b8dc63780___UF.GRC_YLCV_Lab 02587.JPG: name 'deep_extractor' is not defined\n",
            "Error processing /Users/debabratapattnayak/web-dev/greencast/processed_data/plantvillage_color/train/Tomato___Spider_mites Two-spotted_spider_mite/2ac9a09c-b68a-4dba-a5c9-ae740fc9b8d4___Com.G_SpM_FL 9651.JPG: name 'deep_extractor' is not defined\n",
            "Error processing /Users/debabratapattnayak/web-dev/greencast/processed_data/plantvillage_color/train/Tomato___Bacterial_spot/a75ed4a7-c1c6-4c44-ab20-61326f59021b___GCREC_Bact.Sp 3587.JPG: name 'deep_extractor' is not defined\n",
            "Error processing /Users/debabratapattnayak/web-dev/greencast/processed_data/plantvillage_color/train/Blueberry___healthy/871fafca-df51-4c0c-aa02-bc8af0c86915___RS_HL 2575.JPG: name 'deep_extractor' is not defined\n",
            "Error processing /Users/debabratapattnayak/web-dev/greencast/processed_data/plantvillage_color/train/Tomato___Early_blight/16ae1b64-2954-4135-bea5-d599ba56740c___RS_Erly.B 7649.JPG: name 'deep_extractor' is not defined\n",
            "Error processing /Users/debabratapattnayak/web-dev/greencast/processed_data/plantvillage_color/train/Tomato___Tomato_Yellow_Leaf_Curl_Virus/9ed1ed8f-fb3a-4251-b396-c87da655c4fc___YLCV_GCREC 5505.JPG: name 'deep_extractor' is not defined\n",
            "Error processing /Users/debabratapattnayak/web-dev/greencast/processed_data/plantvillage_color/train/Grape___Leaf_blight_(Isariopsis_Leaf_Spot)/87738ce1-94f8-45bf-95e0-9836abc0f5aa___FAM_L.Blight 1446.JPG: name 'deep_extractor' is not defined\n",
            "Error processing /Users/debabratapattnayak/web-dev/greencast/processed_data/plantvillage_color/train/Grape___Black_rot/4fa94bfb-d2d9-448e-b3f5-498ed75e467b___FAM_B.Rot 0507.JPG: name 'deep_extractor' is not defined\n",
            "Error processing /Users/debabratapattnayak/web-dev/greencast/processed_data/plantvillage_color/train/Apple___healthy/8f4c3d68-2d5a-40c5-bca1-911002ff3324___RS_HL 7299.JPG: name 'deep_extractor' is not defined\n",
            "Error processing /Users/debabratapattnayak/web-dev/greencast/processed_data/plantvillage_color/train/Strawberry___Leaf_scorch/d2d6b4e7-806e-43ce-bf1b-d73c887c7bc3___RS_L.Scorch 0059.JPG: name 'deep_extractor' is not defined\n",
            "Error processing /Users/debabratapattnayak/web-dev/greencast/processed_data/plantvillage_color/train/Blueberry___healthy/0de3ce73-4dab-4c65-b931-155dc2a687b5___RS_HL 0478.JPG: name 'deep_extractor' is not defined\n",
            "Error processing /Users/debabratapattnayak/web-dev/greencast/processed_data/plantvillage_color/train/Orange___Haunglongbing_(Citrus_greening)/55988310-4c4e-4923-a789-035f4403da09___UF.Citrus_HLB_Lab 1231.JPG: name 'deep_extractor' is not defined\n",
            "Error processing /Users/debabratapattnayak/web-dev/greencast/processed_data/plantvillage_color/train/Orange___Haunglongbing_(Citrus_greening)/6692ab8b-1fd1-48fc-8bf3-a4f1dbeac570___CREC_HLB 5435.JPG: name 'deep_extractor' is not defined\n"
          ]
        },
        {
          "name": "stderr",
          "output_type": "stream",
          "text": [
            "Extracting features:  18%|█▊        | 182/1000 [00:03<00:16, 50.93it/s]"
          ]
        },
        {
          "name": "stdout",
          "output_type": "stream",
          "text": [
            "Error processing /Users/debabratapattnayak/web-dev/greencast/processed_data/plantvillage_color/train/Potato___Late_blight/4a34ce1c-9fde-4707-947a-58432a695741___RS_LB 3277.JPG: name 'deep_extractor' is not defined\n",
            "Error processing /Users/debabratapattnayak/web-dev/greencast/processed_data/plantvillage_color/train/Grape___Leaf_blight_(Isariopsis_Leaf_Spot)/be5bf9f6-5a93-4cec-a7cd-b94c865ecf0c___FAM_L.Blight 4908.JPG: name 'deep_extractor' is not defined\n",
            "Error processing /Users/debabratapattnayak/web-dev/greencast/processed_data/plantvillage_color/train/Cherry_(including_sour)___healthy/1ffc094d-131a-481d-a888-0965c3da7e65___JR_HL 9883 copy.JPG: name 'deep_extractor' is not defined\n",
            "Error processing /Users/debabratapattnayak/web-dev/greencast/processed_data/plantvillage_color/train/Apple___healthy/deec00ab-1c30-441b-b6c0-9dd0dec827f4___RS_HL 6327.JPG: name 'deep_extractor' is not defined\n",
            "Error processing /Users/debabratapattnayak/web-dev/greencast/processed_data/plantvillage_color/train/Apple___healthy/08aaa4e8-ed92-49d3-9ac3-1f6c59740017___RS_HL 7701.JPG: name 'deep_extractor' is not defined\n",
            "Error processing /Users/debabratapattnayak/web-dev/greencast/processed_data/plantvillage_color/train/Soybean___healthy/eb8cfd26-bc41-4a4a-ace8-dac9882ad396___RS_HL 5677.JPG: name 'deep_extractor' is not defined\n",
            "Error processing /Users/debabratapattnayak/web-dev/greencast/processed_data/plantvillage_color/train/Peach___Bacterial_spot/3a26119f-a70d-484e-b769-50fb1174f898___Rut._Bact.S 3357.JPG: name 'deep_extractor' is not defined\n",
            "Error processing /Users/debabratapattnayak/web-dev/greencast/processed_data/plantvillage_color/train/Corn_(maize)___healthy/e3881e5b-b266-413d-89fd-4ee6eca1f00b___R.S_HL 0646 copy 4.jpg: name 'deep_extractor' is not defined\n"
          ]
        },
        {
          "name": "stderr",
          "output_type": "stream",
          "text": [
            "Extracting features:  19%|█▉        | 194/1000 [00:03<00:15, 52.39it/s]"
          ]
        },
        {
          "name": "stdout",
          "output_type": "stream",
          "text": [
            "Error processing /Users/debabratapattnayak/web-dev/greencast/processed_data/plantvillage_color/train/Tomato___Bacterial_spot/a1ac8962-f625-4f06-b896-5ee4e5c2fcc8___UF.GRC_BS_Lab Leaf 0666.JPG: name 'deep_extractor' is not defined\n",
            "Error processing /Users/debabratapattnayak/web-dev/greencast/processed_data/plantvillage_color/train/Corn_(maize)___healthy/d5a1d7a3-ac25-4f41-b51c-d8e675909775___R.S_HL 8132 copy.jpg: name 'deep_extractor' is not defined\n",
            "Error processing /Users/debabratapattnayak/web-dev/greencast/processed_data/plantvillage_color/train/Corn_(maize)___healthy/e753f9e0-cfa5-482f-a361-ab3ad2ab151e___R.S_HL 7921 copy 2.jpg: name 'deep_extractor' is not defined\n",
            "Error processing /Users/debabratapattnayak/web-dev/greencast/processed_data/plantvillage_color/train/Squash___Powdery_mildew/fc21c623-0fb7-4ad0-b405-776a78500e9d___UMD_Powd.M 0504.JPG: name 'deep_extractor' is not defined\n",
            "Error processing /Users/debabratapattnayak/web-dev/greencast/processed_data/plantvillage_color/train/Orange___Haunglongbing_(Citrus_greening)/63f5fb0a-95c9-45ab-9972-58f7b8d793ae___UF.Citrus_HLB_Lab 1238.JPG: name 'deep_extractor' is not defined\n",
            "Error processing /Users/debabratapattnayak/web-dev/greencast/processed_data/plantvillage_color/train/Tomato___Early_blight/803ac166-670f-4cad-9f37-e36eea3118d9___RS_Erly.B 9457.JPG: name 'deep_extractor' is not defined\n",
            "Error processing /Users/debabratapattnayak/web-dev/greencast/processed_data/plantvillage_color/train/Corn_(maize)___Common_rust_/RS_Rust 2642.JPG: name 'deep_extractor' is not defined\n",
            "Error processing /Users/debabratapattnayak/web-dev/greencast/processed_data/plantvillage_color/train/Tomato___Tomato_Yellow_Leaf_Curl_Virus/f9fe9399-5c63-4a75-b9c4-83e4e79e25fb___YLCV_GCREC 2134.JPG: name 'deep_extractor' is not defined\n",
            "Error processing /Users/debabratapattnayak/web-dev/greencast/processed_data/plantvillage_color/train/Tomato___Septoria_leaf_spot/f097ffb6-610d-4801-a303-5d60ff24fafa___Matt.S_CG 6294.JPG: name 'deep_extractor' is not defined\n",
            "Error processing /Users/debabratapattnayak/web-dev/greencast/processed_data/plantvillage_color/train/Orange___Haunglongbing_(Citrus_greening)/07e7e2b4-4aca-48d8-a384-8e48362e92c8___CREC_HLB 5296.JPG: name 'deep_extractor' is not defined\n",
            "Error processing /Users/debabratapattnayak/web-dev/greencast/processed_data/plantvillage_color/train/Corn_(maize)___Cercospora_leaf_spot Gray_leaf_spot/06e94cd0-fe77-4af0-b4ae-664fcd78cfff___RS_GLSp 4656.JPG: name 'deep_extractor' is not defined\n",
            "Error processing /Users/debabratapattnayak/web-dev/greencast/processed_data/plantvillage_color/train/Peach___Bacterial_spot/41797a1b-7683-476e-9138-b8f1c67ff372___Rutg._Bact.S 1213.JPG: name 'deep_extractor' is not defined\n"
          ]
        },
        {
          "name": "stderr",
          "output_type": "stream",
          "text": [
            "Extracting features:  21%|██        | 208/1000 [00:03<00:13, 57.10it/s]"
          ]
        },
        {
          "name": "stdout",
          "output_type": "stream",
          "text": [
            "Error processing /Users/debabratapattnayak/web-dev/greencast/processed_data/plantvillage_color/train/Tomato___Septoria_leaf_spot/67d141c6-be7a-4f3d-9c4f-b667ca41ebd4___Keller.St_CG 1838.JPG: name 'deep_extractor' is not defined\n",
            "Error processing /Users/debabratapattnayak/web-dev/greencast/processed_data/plantvillage_color/train/Pepper,_bell___Bacterial_spot/fa1c19f6-4e9e-4452-ad0d-99f65d5c9909___NREC_B.Spot 1960.JPG: name 'deep_extractor' is not defined\n",
            "Error processing /Users/debabratapattnayak/web-dev/greencast/processed_data/plantvillage_color/train/Tomato___Tomato_Yellow_Leaf_Curl_Virus/e8f4d4ff-4266-4fc6-ac92-70cebc21f98e___UF.GRC_YLCV_Lab 03291.JPG: name 'deep_extractor' is not defined\n",
            "Error processing /Users/debabratapattnayak/web-dev/greencast/processed_data/plantvillage_color/train/Tomato___Early_blight/5bbfc062-042e-4929-98ba-fd034a03092d___RS_Erly.B 7581.JPG: name 'deep_extractor' is not defined\n",
            "Error processing /Users/debabratapattnayak/web-dev/greencast/processed_data/plantvillage_color/train/Cherry_(including_sour)___healthy/27e87eee-b10f-4eee-a4fe-3f30561636d0___JR_HL 9577.JPG: name 'deep_extractor' is not defined\n",
            "Error processing /Users/debabratapattnayak/web-dev/greencast/processed_data/plantvillage_color/train/Pepper,_bell___Bacterial_spot/948bc0e0-8552-426a-898f-270b9573c28f___NREC_B.Spot 9062.JPG: name 'deep_extractor' is not defined\n",
            "Error processing /Users/debabratapattnayak/web-dev/greencast/processed_data/plantvillage_color/train/Corn_(maize)___Common_rust_/RS_Rust 2480.JPG: name 'deep_extractor' is not defined\n",
            "Error processing /Users/debabratapattnayak/web-dev/greencast/processed_data/plantvillage_color/train/Tomato___Leaf_Mold/45c5b434-5849-4d00-99bf-c0d54088c6f6___Crnl_L.Mold 9100.JPG: name 'deep_extractor' is not defined\n",
            "Error processing /Users/debabratapattnayak/web-dev/greencast/processed_data/plantvillage_color/train/Grape___Leaf_blight_(Isariopsis_Leaf_Spot)/77729f62-7bdf-4220-bdca-b3eb4dcd2071___FAM_L.Blight 3769.JPG: name 'deep_extractor' is not defined\n",
            "Error processing /Users/debabratapattnayak/web-dev/greencast/processed_data/plantvillage_color/train/Soybean___healthy/798e1dd6-5517-44d6-8e96-264f684096d6___RS_HL 4528.JPG: name 'deep_extractor' is not defined\n",
            "Error processing /Users/debabratapattnayak/web-dev/greencast/processed_data/plantvillage_color/train/Grape___Black_rot/ba8af5e5-aadb-41f5-b08d-6d8c8cdce302___FAM_B.Rot 0513.JPG: name 'deep_extractor' is not defined\n",
            "Error processing /Users/debabratapattnayak/web-dev/greencast/processed_data/plantvillage_color/train/Potato___Early_blight/89b2e456-737b-4020-b788-c3f6a4927e69___RS_Early.B 7371.JPG: name 'deep_extractor' is not defined\n",
            "Error processing /Users/debabratapattnayak/web-dev/greencast/processed_data/plantvillage_color/train/Squash___Powdery_mildew/945467d8-be2e-4147-86bb-e555b3ae6122___UMD_Powd.M 0643.JPG: name 'deep_extractor' is not defined\n"
          ]
        },
        {
          "name": "stderr",
          "output_type": "stream",
          "text": [
            "Extracting features:  22%|██▏       | 220/1000 [00:03<00:13, 57.41it/s]"
          ]
        },
        {
          "name": "stdout",
          "output_type": "stream",
          "text": [
            "Error processing /Users/debabratapattnayak/web-dev/greencast/processed_data/plantvillage_color/train/Tomato___Tomato_Yellow_Leaf_Curl_Virus/5b42e630-6c2d-4991-bbd6-643c9c465e71___UF.GRC_YLCV_Lab 02382.JPG: name 'deep_extractor' is not defined\n",
            "Error processing /Users/debabratapattnayak/web-dev/greencast/processed_data/plantvillage_color/train/Tomato___Bacterial_spot/ed618153-da70-475f-be98-cc2b9c28214b___GCREC_Bact.Sp 6211.JPG: name 'deep_extractor' is not defined\n",
            "Error processing /Users/debabratapattnayak/web-dev/greencast/processed_data/plantvillage_color/train/Apple___healthy/5a0aa782-76a8-4de9-89e9-47cb35d222e3___RS_HL 6310.JPG: name 'deep_extractor' is not defined\n",
            "Error processing /Users/debabratapattnayak/web-dev/greencast/processed_data/plantvillage_color/train/Apple___Apple_scab/e8fc927f-fac2-4386-be3c-0a8ad0ddd83d___FREC_Scab 3292.JPG: name 'deep_extractor' is not defined\n",
            "Error processing /Users/debabratapattnayak/web-dev/greencast/processed_data/plantvillage_color/train/Squash___Powdery_mildew/c5a734cc-e387-4a6a-b63c-b760f03b89a7___MD_Powd.M 9991.JPG: name 'deep_extractor' is not defined\n",
            "Error processing /Users/debabratapattnayak/web-dev/greencast/processed_data/plantvillage_color/train/Peach___Bacterial_spot/0fa4f280-116d-4aa9-a11f-5246b0d3d657___Rut._Bact.S 3466.JPG: name 'deep_extractor' is not defined\n",
            "Error processing /Users/debabratapattnayak/web-dev/greencast/processed_data/plantvillage_color/train/Orange___Haunglongbing_(Citrus_greening)/4611da07-e599-4a70-86db-b0ce2ad02a28___UF.Citrus_HLB_Lab 1288.JPG: name 'deep_extractor' is not defined\n",
            "Error processing /Users/debabratapattnayak/web-dev/greencast/processed_data/plantvillage_color/train/Tomato___Bacterial_spot/083959e5-833b-4c10-9215-0b0aca81c8ca___UF.GRC_BS_Lab Leaf 0297.JPG: name 'deep_extractor' is not defined\n",
            "Error processing /Users/debabratapattnayak/web-dev/greencast/processed_data/plantvillage_color/train/Orange___Haunglongbing_(Citrus_greening)/987df944-ac48-4b0c-9287-dfa8e3019471___CREC_HLB 7599.JPG: name 'deep_extractor' is not defined\n",
            "Error processing /Users/debabratapattnayak/web-dev/greencast/processed_data/plantvillage_color/train/Tomato___Tomato_Yellow_Leaf_Curl_Virus/0ffb7a14-85d7-4b84-afde-59ed5d86b0e1___YLCV_NREC 2945.JPG: name 'deep_extractor' is not defined\n",
            "Error processing /Users/debabratapattnayak/web-dev/greencast/processed_data/plantvillage_color/train/Tomato___Late_blight/07672c2f-860a-455f-9fa4-f761f4bc090e___RS_Late.B 5017.JPG: name 'deep_extractor' is not defined\n",
            "Error processing /Users/debabratapattnayak/web-dev/greencast/processed_data/plantvillage_color/train/Peach___Bacterial_spot/24f42e90-e7e7-4408-a162-1a93ebee02a1___Rut._Bact.S 1066.JPG: name 'deep_extractor' is not defined\n"
          ]
        },
        {
          "name": "stderr",
          "output_type": "stream",
          "text": [
            "Extracting features:  23%|██▎       | 232/1000 [00:04<00:14, 53.44it/s]"
          ]
        },
        {
          "name": "stdout",
          "output_type": "stream",
          "text": [
            "Error processing /Users/debabratapattnayak/web-dev/greencast/processed_data/plantvillage_color/train/Tomato___Tomato_Yellow_Leaf_Curl_Virus/be196402-8d61-4ca3-99a0-c77020d2b5c7___YLCV_GCREC 5397.JPG: name 'deep_extractor' is not defined\n",
            "Error processing /Users/debabratapattnayak/web-dev/greencast/processed_data/plantvillage_color/train/Pepper,_bell___healthy/cecbb89b-d8d9-4dbf-bf01-99021523c945___JR_HL 8629.JPG: name 'deep_extractor' is not defined\n",
            "Error processing /Users/debabratapattnayak/web-dev/greencast/processed_data/plantvillage_color/train/Grape___Black_rot/b7df7350-df6a-4c70-8f77-21bc218442c9___FAM_B.Rot 3200.JPG: name 'deep_extractor' is not defined\n",
            "Error processing /Users/debabratapattnayak/web-dev/greencast/processed_data/plantvillage_color/train/Soybean___healthy/6efa54da-b2e8-4736-a077-1c25961f9e8a___RS_HL 6448.JPG: name 'deep_extractor' is not defined\n",
            "Error processing /Users/debabratapattnayak/web-dev/greencast/processed_data/plantvillage_color/train/Tomato___Late_blight/22686908-57fc-4567-92c4-e736d90744b4___GHLB2 Leaf 8590.JPG: name 'deep_extractor' is not defined\n",
            "Error processing /Users/debabratapattnayak/web-dev/greencast/processed_data/plantvillage_color/train/Cherry_(including_sour)___healthy/e97b5080-6218-4090-a227-dbabab0923da___JR_HL 9598.JPG: name 'deep_extractor' is not defined\n",
            "Error processing /Users/debabratapattnayak/web-dev/greencast/processed_data/plantvillage_color/train/Squash___Powdery_mildew/2f4ed346-89bb-4ab6-aa0e-1f0195f3dd12___MD_Powd.M 0519.JPG: name 'deep_extractor' is not defined\n",
            "Error processing /Users/debabratapattnayak/web-dev/greencast/processed_data/plantvillage_color/train/Tomato___Target_Spot/cb6ab433-8af6-480f-889a-e5e53df5992c___Com.G_TgS_FL 8184.JPG: name 'deep_extractor' is not defined\n",
            "Error processing /Users/debabratapattnayak/web-dev/greencast/processed_data/plantvillage_color/train/Grape___Black_rot/c2c50cb0-e553-432d-8a51-71daf24d5332___FAM_B.Rot 0735.JPG: name 'deep_extractor' is not defined\n",
            "Error processing /Users/debabratapattnayak/web-dev/greencast/processed_data/plantvillage_color/train/Corn_(maize)___Cercospora_leaf_spot Gray_leaf_spot/c43e45f2-4d0b-4a15-a598-d6e64c228981___RS_GLSp 4340.JPG: name 'deep_extractor' is not defined\n",
            "Error processing /Users/debabratapattnayak/web-dev/greencast/processed_data/plantvillage_color/train/Orange___Haunglongbing_(Citrus_greening)/8b585f6a-62ca-488d-a4d7-75f60c8b6886___CREC_HLB 4359.JPG: name 'deep_extractor' is not defined\n"
          ]
        },
        {
          "name": "stderr",
          "output_type": "stream",
          "text": [
            "Extracting features:  24%|██▍       | 238/1000 [00:04<00:16, 47.56it/s]"
          ]
        },
        {
          "name": "stdout",
          "output_type": "stream",
          "text": [
            "Error processing /Users/debabratapattnayak/web-dev/greencast/processed_data/plantvillage_color/train/Apple___healthy/405ca310-f708-4815-b121-5bb315d98f6f___RS_HL 6122.JPG: name 'deep_extractor' is not defined\n",
            "Error processing /Users/debabratapattnayak/web-dev/greencast/processed_data/plantvillage_color/train/Cherry_(including_sour)___healthy/914024a5-989c-46b2-83bb-5fe06421eb8b___JR_HL 9524.JPG: name 'deep_extractor' is not defined\n",
            "Error processing /Users/debabratapattnayak/web-dev/greencast/processed_data/plantvillage_color/train/Tomato___Target_Spot/4b98528b-25af-4f6d-b094-9b69eac52082___Com.G_TgS_FL 0932.JPG: name 'deep_extractor' is not defined\n",
            "Error processing /Users/debabratapattnayak/web-dev/greencast/processed_data/plantvillage_color/train/Squash___Powdery_mildew/e76e069c-8e9c-4d2e-a2cf-5b84683f8c1e___MD_Powd.M 0124.JPG: name 'deep_extractor' is not defined\n",
            "Error processing /Users/debabratapattnayak/web-dev/greencast/processed_data/plantvillage_color/train/Tomato___Leaf_Mold/697ae68d-7932-4320-a28e-c8228cd23f50___Crnl_L.Mold 8629.JPG: name 'deep_extractor' is not defined\n",
            "Error processing /Users/debabratapattnayak/web-dev/greencast/processed_data/plantvillage_color/train/Soybean___healthy/71ce143e-92c9-4e9b-847f-b7cc5d8dbd84___RS_HL 4770.JPG: name 'deep_extractor' is not defined\n",
            "Error processing /Users/debabratapattnayak/web-dev/greencast/processed_data/plantvillage_color/train/Pepper,_bell___Bacterial_spot/9e51a122-2ee0-476d-9a0e-a7f059dfd290___NREC_B.Spot 1878.JPG: name 'deep_extractor' is not defined\n",
            "Error processing /Users/debabratapattnayak/web-dev/greencast/processed_data/plantvillage_color/train/Potato___Late_blight/b8b4064f-208a-46f9-b13e-5096fdbdb429___RS_LB 2591.JPG: name 'deep_extractor' is not defined\n",
            "Error processing /Users/debabratapattnayak/web-dev/greencast/processed_data/plantvillage_color/train/Tomato___Spider_mites Two-spotted_spider_mite/b510ecb5-48ec-4a3d-ac9d-7b19400542fd___Com.G_SpM_FL 8758.JPG: name 'deep_extractor' is not defined\n",
            "Error processing /Users/debabratapattnayak/web-dev/greencast/processed_data/plantvillage_color/train/Tomato___Tomato_Yellow_Leaf_Curl_Virus/ae4cad0b-630b-4b14-b6f4-1672c87f8e59___UF.GRC_YLCV_Lab 09374.JPG: name 'deep_extractor' is not defined\n",
            "Error processing /Users/debabratapattnayak/web-dev/greencast/processed_data/plantvillage_color/train/Raspberry___healthy/18333c95-ee6e-4af6-be83-a98f3ed68ccf___Mary_HL 9350.JPG: name 'deep_extractor' is not defined\n"
          ]
        },
        {
          "name": "stderr",
          "output_type": "stream",
          "text": [
            "Extracting features:  25%|██▌       | 250/1000 [00:04<00:15, 49.39it/s]"
          ]
        },
        {
          "name": "stdout",
          "output_type": "stream",
          "text": [
            "Error processing /Users/debabratapattnayak/web-dev/greencast/processed_data/plantvillage_color/train/Tomato___Septoria_leaf_spot/3d42d770-69c1-421e-ae00-56f8d0bd500f___Matt.S_CG 7414.JPG: name 'deep_extractor' is not defined\n",
            "Error processing /Users/debabratapattnayak/web-dev/greencast/processed_data/plantvillage_color/train/Tomato___Septoria_leaf_spot/d5380a5d-03bb-46d1-ae25-b245f3eec822___Matt.S_CG 7626.JPG: name 'deep_extractor' is not defined\n",
            "Error processing /Users/debabratapattnayak/web-dev/greencast/processed_data/plantvillage_color/train/Tomato___Early_blight/6797ee0c-20a8-4a39-ab57-f65eb9c57885___RS_Erly.B 7647.JPG: name 'deep_extractor' is not defined\n",
            "Error processing /Users/debabratapattnayak/web-dev/greencast/processed_data/plantvillage_color/train/Tomato___Septoria_leaf_spot/4c764c63-9353-46cc-9afb-08de31110043___Matt.S_CG 7535.JPG: name 'deep_extractor' is not defined\n",
            "Error processing /Users/debabratapattnayak/web-dev/greencast/processed_data/plantvillage_color/train/Tomato___healthy/9b5c0a85-5a16-4589-ae76-ef4247e78663___RS_HL 0281.JPG: name 'deep_extractor' is not defined\n",
            "Error processing /Users/debabratapattnayak/web-dev/greencast/processed_data/plantvillage_color/train/Potato___Late_blight/fff55a7e-2f86-4747-8d31-f1fde3c307aa___RS_LB 3081.JPG: name 'deep_extractor' is not defined\n",
            "Error processing /Users/debabratapattnayak/web-dev/greencast/processed_data/plantvillage_color/train/Orange___Haunglongbing_(Citrus_greening)/df42354d-f88c-48c2-9db5-6442a16c0f15___UF.Citrus_HLB_Lab 0840.JPG: name 'deep_extractor' is not defined\n",
            "Error processing /Users/debabratapattnayak/web-dev/greencast/processed_data/plantvillage_color/train/Corn_(maize)___healthy/5d0e77eb-3821-403d-897d-5da32bd13656___R.S_HL 5513 copy 2.jpg: name 'deep_extractor' is not defined\n",
            "Error processing /Users/debabratapattnayak/web-dev/greencast/processed_data/plantvillage_color/train/Tomato___Spider_mites Two-spotted_spider_mite/ddee4e2d-6500-4bb7-baa8-e938dae78751___Com.G_SpM_FL 1504.JPG: name 'deep_extractor' is not defined\n",
            "Error processing /Users/debabratapattnayak/web-dev/greencast/processed_data/plantvillage_color/train/Pepper,_bell___Bacterial_spot/87606a4a-7b9b-404f-af47-2cd43498d8a2___NREC_B.Spot 1924.JPG: name 'deep_extractor' is not defined\n",
            "Error processing /Users/debabratapattnayak/web-dev/greencast/processed_data/plantvillage_color/train/Orange___Haunglongbing_(Citrus_greening)/989f33a3-2c08-4229-8377-2a0ce4f90d5d___CREC_HLB 5388.JPG: name 'deep_extractor' is not defined\n"
          ]
        },
        {
          "name": "stderr",
          "output_type": "stream",
          "text": [
            "Extracting features:  26%|██▌       | 262/1000 [00:04<00:14, 51.73it/s]"
          ]
        },
        {
          "name": "stdout",
          "output_type": "stream",
          "text": [
            "Error processing /Users/debabratapattnayak/web-dev/greencast/processed_data/plantvillage_color/train/Raspberry___healthy/cd638182-5de8-428f-a1d5-8af938f5d280___Mary_HL 9264.JPG: name 'deep_extractor' is not defined\n",
            "Error processing /Users/debabratapattnayak/web-dev/greencast/processed_data/plantvillage_color/train/Soybean___healthy/febba321-0edc-45eb-8c8d-d868f5666338___RS_HL 5609 1.JPG: name 'deep_extractor' is not defined\n",
            "Error processing /Users/debabratapattnayak/web-dev/greencast/processed_data/plantvillage_color/train/Tomato___Tomato_Yellow_Leaf_Curl_Virus/59571b59-e618-47fe-8294-fed42e841cc9___UF.GRC_YLCV_Lab 09359.JPG: name 'deep_extractor' is not defined\n",
            "Error processing /Users/debabratapattnayak/web-dev/greencast/processed_data/plantvillage_color/train/Tomato___Late_blight/359ad718-024d-4c9e-b871-4144ca25da76___GHLB_PS Leaf 23.1 Day 13.jpg: name 'deep_extractor' is not defined\n",
            "Error processing /Users/debabratapattnayak/web-dev/greencast/processed_data/plantvillage_color/train/Peach___Bacterial_spot/dffddb15-fda1-41c6-95e3-2604b5131d77___Rut._Bact.S 1436.JPG: name 'deep_extractor' is not defined\n",
            "Error processing /Users/debabratapattnayak/web-dev/greencast/processed_data/plantvillage_color/train/Tomato___Septoria_leaf_spot/81a9e9ba-423d-4fd1-b5ee-8bc655a01df7___JR_Sept.L.S 8483.JPG: name 'deep_extractor' is not defined\n",
            "Error processing /Users/debabratapattnayak/web-dev/greencast/processed_data/plantvillage_color/train/Squash___Powdery_mildew/232c9303-ca3c-4da5-9ba3-a9b954bb99ff___UMD_Powd.M 0674.JPG: name 'deep_extractor' is not defined\n",
            "Error processing /Users/debabratapattnayak/web-dev/greencast/processed_data/plantvillage_color/train/Tomato___Early_blight/671586ac-ff93-4825-b6a5-4b7bc7cbbff2___RS_Erly.B 9531.JPG: name 'deep_extractor' is not defined\n",
            "Error processing /Users/debabratapattnayak/web-dev/greencast/processed_data/plantvillage_color/train/Potato___Early_blight/467991cb-4b55-4b00-9b18-7ff5efdd7adf___RS_Early.B 7290.JPG: name 'deep_extractor' is not defined\n",
            "Error processing /Users/debabratapattnayak/web-dev/greencast/processed_data/plantvillage_color/train/Orange___Haunglongbing_(Citrus_greening)/dd11dfe7-4927-4b6b-8879-ec2ff5385793___UF.Citrus_HLB_Lab 1403.JPG: name 'deep_extractor' is not defined\n",
            "Error processing /Users/debabratapattnayak/web-dev/greencast/processed_data/plantvillage_color/train/Tomato___Late_blight/4aeaacd8-ff6e-4d01-86d1-0a51c626cc99___GHLB2 Leaf 8943.JPG: name 'deep_extractor' is not defined\n",
            "Error processing /Users/debabratapattnayak/web-dev/greencast/processed_data/plantvillage_color/train/Tomato___Leaf_Mold/20bfb40a-3fac-43d0-8864-feb28b97b9cd___Crnl_L.Mold 6849.JPG: name 'deep_extractor' is not defined\n"
          ]
        },
        {
          "name": "stderr",
          "output_type": "stream",
          "text": [
            "Extracting features:  28%|██▊       | 276/1000 [00:04<00:12, 56.64it/s]"
          ]
        },
        {
          "name": "stdout",
          "output_type": "stream",
          "text": [
            "Error processing /Users/debabratapattnayak/web-dev/greencast/processed_data/plantvillage_color/train/Tomato___Septoria_leaf_spot/446e3268-4075-46d3-ba0d-965ed3c27918___JR_Sept.L.S 8463.JPG: name 'deep_extractor' is not defined\n",
            "Error processing /Users/debabratapattnayak/web-dev/greencast/processed_data/plantvillage_color/train/Grape___Esca_(Black_Measles)/c1fdb0d9-6fac-4c64-b520-cb73709e6536___FAM_B.Msls 1224.JPG: name 'deep_extractor' is not defined\n",
            "Error processing /Users/debabratapattnayak/web-dev/greencast/processed_data/plantvillage_color/train/Tomato___healthy/c60749f0-0791-49ad-a144-503d5e968746___RS_HL 0483.JPG: name 'deep_extractor' is not defined\n",
            "Error processing /Users/debabratapattnayak/web-dev/greencast/processed_data/plantvillage_color/train/Peach___Bacterial_spot/dc154558-7441-47ed-b38e-69f02a3e9901___Rutg._Bact.S 2180.JPG: name 'deep_extractor' is not defined\n",
            "Error processing /Users/debabratapattnayak/web-dev/greencast/processed_data/plantvillage_color/train/Corn_(maize)___Northern_Leaf_Blight/85f5a1b1-18bb-492e-834b-b908bebd3607___RS_NLB 0772.JPG: name 'deep_extractor' is not defined\n",
            "Error processing /Users/debabratapattnayak/web-dev/greencast/processed_data/plantvillage_color/train/Tomato___healthy/4ce6844e-2a92-47aa-9115-0eb1a9a0611c___GH_HL Leaf 464.1.JPG: name 'deep_extractor' is not defined\n",
            "Error processing /Users/debabratapattnayak/web-dev/greencast/processed_data/plantvillage_color/train/Apple___healthy/1e59b25e-551a-4343-a551-cd03abdb5cac___RS_HL 7376.JPG: name 'deep_extractor' is not defined\n",
            "Error processing /Users/debabratapattnayak/web-dev/greencast/processed_data/plantvillage_color/train/Corn_(maize)___Northern_Leaf_Blight/30749f41-c345-4c08-b3a8-12bd37d492e1___RS_NLB 3738.JPG: name 'deep_extractor' is not defined\n",
            "Error processing /Users/debabratapattnayak/web-dev/greencast/processed_data/plantvillage_color/train/Tomato___healthy/b2e63ab4-09d6-4b43-8767-6ce042e080b5___RS_HL 0309.JPG: name 'deep_extractor' is not defined\n",
            "Error processing /Users/debabratapattnayak/web-dev/greencast/processed_data/plantvillage_color/train/Apple___healthy/0bb2ddc5-d1f4-4fc2-be6b-6b63c60790df___RS_HL 7550.JPG: name 'deep_extractor' is not defined\n",
            "Error processing /Users/debabratapattnayak/web-dev/greencast/processed_data/plantvillage_color/train/Blueberry___healthy/83de5ea9-7957-4d6a-86b8-7be99e66c83e___RS_HL 0333.JPG: name 'deep_extractor' is not defined\n",
            "Error processing /Users/debabratapattnayak/web-dev/greencast/processed_data/plantvillage_color/train/Grape___Black_rot/351a2629-8312-47fe-be70-2cd33d7548b5___FAM_B.Rot 3390.JPG: name 'deep_extractor' is not defined\n",
            "Error processing /Users/debabratapattnayak/web-dev/greencast/processed_data/plantvillage_color/train/Peach___healthy/7db068a6-dcc1-463c-81a8-8dba4f994192___Rutg._HL 2443.JPG: name 'deep_extractor' is not defined\n"
          ]
        },
        {
          "name": "stderr",
          "output_type": "stream",
          "text": [
            "Extracting features:  29%|██▉       | 290/1000 [00:05<00:11, 59.76it/s]"
          ]
        },
        {
          "name": "stdout",
          "output_type": "stream",
          "text": [
            "Error processing /Users/debabratapattnayak/web-dev/greencast/processed_data/plantvillage_color/train/Orange___Haunglongbing_(Citrus_greening)/e7ad3e29-2edd-47e7-8780-644acca031c3___UF.Citrus_HLB_Lab 1445.JPG: name 'deep_extractor' is not defined\n",
            "Error processing /Users/debabratapattnayak/web-dev/greencast/processed_data/plantvillage_color/train/Potato___Late_blight/a8f16f61-a090-4b29-9569-5e7d0e17fda5___RS_LB 4460.JPG: name 'deep_extractor' is not defined\n",
            "Error processing /Users/debabratapattnayak/web-dev/greencast/processed_data/plantvillage_color/train/Apple___healthy/c69944f6-08da-4638-8ff6-7e97b5878b57___RS_HL 5816.JPG: name 'deep_extractor' is not defined\n",
            "Error processing /Users/debabratapattnayak/web-dev/greencast/processed_data/plantvillage_color/train/Cherry_(including_sour)___Powdery_mildew/20b3dbf2-058a-4b8c-8c1d-202b60da82f6___FREC_Pwd.M 0406.JPG: name 'deep_extractor' is not defined\n",
            "Error processing /Users/debabratapattnayak/web-dev/greencast/processed_data/plantvillage_color/train/Apple___healthy/5150163c-ce61-4b06-bcab-d806f8c78dba___RS_HL 7682.JPG: name 'deep_extractor' is not defined\n",
            "Error processing /Users/debabratapattnayak/web-dev/greencast/processed_data/plantvillage_color/train/Tomato___Tomato_Yellow_Leaf_Curl_Virus/5bf51eeb-ffe7-48e2-9799-a27735dde9e4___YLCV_GCREC 5344.JPG: name 'deep_extractor' is not defined\n",
            "Error processing /Users/debabratapattnayak/web-dev/greencast/processed_data/plantvillage_color/train/Tomato___Early_blight/407d9731-c2d8-48c1-8712-9719c185791c___RS_Erly.B 9496.JPG: name 'deep_extractor' is not defined\n",
            "Error processing /Users/debabratapattnayak/web-dev/greencast/processed_data/plantvillage_color/train/Grape___Leaf_blight_(Isariopsis_Leaf_Spot)/04416a29-13a7-49a0-9ab3-f2725ca7b671___FAM_L.Blight 1481.JPG: name 'deep_extractor' is not defined\n",
            "Error processing /Users/debabratapattnayak/web-dev/greencast/processed_data/plantvillage_color/train/Peach___Bacterial_spot/8b3f1862-63d0-4bbd-9910-3155849dec07___Rutg._Bact.S 1091.JPG: name 'deep_extractor' is not defined\n",
            "Error processing /Users/debabratapattnayak/web-dev/greencast/processed_data/plantvillage_color/train/Corn_(maize)___healthy/1b0e7982-54b4-4197-9a3d-5ff8eeb2dee6___R.S_HL 8303 copy.jpg: name 'deep_extractor' is not defined\n",
            "Error processing /Users/debabratapattnayak/web-dev/greencast/processed_data/plantvillage_color/train/Tomato___Late_blight/4710d5cd-08f7-44ae-91c1-99204f1c135b___RS_Late.B 6132.JPG: name 'deep_extractor' is not defined\n",
            "Error processing /Users/debabratapattnayak/web-dev/greencast/processed_data/plantvillage_color/train/Tomato___healthy/4916cbbb-a567-4263-a56d-521abadfb0b8___RS_HL 0480.JPG: name 'deep_extractor' is not defined\n",
            "Error processing /Users/debabratapattnayak/web-dev/greencast/processed_data/plantvillage_color/train/Cherry_(including_sour)___Powdery_mildew/324c0529-3992-4015-91f2-1f8c8b87940f___FREC_Pwd.M 0323.JPG: name 'deep_extractor' is not defined\n"
          ]
        },
        {
          "name": "stderr",
          "output_type": "stream",
          "text": [
            "Extracting features:  30%|███       | 304/1000 [00:05<00:11, 58.25it/s]"
          ]
        },
        {
          "name": "stdout",
          "output_type": "stream",
          "text": [
            "Error processing /Users/debabratapattnayak/web-dev/greencast/processed_data/plantvillage_color/train/Strawberry___healthy/d93424d7-a8db-4cff-b534-2f47930950fa___RS_HL 1745.JPG: name 'deep_extractor' is not defined\n",
            "Error processing /Users/debabratapattnayak/web-dev/greencast/processed_data/plantvillage_color/train/Grape___Leaf_blight_(Isariopsis_Leaf_Spot)/82cb565e-0c7d-4aae-a5bf-f9e75889d5d4___FAM_L.Blight 3639.JPG: name 'deep_extractor' is not defined\n",
            "Error processing /Users/debabratapattnayak/web-dev/greencast/processed_data/plantvillage_color/train/Peach___Bacterial_spot/708d301b-2450-4d7e-b557-3f61813298bf___Rutg._Bact.S 1290.JPG: name 'deep_extractor' is not defined\n",
            "Error processing /Users/debabratapattnayak/web-dev/greencast/processed_data/plantvillage_color/train/Tomato___Tomato_Yellow_Leaf_Curl_Virus/c009c9aa-e9a4-4bc5-a77d-1e706a97645c___UF.GRC_YLCV_Lab 02552.JPG: name 'deep_extractor' is not defined\n",
            "Error processing /Users/debabratapattnayak/web-dev/greencast/processed_data/plantvillage_color/train/Tomato___Septoria_leaf_spot/d2418bf8-8dfb-4a48-b3df-0f1acf515dfd___Matt.S_CG 7455.JPG: name 'deep_extractor' is not defined\n",
            "Error processing /Users/debabratapattnayak/web-dev/greencast/processed_data/plantvillage_color/train/Grape___healthy/954cafbf-1b60-4806-bb67-b51799ed369e___Mt.N.V_HL 6090.JPG: name 'deep_extractor' is not defined\n",
            "Error processing /Users/debabratapattnayak/web-dev/greencast/processed_data/plantvillage_color/train/Tomato___Tomato_Yellow_Leaf_Curl_Virus/80ddb972-27c6-4ccc-9b8d-f9051c7f1451___YLCV_NREC 2923.JPG: name 'deep_extractor' is not defined\n",
            "Error processing /Users/debabratapattnayak/web-dev/greencast/processed_data/plantvillage_color/train/Orange___Haunglongbing_(Citrus_greening)/7c2ab0ec-a56f-4158-88c7-0951dabd7c69___UF.Citrus_HLB_Lab 0788.JPG: name 'deep_extractor' is not defined\n",
            "Error processing /Users/debabratapattnayak/web-dev/greencast/processed_data/plantvillage_color/train/Tomato___Bacterial_spot/fb160354-fa8d-4833-8a3a-acd8507dd9de___GCREC_Bact.Sp 3334.JPG: name 'deep_extractor' is not defined\n",
            "Error processing /Users/debabratapattnayak/web-dev/greencast/processed_data/plantvillage_color/train/Pepper,_bell___healthy/6a6a7f87-4efb-43c7-ae36-1f9db31246f2___JR_HL 7703.JPG: name 'deep_extractor' is not defined\n",
            "Error processing /Users/debabratapattnayak/web-dev/greencast/processed_data/plantvillage_color/train/Tomato___Bacterial_spot/e76d1b61-beb7-448d-ab33-328d3e99cbbc___GCREC_Bact.Sp 3796.JPG: name 'deep_extractor' is not defined\n",
            "Error processing /Users/debabratapattnayak/web-dev/greencast/processed_data/plantvillage_color/train/Tomato___Target_Spot/42920fd3-0a32-42c8-9341-4d0659cb9e7b___Com.G_TgS_FL 0967.JPG: name 'deep_extractor' is not defined\n"
          ]
        },
        {
          "name": "stderr",
          "output_type": "stream",
          "text": [
            "Extracting features:  32%|███▏      | 316/1000 [00:05<00:12, 55.03it/s]"
          ]
        },
        {
          "name": "stdout",
          "output_type": "stream",
          "text": [
            "Error processing /Users/debabratapattnayak/web-dev/greencast/processed_data/plantvillage_color/train/Tomato___Tomato_Yellow_Leaf_Curl_Virus/c6cb3a61-4f50-478f-9097-b21f470ce971___UF.GRC_YLCV_Lab 02536.JPG: name 'deep_extractor' is not defined\n",
            "Error processing /Users/debabratapattnayak/web-dev/greencast/processed_data/plantvillage_color/train/Squash___Powdery_mildew/8cdb2f1d-beb1-43e2-84f0-7d1ca8a5f6f5___MD_Powd.M 9943.JPG: name 'deep_extractor' is not defined\n",
            "Error processing /Users/debabratapattnayak/web-dev/greencast/processed_data/plantvillage_color/train/Potato___healthy/f0fdde26-78b4-46f0-9eb8-7c2a743d34aa___RS_HL 4165.JPG: name 'deep_extractor' is not defined\n",
            "Error processing /Users/debabratapattnayak/web-dev/greencast/processed_data/plantvillage_color/train/Peach___Bacterial_spot/114a3057-a764-41ce-b1ac-b63a93b3129d___Rutg._Bact.S 2256.JPG: name 'deep_extractor' is not defined\n",
            "Error processing /Users/debabratapattnayak/web-dev/greencast/processed_data/plantvillage_color/train/Corn_(maize)___healthy/d51f3036-3389-4f44-96f6-e88f5f04604d___R.S_HL 8058 copy 2.jpg: name 'deep_extractor' is not defined\n",
            "Error processing /Users/debabratapattnayak/web-dev/greencast/processed_data/plantvillage_color/train/Squash___Powdery_mildew/b160be13-0757-47b6-a1f4-ac3a2cf93363___MD_Powd.M 0490.JPG: name 'deep_extractor' is not defined\n",
            "Error processing /Users/debabratapattnayak/web-dev/greencast/processed_data/plantvillage_color/train/Orange___Haunglongbing_(Citrus_greening)/40495312-f2d5-4819-98a7-93b689c44ef6___CREC_HLB 3925.JPG: name 'deep_extractor' is not defined\n",
            "Error processing /Users/debabratapattnayak/web-dev/greencast/processed_data/plantvillage_color/train/Grape___Black_rot/2d9c7e4e-a960-4de9-b606-d36c01b89778___FAM_B.Rot 0707.JPG: name 'deep_extractor' is not defined\n",
            "Error processing /Users/debabratapattnayak/web-dev/greencast/processed_data/plantvillage_color/train/Corn_(maize)___Cercospora_leaf_spot Gray_leaf_spot/c0240d98-f8f7-4e02-95a3-0723d1f61ca1___RS_GLSp 4383.JPG: name 'deep_extractor' is not defined\n",
            "Error processing /Users/debabratapattnayak/web-dev/greencast/processed_data/plantvillage_color/train/Tomato___Leaf_Mold/9f8e73b0-a649-44db-b77c-547a8ef7912d___Crnl_L.Mold 9171.JPG: name 'deep_extractor' is not defined\n",
            "Error processing /Users/debabratapattnayak/web-dev/greencast/processed_data/plantvillage_color/train/Soybean___healthy/19de8dd0-f636-4608-9c08-a6b82f7d2924___RS_HL 4164.JPG: name 'deep_extractor' is not defined\n",
            "Error processing /Users/debabratapattnayak/web-dev/greencast/processed_data/plantvillage_color/train/Soybean___healthy/94461b46-b0ff-4054-97ba-810e15f34584___RS_HL 2763.JPG: name 'deep_extractor' is not defined\n"
          ]
        },
        {
          "name": "stderr",
          "output_type": "stream",
          "text": [
            "Extracting features:  32%|███▏      | 322/1000 [00:05<00:13, 50.37it/s]"
          ]
        },
        {
          "name": "stdout",
          "output_type": "stream",
          "text": [
            "Error processing /Users/debabratapattnayak/web-dev/greencast/processed_data/plantvillage_color/train/Corn_(maize)___Common_rust_/RS_Rust 1990.JPG: name 'deep_extractor' is not defined\n",
            "Error processing /Users/debabratapattnayak/web-dev/greencast/processed_data/plantvillage_color/train/Orange___Haunglongbing_(Citrus_greening)/412762a9-d6a8-40d1-8303-561bbbc15bfd___CREC_HLB 6504.JPG: name 'deep_extractor' is not defined\n",
            "Error processing /Users/debabratapattnayak/web-dev/greencast/processed_data/plantvillage_color/train/Tomato___Late_blight/df84e2a1-7517-4096-b555-67fe2b7a7156___GHLB2 Leaf 9003.JPG: name 'deep_extractor' is not defined\n",
            "Error processing /Users/debabratapattnayak/web-dev/greencast/processed_data/plantvillage_color/train/Soybean___healthy/d1fdf4d5-7b67-4734-b252-4978c97713a8___RS_HL 6798.JPG: name 'deep_extractor' is not defined\n",
            "Error processing /Users/debabratapattnayak/web-dev/greencast/processed_data/plantvillage_color/train/Grape___Esca_(Black_Measles)/ab21136c-1597-472d-8f13-9780b3c72cbb___FAM_B.Msls 1102.JPG: name 'deep_extractor' is not defined\n",
            "Error processing /Users/debabratapattnayak/web-dev/greencast/processed_data/plantvillage_color/train/Tomato___Target_Spot/0f9aa748-57f0-4b14-98c0-b9c1966badc9___Com.G_TgS_FL 9854.JPG: name 'deep_extractor' is not defined\n",
            "Error processing /Users/debabratapattnayak/web-dev/greencast/processed_data/plantvillage_color/train/Tomato___Tomato_Yellow_Leaf_Curl_Virus/5bc7b859-49ae-42e1-9d24-7bff99566df4___UF.GRC_YLCV_Lab 03390.JPG: name 'deep_extractor' is not defined\n",
            "Error processing /Users/debabratapattnayak/web-dev/greencast/processed_data/plantvillage_color/train/Soybean___healthy/d678cf12-0ab1-49a6-87ea-03938249c475___RS_HL 2912.JPG: name 'deep_extractor' is not defined\n",
            "Error processing /Users/debabratapattnayak/web-dev/greencast/processed_data/plantvillage_color/train/Blueberry___healthy/d773d0ea-d314-4bd1-81f0-a2c0d1916b1b___RS_HL 5174.JPG: name 'deep_extractor' is not defined\n",
            "Error processing /Users/debabratapattnayak/web-dev/greencast/processed_data/plantvillage_color/train/Cherry_(including_sour)___Powdery_mildew/6a221f6f-ab5e-4c89-960e-b59e0bed138c___FREC_Pwd.M 5134.JPG: name 'deep_extractor' is not defined\n"
          ]
        },
        {
          "name": "stderr",
          "output_type": "stream",
          "text": [
            "Extracting features:  33%|███▎      | 334/1000 [00:06<00:13, 50.28it/s]"
          ]
        },
        {
          "name": "stdout",
          "output_type": "stream",
          "text": [
            "Error processing /Users/debabratapattnayak/web-dev/greencast/processed_data/plantvillage_color/train/Tomato___Tomato_Yellow_Leaf_Curl_Virus/8bfac020-c591-4fbb-aa1d-f6e2499ee6a2___UF.GRC_YLCV_Lab 02903.JPG: name 'deep_extractor' is not defined\n",
            "Error processing /Users/debabratapattnayak/web-dev/greencast/processed_data/plantvillage_color/train/Tomato___Spider_mites Two-spotted_spider_mite/f8505395-0291-442f-a735-f98b806f896e___Com.G_SpM_FL 1271.JPG: name 'deep_extractor' is not defined\n",
            "Error processing /Users/debabratapattnayak/web-dev/greencast/processed_data/plantvillage_color/train/Pepper,_bell___healthy/0984b7ed-2a64-40fe-b0fa-ff440b0fc8e4___JR_HL 8600.JPG: name 'deep_extractor' is not defined\n",
            "Error processing /Users/debabratapattnayak/web-dev/greencast/processed_data/plantvillage_color/train/Orange___Haunglongbing_(Citrus_greening)/0f6525c5-db8c-495c-aaf0-d9abdf5797f2___CREC_HLB 3919.JPG: name 'deep_extractor' is not defined\n",
            "Error processing /Users/debabratapattnayak/web-dev/greencast/processed_data/plantvillage_color/train/Tomato___Tomato_Yellow_Leaf_Curl_Virus/9cf9a08e-9351-4899-90cc-0441f2654849___YLCV_NREC 0060.JPG: name 'deep_extractor' is not defined\n",
            "Error processing /Users/debabratapattnayak/web-dev/greencast/processed_data/plantvillage_color/train/Corn_(maize)___Common_rust_/RS_Rust 1664.JPG: name 'deep_extractor' is not defined\n",
            "Error processing /Users/debabratapattnayak/web-dev/greencast/processed_data/plantvillage_color/train/Corn_(maize)___healthy/2be26495-e939-40f5-9ef8-e378543bf2c5___R.S_HL 7962 copy 2.jpg: name 'deep_extractor' is not defined\n",
            "Error processing /Users/debabratapattnayak/web-dev/greencast/processed_data/plantvillage_color/train/Tomato___Late_blight/e1088349-de49-4d96-9405-6163002bf9de___RS_Late.B 6904.JPG: name 'deep_extractor' is not defined\n",
            "Error processing /Users/debabratapattnayak/web-dev/greencast/processed_data/plantvillage_color/train/Squash___Powdery_mildew/51f59731-c888-4027-90f8-261508b2fef7___MD_Powd.M 0975.JPG: name 'deep_extractor' is not defined\n",
            "Error processing /Users/debabratapattnayak/web-dev/greencast/processed_data/plantvillage_color/train/Tomato___Tomato_Yellow_Leaf_Curl_Virus/0eafc3f5-7c78-4408-b129-69cf1dee659f___YLCV_NREC 2502.JPG: name 'deep_extractor' is not defined\n",
            "Error processing /Users/debabratapattnayak/web-dev/greencast/processed_data/plantvillage_color/train/Orange___Haunglongbing_(Citrus_greening)/f4adb937-8e3a-48bf-8c6b-a0e276a3f5f1___CREC_HLB 7859.JPG: name 'deep_extractor' is not defined\n"
          ]
        },
        {
          "name": "stderr",
          "output_type": "stream",
          "text": [
            "Extracting features:  35%|███▍      | 346/1000 [00:06<00:12, 52.41it/s]"
          ]
        },
        {
          "name": "stdout",
          "output_type": "stream",
          "text": [
            "Error processing /Users/debabratapattnayak/web-dev/greencast/processed_data/plantvillage_color/train/Tomato___Target_Spot/db82e0dc-b6b4-4354-9092-1200792cd4da___Com.G_TgS_FL 8302.JPG: name 'deep_extractor' is not defined\n",
            "Error processing /Users/debabratapattnayak/web-dev/greencast/processed_data/plantvillage_color/train/Tomato___Tomato_Yellow_Leaf_Curl_Virus/31c09944-817c-4187-a9bb-809f90c25068___YLCV_GCREC 2714.JPG: name 'deep_extractor' is not defined\n",
            "Error processing /Users/debabratapattnayak/web-dev/greencast/processed_data/plantvillage_color/train/Pepper,_bell___healthy/98f8fdef-3368-4261-a974-8bdb5103ff51___JR_HL 8065.JPG: name 'deep_extractor' is not defined\n",
            "Error processing /Users/debabratapattnayak/web-dev/greencast/processed_data/plantvillage_color/train/Soybean___healthy/e6abe92d-1064-497a-8116-be5094e7e4cd___RS_HL 4177.JPG: name 'deep_extractor' is not defined\n",
            "Error processing /Users/debabratapattnayak/web-dev/greencast/processed_data/plantvillage_color/train/Grape___Leaf_blight_(Isariopsis_Leaf_Spot)/dc106b61-2b27-4d6c-8172-f3c9ff528d6e___FAM_L.Blight 1532.JPG: name 'deep_extractor' is not defined\n",
            "Error processing /Users/debabratapattnayak/web-dev/greencast/processed_data/plantvillage_color/train/Pepper,_bell___healthy/c0f919fb-1cbb-47e6-9308-87796ab6acac___JR_HL 8734.JPG: name 'deep_extractor' is not defined\n",
            "Error processing /Users/debabratapattnayak/web-dev/greencast/processed_data/plantvillage_color/train/Tomato___Tomato_Yellow_Leaf_Curl_Virus/8c464337-c544-4984-af5e-5f9ce7e1f6a8___YLCV_GCREC 2282.JPG: name 'deep_extractor' is not defined\n",
            "Error processing /Users/debabratapattnayak/web-dev/greencast/processed_data/plantvillage_color/train/Soybean___healthy/a99084dd-d6e8-4701-8303-d9a1c9d941f4___RS_HL 6340.JPG: name 'deep_extractor' is not defined\n",
            "Error processing /Users/debabratapattnayak/web-dev/greencast/processed_data/plantvillage_color/train/Corn_(maize)___Cercospora_leaf_spot Gray_leaf_spot/54d4d612-50a4-46cd-b0de-4e65988718f7___RS_GLSp 4637.JPG: name 'deep_extractor' is not defined\n",
            "Error processing /Users/debabratapattnayak/web-dev/greencast/processed_data/plantvillage_color/train/Tomato___Septoria_leaf_spot/dc77d3d9-5810-4859-892b-34456a6e9d15___JR_Sept.L.S 8565.JPG: name 'deep_extractor' is not defined\n",
            "Error processing /Users/debabratapattnayak/web-dev/greencast/processed_data/plantvillage_color/train/Pepper,_bell___Bacterial_spot/61fe0fde-0e1a-4977-adee-e9b66caaf809___NREC_B.Spot 1855.JPG: name 'deep_extractor' is not defined\n",
            "Error processing /Users/debabratapattnayak/web-dev/greencast/processed_data/plantvillage_color/train/Apple___Apple_scab/d8aeb323-17d2-4123-9988-3c2346558bc6___FREC_Scab 2996.JPG: name 'deep_extractor' is not defined\n"
          ]
        },
        {
          "name": "stderr",
          "output_type": "stream",
          "text": [
            "Extracting features:  36%|███▌      | 359/1000 [00:06<00:11, 55.97it/s]"
          ]
        },
        {
          "name": "stdout",
          "output_type": "stream",
          "text": [
            "Error processing /Users/debabratapattnayak/web-dev/greencast/processed_data/plantvillage_color/train/Orange___Haunglongbing_(Citrus_greening)/eeecd6bf-e84c-403d-a01e-8df0266f8cfc___UF.Citrus_HLB_Lab 1590.JPG: name 'deep_extractor' is not defined\n",
            "Error processing /Users/debabratapattnayak/web-dev/greencast/processed_data/plantvillage_color/train/Cherry_(including_sour)___healthy/b13a43b6-a7f4-4922-9315-12398bb130fe___JR_HL 4270.JPG: name 'deep_extractor' is not defined\n",
            "Error processing /Users/debabratapattnayak/web-dev/greencast/processed_data/plantvillage_color/train/Orange___Haunglongbing_(Citrus_greening)/639eeacb-9379-4f4c-bccc-56b3d252f8e8___CREC_HLB 3986.JPG: name 'deep_extractor' is not defined\n",
            "Error processing /Users/debabratapattnayak/web-dev/greencast/processed_data/plantvillage_color/train/Soybean___healthy/369b2555-d3f0-45db-a85c-728de7bbd02e___RS_HL 3531.JPG: name 'deep_extractor' is not defined\n",
            "Error processing /Users/debabratapattnayak/web-dev/greencast/processed_data/plantvillage_color/train/Orange___Haunglongbing_(Citrus_greening)/b1ab1fcb-5ec0-4931-9e35-58c1d464c682___CREC_HLB 7712.JPG: name 'deep_extractor' is not defined\n",
            "Error processing /Users/debabratapattnayak/web-dev/greencast/processed_data/plantvillage_color/train/Tomato___Tomato_Yellow_Leaf_Curl_Virus/36543f6a-1f3a-4371-8b0b-f60995a966a4___UF.GRC_YLCV_Lab 01266.JPG: name 'deep_extractor' is not defined\n",
            "Error processing /Users/debabratapattnayak/web-dev/greencast/processed_data/plantvillage_color/train/Cherry_(including_sour)___Powdery_mildew/c12ef0fd-7f67-4589-986a-31c0332bfa38___FREC_Pwd.M 4602.JPG: name 'deep_extractor' is not defined\n",
            "Error processing /Users/debabratapattnayak/web-dev/greencast/processed_data/plantvillage_color/train/Corn_(maize)___Northern_Leaf_Blight/0e9f32b5-3423-4412-a9b6-69ba653db207___RS_NLB 3565 copy 2.jpg: name 'deep_extractor' is not defined\n",
            "Error processing /Users/debabratapattnayak/web-dev/greencast/processed_data/plantvillage_color/train/Potato___Early_blight/9ebf9d7d-0cfe-44f5-9126-89c70d38321a___RS_Early.B 8986.JPG: name 'deep_extractor' is not defined\n",
            "Error processing /Users/debabratapattnayak/web-dev/greencast/processed_data/plantvillage_color/train/Soybean___healthy/03a9def0-a4fa-4c88-895d-f696075f8984___RS_HL 4985.JPG: name 'deep_extractor' is not defined\n",
            "Error processing /Users/debabratapattnayak/web-dev/greencast/processed_data/plantvillage_color/train/Tomato___Tomato_Yellow_Leaf_Curl_Virus/ec10c0fd-520c-4bcb-933e-9bd695690b09___YLCV_NREC 1988.JPG: name 'deep_extractor' is not defined\n",
            "Error processing /Users/debabratapattnayak/web-dev/greencast/processed_data/plantvillage_color/train/Blueberry___healthy/b2c1c0f4-f296-4d4a-b161-ccaaa005253f___RS_HL 5449.JPG: name 'deep_extractor' is not defined\n",
            "Error processing /Users/debabratapattnayak/web-dev/greencast/processed_data/plantvillage_color/train/Tomato___Tomato_Yellow_Leaf_Curl_Virus/9eb30339-3de9-46ad-beea-d9d59da0ddb6___YLCV_GCREC 2543.JPG: name 'deep_extractor' is not defined\n"
          ]
        },
        {
          "name": "stderr",
          "output_type": "stream",
          "text": [
            "Extracting features:  37%|███▋      | 371/1000 [00:06<00:11, 56.55it/s]"
          ]
        },
        {
          "name": "stdout",
          "output_type": "stream",
          "text": [
            "Error processing /Users/debabratapattnayak/web-dev/greencast/processed_data/plantvillage_color/train/Pepper,_bell___Bacterial_spot/79264de2-10b4-4b3d-a3fe-42916a666bcb___NREC_B.Spot 9239.JPG: name 'deep_extractor' is not defined\n",
            "Error processing /Users/debabratapattnayak/web-dev/greencast/processed_data/plantvillage_color/train/Tomato___Late_blight/18568211-18d7-453f-84a4-d22e2088ec33___RS_Late.B 5239.JPG: name 'deep_extractor' is not defined\n",
            "Error processing /Users/debabratapattnayak/web-dev/greencast/processed_data/plantvillage_color/train/Peach___Bacterial_spot/a112f397-f329-4316-b254-f6f4bee53d95___Rutg._Bact.S 2373.JPG: name 'deep_extractor' is not defined\n",
            "Error processing /Users/debabratapattnayak/web-dev/greencast/processed_data/plantvillage_color/train/Tomato___Tomato_Yellow_Leaf_Curl_Virus/b095da33-afbe-44b6-bbe5-281ff64107a1___UF.GRC_YLCV_Lab 02924.JPG: name 'deep_extractor' is not defined\n",
            "Error processing /Users/debabratapattnayak/web-dev/greencast/processed_data/plantvillage_color/train/Potato___Late_blight/8f8e338a-b6ac-4ca7-b3f3-596dc15eb140___RS_LB 3970.JPG: name 'deep_extractor' is not defined\n",
            "Error processing /Users/debabratapattnayak/web-dev/greencast/processed_data/plantvillage_color/train/Potato___Early_blight/5fa695b2-89f6-4c5e-b62f-2be61e2ad23a___RS_Early.B 7232.JPG: name 'deep_extractor' is not defined\n",
            "Error processing /Users/debabratapattnayak/web-dev/greencast/processed_data/plantvillage_color/train/Tomato___Tomato_Yellow_Leaf_Curl_Virus/9dfccce4-a7a8-491c-b326-850bafbe8ff2___UF.GRC_YLCV_Lab 01640.JPG: name 'deep_extractor' is not defined\n",
            "Error processing /Users/debabratapattnayak/web-dev/greencast/processed_data/plantvillage_color/train/Tomato___Late_blight/0da23640-656e-4f03-be14-4b4b36811861___GHLB2 Leaf 9072.JPG: name 'deep_extractor' is not defined\n",
            "Error processing /Users/debabratapattnayak/web-dev/greencast/processed_data/plantvillage_color/train/Corn_(maize)___Northern_Leaf_Blight/d46fe184-72f6-4b05-8376-b6e17edc5458___RS_NLB  4671.JPG: name 'deep_extractor' is not defined\n",
            "Error processing /Users/debabratapattnayak/web-dev/greencast/processed_data/plantvillage_color/train/Tomato___Tomato_mosaic_virus/5b9b782e-cabd-447c-b690-4b8a29bf7f7e___PSU_CG 2231.JPG: name 'deep_extractor' is not defined\n",
            "Error processing /Users/debabratapattnayak/web-dev/greencast/processed_data/plantvillage_color/train/Soybean___healthy/964186af-88bb-4eba-b88b-eb961fc04786___RS_HL 5345.JPG: name 'deep_extractor' is not defined\n"
          ]
        },
        {
          "name": "stderr",
          "output_type": "stream",
          "text": [
            "Extracting features:  38%|███▊      | 377/1000 [00:06<00:11, 53.50it/s]"
          ]
        },
        {
          "name": "stdout",
          "output_type": "stream",
          "text": [
            "Error processing /Users/debabratapattnayak/web-dev/greencast/processed_data/plantvillage_color/train/Soybean___healthy/a0a80cba-63e0-4657-90ab-8ef86f9f34ad___RS_HL 3009.JPG: name 'deep_extractor' is not defined\n",
            "Error processing /Users/debabratapattnayak/web-dev/greencast/processed_data/plantvillage_color/train/Corn_(maize)___healthy/f8f2663a-df9b-4c0b-bddc-0f0c6fc5c7cf___R.S_HL 8126 copy.jpg: name 'deep_extractor' is not defined\n",
            "Error processing /Users/debabratapattnayak/web-dev/greencast/processed_data/plantvillage_color/train/Tomato___Leaf_Mold/e6b6cab1-56f9-429f-b89f-110c0128d5be___Crnl_L.Mold 7098.JPG: name 'deep_extractor' is not defined\n",
            "Error processing /Users/debabratapattnayak/web-dev/greencast/processed_data/plantvillage_color/train/Potato___Late_blight/9f9623f9-e632-4342-b698-95a0521953f9___RS_LB 3068.JPG: name 'deep_extractor' is not defined\n",
            "Error processing /Users/debabratapattnayak/web-dev/greencast/processed_data/plantvillage_color/train/Tomato___Target_Spot/8fbcb71e-fa17-4918-8484-0a04a90e8ada___Com.G_TgS_FL 0972.JPG: name 'deep_extractor' is not defined\n",
            "Error processing /Users/debabratapattnayak/web-dev/greencast/processed_data/plantvillage_color/train/Orange___Haunglongbing_(Citrus_greening)/a90a6954-fc82-45f4-9042-104a51e798c8___UF.Citrus_HLB_Lab 9888.JPG: name 'deep_extractor' is not defined\n",
            "Error processing /Users/debabratapattnayak/web-dev/greencast/processed_data/plantvillage_color/train/Apple___healthy/bede2484-dd97-4291-9132-bf015313a6bd___RS_HL 8196.JPG: name 'deep_extractor' is not defined\n",
            "Error processing /Users/debabratapattnayak/web-dev/greencast/processed_data/plantvillage_color/train/Raspberry___healthy/1e954b37-9988-4554-bb78-d7180e427d36___Mary_HL 9178.JPG: name 'deep_extractor' is not defined\n"
          ]
        },
        {
          "name": "stderr",
          "output_type": "stream",
          "text": [
            "Extracting features:  39%|███▉      | 388/1000 [00:07<00:13, 45.25it/s]"
          ]
        },
        {
          "name": "stdout",
          "output_type": "stream",
          "text": [
            "Error processing /Users/debabratapattnayak/web-dev/greencast/processed_data/plantvillage_color/train/Grape___Black_rot/0a274d5f-9705-445d-a580-a887447ec353___FAM_B.Rot 3147.JPG: name 'deep_extractor' is not defined\n",
            "Error processing /Users/debabratapattnayak/web-dev/greencast/processed_data/plantvillage_color/train/Tomato___Tomato_mosaic_virus/457f4e02-65b3-4e02-ba87-7f20ab44f89e___PSU_CG 2180.JPG: name 'deep_extractor' is not defined\n",
            "Error processing /Users/debabratapattnayak/web-dev/greencast/processed_data/plantvillage_color/train/Tomato___Bacterial_spot/50affc63-4d3e-4eb4-ad9c-4f9b7311e989___GCREC_Bact.Sp 3035.JPG: name 'deep_extractor' is not defined\n",
            "Error processing /Users/debabratapattnayak/web-dev/greencast/processed_data/plantvillage_color/train/Squash___Powdery_mildew/c096b8d7-5a7b-46a6-b718-1ab057e64ae6___UMD_Powd.M 0478.JPG: name 'deep_extractor' is not defined\n",
            "Error processing /Users/debabratapattnayak/web-dev/greencast/processed_data/plantvillage_color/train/Tomato___Bacterial_spot/43a474b7-83dd-48e5-962a-783727a6595a___GCREC_Bact.Sp 3255.JPG: name 'deep_extractor' is not defined\n",
            "Error processing /Users/debabratapattnayak/web-dev/greencast/processed_data/plantvillage_color/train/Tomato___Spider_mites Two-spotted_spider_mite/476d4d77-4963-4400-b39a-6d829bf6ca3c___Com.G_SpM_FL 1550.JPG: name 'deep_extractor' is not defined\n",
            "Error processing /Users/debabratapattnayak/web-dev/greencast/processed_data/plantvillage_color/train/Soybean___healthy/61771b23-de73-46fe-8028-9bc7aeda8bf2___RS_HL 6117.JPG: name 'deep_extractor' is not defined\n",
            "Error processing /Users/debabratapattnayak/web-dev/greencast/processed_data/plantvillage_color/train/Peach___Bacterial_spot/64a80efb-71f1-494c-8b3e-d90dd7f178a3___Rut._Bact.S 1204.JPG: name 'deep_extractor' is not defined\n",
            "Error processing /Users/debabratapattnayak/web-dev/greencast/processed_data/plantvillage_color/train/Tomato___Bacterial_spot/4da52d81-c129-4638-9fb5-2b412130ed05___GCREC_Bact.Sp 3475.JPG: name 'deep_extractor' is not defined\n",
            "Error processing /Users/debabratapattnayak/web-dev/greencast/processed_data/plantvillage_color/train/Grape___Esca_(Black_Measles)/7ae8ced4-403d-402f-8035-1efa30ed9b2a___FAM_B.Msls 1797.JPG: name 'deep_extractor' is not defined\n"
          ]
        },
        {
          "name": "stderr",
          "output_type": "stream",
          "text": [
            "Extracting features:  40%|████      | 400/1000 [00:07<00:11, 51.10it/s]"
          ]
        },
        {
          "name": "stdout",
          "output_type": "stream",
          "text": [
            "Error processing /Users/debabratapattnayak/web-dev/greencast/processed_data/plantvillage_color/train/Tomato___healthy/6ab4b4b5-3d4f-496b-9b08-7fa87bcfe875___RS_HL 9670.JPG: name 'deep_extractor' is not defined\n",
            "Error processing /Users/debabratapattnayak/web-dev/greencast/processed_data/plantvillage_color/train/Soybean___healthy/29e49427-6205-4047-a12b-fa56f961114c___RS_HL 3766.JPG: name 'deep_extractor' is not defined\n",
            "Error processing /Users/debabratapattnayak/web-dev/greencast/processed_data/plantvillage_color/train/Tomato___Tomato_Yellow_Leaf_Curl_Virus/badbf078-c558-4ac9-a037-eac556e02a3e___UF.GRC_YLCV_Lab 09361.JPG: name 'deep_extractor' is not defined\n",
            "Error processing /Users/debabratapattnayak/web-dev/greencast/processed_data/plantvillage_color/train/Grape___Esca_(Black_Measles)/e94fc17e-7f33-4f23-a807-27b398b24724___FAM_B.Msls 3792.JPG: name 'deep_extractor' is not defined\n",
            "Error processing /Users/debabratapattnayak/web-dev/greencast/processed_data/plantvillage_color/train/Orange___Haunglongbing_(Citrus_greening)/4bb2b1a0-4b1d-4887-a89c-3be37c61bda3___CREC_HLB 5087.JPG: name 'deep_extractor' is not defined\n",
            "Error processing /Users/debabratapattnayak/web-dev/greencast/processed_data/plantvillage_color/train/Soybean___healthy/6a1a22eb-1290-4b1d-969d-f52bc78cc5a9___RS_HL 7074.JPG: name 'deep_extractor' is not defined\n",
            "Error processing /Users/debabratapattnayak/web-dev/greencast/processed_data/plantvillage_color/train/Peach___Bacterial_spot/972805d8-46eb-4a15-b2db-e36052bcaac0___Rutg._Bact.S 1680.JPG: name 'deep_extractor' is not defined\n",
            "Error processing /Users/debabratapattnayak/web-dev/greencast/processed_data/plantvillage_color/train/Soybean___healthy/acb3ebf6-3f3c-4ada-89f6-8750538129a8___RS_HL 4645.JPG: name 'deep_extractor' is not defined\n",
            "Error processing /Users/debabratapattnayak/web-dev/greencast/processed_data/plantvillage_color/train/Tomato___Early_blight/fdc50285-836e-4707-a17d-388b8179c87c___RS_Erly.B 7812.JPG: name 'deep_extractor' is not defined\n",
            "Error processing /Users/debabratapattnayak/web-dev/greencast/processed_data/plantvillage_color/train/Soybean___healthy/c9ba68fc-644b-49a7-8125-6b792a51ec67___RS_HL 5608 1.JPG: name 'deep_extractor' is not defined\n",
            "Error processing /Users/debabratapattnayak/web-dev/greencast/processed_data/plantvillage_color/train/Soybean___healthy/97d16661-4320-4ef4-8692-c5ef2c4229d3___RS_HL 7067.JPG: name 'deep_extractor' is not defined\n",
            "Error processing /Users/debabratapattnayak/web-dev/greencast/processed_data/plantvillage_color/train/Corn_(maize)___healthy/1009c64f-a31c-49fb-9eb4-b6373a588dd0___R.S_HL 5490 copy 3.jpg: name 'deep_extractor' is not defined\n"
          ]
        },
        {
          "name": "stderr",
          "output_type": "stream",
          "text": [
            "Extracting features:  41%|████      | 412/1000 [00:07<00:10, 53.78it/s]"
          ]
        },
        {
          "name": "stdout",
          "output_type": "stream",
          "text": [
            "Error processing /Users/debabratapattnayak/web-dev/greencast/processed_data/plantvillage_color/train/Tomato___healthy/47a9bf22-281f-49d6-a03a-97be4983fc68___RS_HL 0604.JPG: name 'deep_extractor' is not defined\n",
            "Error processing /Users/debabratapattnayak/web-dev/greencast/processed_data/plantvillage_color/train/Squash___Powdery_mildew/be1b72ef-e169-4ffb-b872-05e89ef420a7___UMD_Powd.M 0277.JPG: name 'deep_extractor' is not defined\n",
            "Error processing /Users/debabratapattnayak/web-dev/greencast/processed_data/plantvillage_color/train/Pepper,_bell___Bacterial_spot/d7010297-6cb4-435d-ad31-12758c1520c8___JR_B.Spot 8940.JPG: name 'deep_extractor' is not defined\n",
            "Error processing /Users/debabratapattnayak/web-dev/greencast/processed_data/plantvillage_color/train/Tomato___Late_blight/1f8743b6-f385-4464-9e41-48bd9fe85637___GHLB2 Leaf 8914.JPG: name 'deep_extractor' is not defined\n",
            "Error processing /Users/debabratapattnayak/web-dev/greencast/processed_data/plantvillage_color/train/Tomato___Target_Spot/35fc2de1-f8e1-4ceb-b3fd-6cead6562333___Com.G_TgS_FL 8143.JPG: name 'deep_extractor' is not defined\n",
            "Error processing /Users/debabratapattnayak/web-dev/greencast/processed_data/plantvillage_color/train/Tomato___Bacterial_spot/5a6b8e29-8841-4529-bcf5-08a69ffc07ed___GCREC_Bact.Sp 6353.JPG: name 'deep_extractor' is not defined\n",
            "Error processing /Users/debabratapattnayak/web-dev/greencast/processed_data/plantvillage_color/train/Tomato___Target_Spot/01b2013e-4030-4cd0-843c-2dbacf5f3758___Com.G_TgS_FL 8398.JPG: name 'deep_extractor' is not defined\n",
            "Error processing /Users/debabratapattnayak/web-dev/greencast/processed_data/plantvillage_color/train/Tomato___Spider_mites Two-spotted_spider_mite/f4788089-544c-42c7-ac09-9ede28bca5f4___Com.G_SpM_FL 8799.JPG: name 'deep_extractor' is not defined\n",
            "Error processing /Users/debabratapattnayak/web-dev/greencast/processed_data/plantvillage_color/train/Grape___Leaf_blight_(Isariopsis_Leaf_Spot)/541f3b53-c19f-4226-858b-614bc11c9749___FAM_L.Blight 4916.JPG: name 'deep_extractor' is not defined\n",
            "Error processing /Users/debabratapattnayak/web-dev/greencast/processed_data/plantvillage_color/train/Corn_(maize)___healthy/fb7c73e2-6f3a-4dcc-bc31-217f37512d68___R.S_HL 8293 copy.jpg: name 'deep_extractor' is not defined\n",
            "Error processing /Users/debabratapattnayak/web-dev/greencast/processed_data/plantvillage_color/train/Tomato___Leaf_Mold/05bbff69-adad-4e16-8fad-c265be82e25a___Crnl_L.Mold 6929.JPG: name 'deep_extractor' is not defined\n",
            "Error processing /Users/debabratapattnayak/web-dev/greencast/processed_data/plantvillage_color/train/Grape___Black_rot/c1a903d5-1f13-4206-bbc7-4e775e5b9334___FAM_B.Rot 5107.JPG: name 'deep_extractor' is not defined\n"
          ]
        },
        {
          "name": "stderr",
          "output_type": "stream",
          "text": [
            "Extracting features:  42%|████▏     | 424/1000 [00:07<00:10, 56.37it/s]"
          ]
        },
        {
          "name": "stdout",
          "output_type": "stream",
          "text": [
            "Error processing /Users/debabratapattnayak/web-dev/greencast/processed_data/plantvillage_color/train/Tomato___Tomato_Yellow_Leaf_Curl_Virus/56ba0dc9-340e-44f8-aa1a-947639c33ffb___UF.GRC_YLCV_Lab 03285.JPG: name 'deep_extractor' is not defined\n",
            "Error processing /Users/debabratapattnayak/web-dev/greencast/processed_data/plantvillage_color/train/Tomato___healthy/1971e05b-fc5e-40c1-a4ff-c6a4c746693f___GH_HL Leaf 237.JPG: name 'deep_extractor' is not defined\n",
            "Error processing /Users/debabratapattnayak/web-dev/greencast/processed_data/plantvillage_color/train/Squash___Powdery_mildew/98f61742-d173-42cf-870f-4aa940c38901___MD_Powd.M 0415.JPG: name 'deep_extractor' is not defined\n",
            "Error processing /Users/debabratapattnayak/web-dev/greencast/processed_data/plantvillage_color/train/Soybean___healthy/f60424ad-d315-4234-ba70-da9f2232b691___RS_HL 3636.JPG: name 'deep_extractor' is not defined\n",
            "Error processing /Users/debabratapattnayak/web-dev/greencast/processed_data/plantvillage_color/train/Corn_(maize)___Northern_Leaf_Blight/b927fa6f-d9c6-4fa0-b93f-ca77f7cec655___RS_NLB 3827.JPG: name 'deep_extractor' is not defined\n",
            "Error processing /Users/debabratapattnayak/web-dev/greencast/processed_data/plantvillage_color/train/Soybean___healthy/a3c2e7a8-e0b2-47d0-8f31-4e7114c1eac6___RS_HL 3840.JPG: name 'deep_extractor' is not defined\n",
            "Error processing /Users/debabratapattnayak/web-dev/greencast/processed_data/plantvillage_color/train/Orange___Haunglongbing_(Citrus_greening)/8bff7008-3cdb-4044-9476-f437f486af6f___UF.Citrus_HLB_Lab 1123.JPG: name 'deep_extractor' is not defined\n",
            "Error processing /Users/debabratapattnayak/web-dev/greencast/processed_data/plantvillage_color/train/Orange___Haunglongbing_(Citrus_greening)/17b41851-95f6-4420-94e2-d5312a39dac2___UF.Citrus_HLB_Lab 0760.JPG: name 'deep_extractor' is not defined\n",
            "Error processing /Users/debabratapattnayak/web-dev/greencast/processed_data/plantvillage_color/train/Orange___Haunglongbing_(Citrus_greening)/d37196dd-af25-4317-907b-1383cff79a2a___CREC_HLB 6597.JPG: name 'deep_extractor' is not defined\n",
            "Error processing /Users/debabratapattnayak/web-dev/greencast/processed_data/plantvillage_color/train/Tomato___Late_blight/4c25c41d-6e73-46e6-bf17-f9571fa80733___RS_Late.B 6077.JPG: name 'deep_extractor' is not defined\n",
            "Error processing /Users/debabratapattnayak/web-dev/greencast/processed_data/plantvillage_color/train/Soybean___healthy/1037cac5-ffb9-48f7-a6c4-07f2197fd67c___RS_HL 7553.JPG: name 'deep_extractor' is not defined\n",
            "Error processing /Users/debabratapattnayak/web-dev/greencast/processed_data/plantvillage_color/train/Corn_(maize)___Northern_Leaf_Blight/a46e1d1c-13bb-419b-b69c-a03dec0d53c1___RS_NLB 3790.JPG: name 'deep_extractor' is not defined\n"
          ]
        },
        {
          "name": "stderr",
          "output_type": "stream",
          "text": [
            "Extracting features:  44%|████▎     | 436/1000 [00:07<00:09, 57.48it/s]"
          ]
        },
        {
          "name": "stdout",
          "output_type": "stream",
          "text": [
            "Error processing /Users/debabratapattnayak/web-dev/greencast/processed_data/plantvillage_color/train/Tomato___Leaf_Mold/bffaf3b2-61c2-43e1-bfec-a3412b3d5ac8___Crnl_L.Mold 7026.JPG: name 'deep_extractor' is not defined\n",
            "Error processing /Users/debabratapattnayak/web-dev/greencast/processed_data/plantvillage_color/train/Tomato___Tomato_Yellow_Leaf_Curl_Virus/91a717a9-5979-4733-ba97-109e9d32d959___UF.GRC_YLCV_Lab 02933.JPG: name 'deep_extractor' is not defined\n",
            "Error processing /Users/debabratapattnayak/web-dev/greencast/processed_data/plantvillage_color/train/Peach___Bacterial_spot/bfdcea17-18bd-475a-9eb2-77827fd77802___Rutg._Bact.S 2028.JPG: name 'deep_extractor' is not defined\n",
            "Error processing /Users/debabratapattnayak/web-dev/greencast/processed_data/plantvillage_color/train/Cherry_(including_sour)___Powdery_mildew/a90c7766-8136-4a31-b5b3-c20ef2927196___FREC_Pwd.M 4977.JPG: name 'deep_extractor' is not defined\n",
            "Error processing /Users/debabratapattnayak/web-dev/greencast/processed_data/plantvillage_color/train/Corn_(maize)___Common_rust_/RS_Rust 2104.JPG: name 'deep_extractor' is not defined\n",
            "Error processing /Users/debabratapattnayak/web-dev/greencast/processed_data/plantvillage_color/train/Corn_(maize)___Common_rust_/RS_Rust 2367.JPG: name 'deep_extractor' is not defined\n",
            "Error processing /Users/debabratapattnayak/web-dev/greencast/processed_data/plantvillage_color/train/Potato___Early_blight/1994cd3e-4000-4c56-bede-d35a1eecc287___RS_Early.B 6867.JPG: name 'deep_extractor' is not defined\n",
            "Error processing /Users/debabratapattnayak/web-dev/greencast/processed_data/plantvillage_color/train/Tomato___Bacterial_spot/06d98f32-c416-4a79-81df-8e64f8bb7779___GCREC_Bact.Sp 3083.JPG: name 'deep_extractor' is not defined\n",
            "Error processing /Users/debabratapattnayak/web-dev/greencast/processed_data/plantvillage_color/train/Apple___healthy/3ecbb982-2844-4662-ad65-9a94fee38fa3___RS_HL 8060.JPG: name 'deep_extractor' is not defined\n",
            "Error processing /Users/debabratapattnayak/web-dev/greencast/processed_data/plantvillage_color/train/Tomato___Bacterial_spot/ecba62cb-3f58-4de1-90a3-94e0ae818bc6___UF.GRC_BS_Lab Leaf 9124.JPG: name 'deep_extractor' is not defined\n",
            "Error processing /Users/debabratapattnayak/web-dev/greencast/processed_data/plantvillage_color/train/Orange___Haunglongbing_(Citrus_greening)/6638f906-f59d-45d5-9540-c8650049a011___CREC_HLB 6890.JPG: name 'deep_extractor' is not defined\n",
            "Error processing /Users/debabratapattnayak/web-dev/greencast/processed_data/plantvillage_color/train/Corn_(maize)___healthy/02e76b75-f201-44ee-a694-35edf97cc82b___R.S_HL 8015 copy.jpg: name 'deep_extractor' is not defined\n"
          ]
        },
        {
          "name": "stderr",
          "output_type": "stream",
          "text": [
            "Extracting features:  45%|████▍     | 448/1000 [00:08<00:10, 54.38it/s]"
          ]
        },
        {
          "name": "stdout",
          "output_type": "stream",
          "text": [
            "Error processing /Users/debabratapattnayak/web-dev/greencast/processed_data/plantvillage_color/train/Blueberry___healthy/50a14f2b-2360-42be-a26e-a51b8bc0bcbc___RS_HL 0707.JPG: name 'deep_extractor' is not defined\n",
            "Error processing /Users/debabratapattnayak/web-dev/greencast/processed_data/plantvillage_color/train/Raspberry___healthy/fafac0a9-e5ba-420d-9dbe-034942f845b9___Mary_HL 9201.JPG: name 'deep_extractor' is not defined\n",
            "Error processing /Users/debabratapattnayak/web-dev/greencast/processed_data/plantvillage_color/train/Cherry_(including_sour)___Powdery_mildew/04a35542-f567-4ad4-a97f-f472d21d30dd___FREC_Pwd.M 4471.JPG: name 'deep_extractor' is not defined\n",
            "Error processing /Users/debabratapattnayak/web-dev/greencast/processed_data/plantvillage_color/train/Tomato___Tomato_Yellow_Leaf_Curl_Virus/d035829b-f35c-4ce0-9545-06aa467efc29___UF.GRC_YLCV_Lab 01689.JPG: name 'deep_extractor' is not defined\n",
            "Error processing /Users/debabratapattnayak/web-dev/greencast/processed_data/plantvillage_color/train/Strawberry___healthy/273a7a9e-18be-4b6a-976a-fa5ffd69b731___RS_HL 4366.JPG: name 'deep_extractor' is not defined\n",
            "Error processing /Users/debabratapattnayak/web-dev/greencast/processed_data/plantvillage_color/train/Pepper,_bell___healthy/00100ffa-095e-4881-aebf-61fe5af7226e___JR_HL 7886.JPG: name 'deep_extractor' is not defined\n",
            "Error processing /Users/debabratapattnayak/web-dev/greencast/processed_data/plantvillage_color/train/Tomato___Early_blight/cdb26b0e-04b6-4ccf-855c-d85a106c1f95___RS_Erly.B 8387.JPG: name 'deep_extractor' is not defined\n",
            "Error processing /Users/debabratapattnayak/web-dev/greencast/processed_data/plantvillage_color/train/Corn_(maize)___Common_rust_/RS_Rust 2422.JPG: name 'deep_extractor' is not defined\n",
            "Error processing /Users/debabratapattnayak/web-dev/greencast/processed_data/plantvillage_color/train/Orange___Haunglongbing_(Citrus_greening)/2fc584e3-7295-4ff8-998e-3acb504c3ddf___CREC_HLB 5070.JPG: name 'deep_extractor' is not defined\n",
            "Error processing /Users/debabratapattnayak/web-dev/greencast/processed_data/plantvillage_color/train/Tomato___Septoria_leaf_spot/762a8298-be97-4967-b780-999e25e7ee5c___Matt.S_CG 7682.JPG: name 'deep_extractor' is not defined\n",
            "Error processing /Users/debabratapattnayak/web-dev/greencast/processed_data/plantvillage_color/train/Grape___Black_rot/c2dd3f0f-153d-4e95-96a6-77d2640aeea9___FAM_B.Rot 3241.JPG: name 'deep_extractor' is not defined\n"
          ]
        },
        {
          "name": "stderr",
          "output_type": "stream",
          "text": [
            "Extracting features:  46%|████▌     | 460/1000 [00:08<00:09, 56.10it/s]"
          ]
        },
        {
          "name": "stdout",
          "output_type": "stream",
          "text": [
            "Error processing /Users/debabratapattnayak/web-dev/greencast/processed_data/plantvillage_color/train/Tomato___healthy/876e3a03-14fb-4a13-888b-02b2d9fa8e86___RS_HL 0313.JPG: name 'deep_extractor' is not defined\n",
            "Error processing /Users/debabratapattnayak/web-dev/greencast/processed_data/plantvillage_color/train/Tomato___Leaf_Mold/4a46bb5d-fbbc-4607-82f0-ed5b98da8a9b___Crnl_L.Mold 6721.JPG: name 'deep_extractor' is not defined\n",
            "Error processing /Users/debabratapattnayak/web-dev/greencast/processed_data/plantvillage_color/train/Apple___Black_rot/7504315d-b8fb-4b7d-a293-2e224968ab30___JR_FrgE.S 8697.JPG: name 'deep_extractor' is not defined\n",
            "Error processing /Users/debabratapattnayak/web-dev/greencast/processed_data/plantvillage_color/train/Tomato___Tomato_mosaic_virus/263f99b9-9604-42c3-9a7f-687973b8dc79___PSU_CG 2280.JPG: name 'deep_extractor' is not defined\n",
            "Error processing /Users/debabratapattnayak/web-dev/greencast/processed_data/plantvillage_color/train/Grape___Black_rot/55ca1160-9110-416a-b35d-934c94037269___FAM_B.Rot 3484.JPG: name 'deep_extractor' is not defined\n",
            "Error processing /Users/debabratapattnayak/web-dev/greencast/processed_data/plantvillage_color/train/Soybean___healthy/82dddaee-bc69-4f8e-a5ae-4513dcccadf8___RS_HL 3467.JPG: name 'deep_extractor' is not defined\n",
            "Error processing /Users/debabratapattnayak/web-dev/greencast/processed_data/plantvillage_color/train/Grape___Esca_(Black_Measles)/111b8c34-4f71-4c88-949c-11a8369da8eb___FAM_B.Msls 1297.JPG: name 'deep_extractor' is not defined\n",
            "Error processing /Users/debabratapattnayak/web-dev/greencast/processed_data/plantvillage_color/train/Grape___Black_rot/5600cf30-20d3-4d78-8184-d8100f3d8b3b___FAM_B.Rot 3318.JPG: name 'deep_extractor' is not defined\n",
            "Error processing /Users/debabratapattnayak/web-dev/greencast/processed_data/plantvillage_color/train/Tomato___Late_blight/07d7ad48-0740-4cf5-9a26-91fd9296d6b3___RS_Late.B 5464.JPG: name 'deep_extractor' is not defined\n",
            "Error processing /Users/debabratapattnayak/web-dev/greencast/processed_data/plantvillage_color/train/Tomato___Late_blight/0db85707-41f9-42df-ba3b-842d14f00a68___GHLB2 Leaf 8909.JPG: name 'deep_extractor' is not defined\n",
            "Error processing /Users/debabratapattnayak/web-dev/greencast/processed_data/plantvillage_color/train/Tomato___Tomato_Yellow_Leaf_Curl_Virus/8d876ad4-9934-4ad6-adcc-e93ff103b816___UF.GRC_YLCV_Lab 03251.JPG: name 'deep_extractor' is not defined\n",
            "Error processing /Users/debabratapattnayak/web-dev/greencast/processed_data/plantvillage_color/train/Grape___Black_rot/a30c651a-ef6a-4c84-9fc8-b79663d71a9a___FAM_B.Rot 0589.JPG: name 'deep_extractor' is not defined\n"
          ]
        },
        {
          "name": "stderr",
          "output_type": "stream",
          "text": [
            "Extracting features:  47%|████▋     | 472/1000 [00:08<00:09, 56.98it/s]"
          ]
        },
        {
          "name": "stdout",
          "output_type": "stream",
          "text": [
            "Error processing /Users/debabratapattnayak/web-dev/greencast/processed_data/plantvillage_color/train/Tomato___healthy/236971d6-725b-4685-9336-550dd522d62a___RS_HL 0640.JPG: name 'deep_extractor' is not defined\n",
            "Error processing /Users/debabratapattnayak/web-dev/greencast/processed_data/plantvillage_color/train/Squash___Powdery_mildew/6338484a-a0da-441e-a79c-a088de6b2615___UMD_Powd.M 0500.JPG: name 'deep_extractor' is not defined\n",
            "Error processing /Users/debabratapattnayak/web-dev/greencast/processed_data/plantvillage_color/train/Pepper,_bell___healthy/cebc8525-5beb-45d4-b42b-2e3b3f4fa59e___JR_HL 7673.JPG: name 'deep_extractor' is not defined\n",
            "Error processing /Users/debabratapattnayak/web-dev/greencast/processed_data/plantvillage_color/train/Tomato___Bacterial_spot/ae471cad-5e5b-4325-a831-bdfe5c005cab___GCREC_Bact.Sp 6323.JPG: name 'deep_extractor' is not defined\n",
            "Error processing /Users/debabratapattnayak/web-dev/greencast/processed_data/plantvillage_color/train/Orange___Haunglongbing_(Citrus_greening)/0a51b9f7-ef8f-4598-b899-ea84d7319b6b___CREC_HLB 4396.JPG: name 'deep_extractor' is not defined\n",
            "Error processing /Users/debabratapattnayak/web-dev/greencast/processed_data/plantvillage_color/train/Orange___Haunglongbing_(Citrus_greening)/6e6161f9-35ec-4d3a-878e-0d3e72ccefa4___UF.Citrus_HLB_Lab 9723.JPG: name 'deep_extractor' is not defined\n",
            "Error processing /Users/debabratapattnayak/web-dev/greencast/processed_data/plantvillage_color/train/Tomato___Tomato_mosaic_virus/176ff795-1f59-4248-8374-bf5a88187934___PSU_CG 2160.JPG: name 'deep_extractor' is not defined\n",
            "Error processing /Users/debabratapattnayak/web-dev/greencast/processed_data/plantvillage_color/train/Peach___Bacterial_spot/c93d26ca-126c-49c2-82f3-9b78a0f6cb75___Rutg._Bact.S 1169.JPG: name 'deep_extractor' is not defined\n",
            "Error processing /Users/debabratapattnayak/web-dev/greencast/processed_data/plantvillage_color/train/Pepper,_bell___Bacterial_spot/9bb027f3-c76e-4d97-8564-8af1632dd3a9___JR_B.Spot 3217.JPG: name 'deep_extractor' is not defined\n",
            "Error processing /Users/debabratapattnayak/web-dev/greencast/processed_data/plantvillage_color/train/Tomato___Tomato_Yellow_Leaf_Curl_Virus/c4522723-04c5-4a3d-8814-bbeb8e9ef1e6___YLCV_GCREC 2907.JPG: name 'deep_extractor' is not defined\n",
            "Error processing /Users/debabratapattnayak/web-dev/greencast/processed_data/plantvillage_color/train/Blueberry___healthy/2588948e-b738-4e61-8402-1d68066224a8___RS_HL 4946.JPG: name 'deep_extractor' is not defined\n",
            "Error processing /Users/debabratapattnayak/web-dev/greencast/processed_data/plantvillage_color/train/Peach___Bacterial_spot/ec7a76ed-fa0f-4f7d-95a9-f1875c69a355___Rutg._Bact.S 1403.JPG: name 'deep_extractor' is not defined\n"
          ]
        },
        {
          "name": "stderr",
          "output_type": "stream",
          "text": [
            "Extracting features:  48%|████▊     | 484/1000 [00:08<00:08, 57.41it/s]"
          ]
        },
        {
          "name": "stdout",
          "output_type": "stream",
          "text": [
            "Error processing /Users/debabratapattnayak/web-dev/greencast/processed_data/plantvillage_color/train/Apple___healthy/6806c56d-b5d6-45fc-8e96-0d8def5932b9___RS_HL 5692.JPG: name 'deep_extractor' is not defined\n",
            "Error processing /Users/debabratapattnayak/web-dev/greencast/processed_data/plantvillage_color/train/Apple___Cedar_apple_rust/025b2b9a-0ec4-4132-96ac-7f2832d0db4a___FREC_C.Rust 3655.JPG: name 'deep_extractor' is not defined\n",
            "Error processing /Users/debabratapattnayak/web-dev/greencast/processed_data/plantvillage_color/train/Corn_(maize)___Common_rust_/RS_Rust 2029.JPG: name 'deep_extractor' is not defined\n",
            "Error processing /Users/debabratapattnayak/web-dev/greencast/processed_data/plantvillage_color/train/Tomato___Bacterial_spot/5d1f3889-f029-4ebd-834d-9e39d775b070___GCREC_Bact.Sp 5996.JPG: name 'deep_extractor' is not defined\n",
            "Error processing /Users/debabratapattnayak/web-dev/greencast/processed_data/plantvillage_color/train/Corn_(maize)___Common_rust_/RS_Rust 2424.JPG: name 'deep_extractor' is not defined\n",
            "Error processing /Users/debabratapattnayak/web-dev/greencast/processed_data/plantvillage_color/train/Tomato___Spider_mites Two-spotted_spider_mite/c01aec9e-5d62-456d-94da-d729dc6df038___Com.G_SpM_FL 1705.JPG: name 'deep_extractor' is not defined\n",
            "Error processing /Users/debabratapattnayak/web-dev/greencast/processed_data/plantvillage_color/train/Pepper,_bell___healthy/c53ed58f-ec94-4b0d-b2e7-f9d76ffc2fd0___JR_HL 8630.JPG: name 'deep_extractor' is not defined\n",
            "Error processing /Users/debabratapattnayak/web-dev/greencast/processed_data/plantvillage_color/train/Apple___healthy/fac70506-5bb2-40bb-a8bd-249cbe7c27e3___RS_HL 7693.JPG: name 'deep_extractor' is not defined\n",
            "Error processing /Users/debabratapattnayak/web-dev/greencast/processed_data/plantvillage_color/train/Potato___Late_blight/d2d8eb78-d267-4c37-a18c-b39a0bb11d82___RS_LB 3147.JPG: name 'deep_extractor' is not defined\n",
            "Error processing /Users/debabratapattnayak/web-dev/greencast/processed_data/plantvillage_color/train/Cherry_(including_sour)___healthy/b7b1918d-d608-4aa0-9990-f0ff9a90b414___JR_HL 4144.JPG: name 'deep_extractor' is not defined\n",
            "Error processing /Users/debabratapattnayak/web-dev/greencast/processed_data/plantvillage_color/train/Orange___Haunglongbing_(Citrus_greening)/3393ffe4-b4d7-41a9-b50f-0eed1a6af3ca___UF.Citrus_HLB_Lab 1338.JPG: name 'deep_extractor' is not defined\n",
            "Error processing /Users/debabratapattnayak/web-dev/greencast/processed_data/plantvillage_color/train/Orange___Haunglongbing_(Citrus_greening)/8e018877-ed96-4e3f-9d80-80aa4893eb5a___CREC_HLB 5702.JPG: name 'deep_extractor' is not defined\n"
          ]
        },
        {
          "name": "stderr",
          "output_type": "stream",
          "text": [
            "Extracting features:  50%|████▉     | 496/1000 [00:09<00:08, 57.69it/s]"
          ]
        },
        {
          "name": "stdout",
          "output_type": "stream",
          "text": [
            "Error processing /Users/debabratapattnayak/web-dev/greencast/processed_data/plantvillage_color/train/Grape___Black_rot/a6e19d46-c344-44c6-b6dd-dde257d23279___FAM_B.Rot 3447.JPG: name 'deep_extractor' is not defined\n",
            "Error processing /Users/debabratapattnayak/web-dev/greencast/processed_data/plantvillage_color/train/Peach___Bacterial_spot/47e82690-82af-43ba-aed3-80ac041475b0___Rutg._Bact.S 1311.JPG: name 'deep_extractor' is not defined\n",
            "Error processing /Users/debabratapattnayak/web-dev/greencast/processed_data/plantvillage_color/train/Tomato___healthy/f021c403-3d7b-4369-a928-531ca45c3b08___RS_HL 9682.JPG: name 'deep_extractor' is not defined\n",
            "Error processing /Users/debabratapattnayak/web-dev/greencast/processed_data/plantvillage_color/train/Blueberry___healthy/c1e94518-d2fe-4860-b877-c60f541acc42___RS_HL 2280.JPG: name 'deep_extractor' is not defined\n",
            "Error processing /Users/debabratapattnayak/web-dev/greencast/processed_data/plantvillage_color/train/Strawberry___Leaf_scorch/167092ad-3447-4720-8c84-1f7fd5b25e7e___RS_L.Scorch 1269.JPG: name 'deep_extractor' is not defined\n",
            "Error processing /Users/debabratapattnayak/web-dev/greencast/processed_data/plantvillage_color/train/Apple___Apple_scab/18e95262-fb0a-472c-93ab-e03138a360dc___FREC_Scab 3366.JPG: name 'deep_extractor' is not defined\n",
            "Error processing /Users/debabratapattnayak/web-dev/greencast/processed_data/plantvillage_color/train/Cherry_(including_sour)___Powdery_mildew/00f8611c-0f2c-4f24-8241-d1748c8bb48f___FREC_Pwd.M 0479.JPG: name 'deep_extractor' is not defined\n",
            "Error processing /Users/debabratapattnayak/web-dev/greencast/processed_data/plantvillage_color/train/Tomato___Target_Spot/babed586-ddef-4d50-9e09-b5153eda0aaf___Com.G_TgS_FL 0051.JPG: name 'deep_extractor' is not defined\n",
            "Error processing /Users/debabratapattnayak/web-dev/greencast/processed_data/plantvillage_color/train/Tomato___Tomato_Yellow_Leaf_Curl_Virus/2b180504-a56e-430a-a6a7-654fc8e62c9f___YLCV_NREC 0218.JPG: name 'deep_extractor' is not defined\n",
            "Error processing /Users/debabratapattnayak/web-dev/greencast/processed_data/plantvillage_color/train/Grape___Black_rot/8ac447fe-062a-4a55-8891-776cc5c2cb61___FAM_B.Rot 0761.JPG: name 'deep_extractor' is not defined\n",
            "Error processing /Users/debabratapattnayak/web-dev/greencast/processed_data/plantvillage_color/train/Strawberry___Leaf_scorch/5b19c65d-67a1-439e-b699-bb41ed610fba___RS_L.Scorch 1601.JPG: name 'deep_extractor' is not defined\n",
            "Error processing /Users/debabratapattnayak/web-dev/greencast/processed_data/plantvillage_color/train/Tomato___Tomato_Yellow_Leaf_Curl_Virus/bddb49e6-b8ff-4437-bba5-3a972e1294ed___YLCV_GCREC 2206.JPG: name 'deep_extractor' is not defined\n"
          ]
        },
        {
          "name": "stderr",
          "output_type": "stream",
          "text": [
            "Extracting features:  51%|█████     | 509/1000 [00:09<00:08, 58.71it/s]"
          ]
        },
        {
          "name": "stdout",
          "output_type": "stream",
          "text": [
            "Error processing /Users/debabratapattnayak/web-dev/greencast/processed_data/plantvillage_color/train/Orange___Haunglongbing_(Citrus_greening)/b25e7224-53dd-4d26-8a74-903dc4373719___UF.Citrus_HLB_Lab 0174.JPG: name 'deep_extractor' is not defined\n",
            "Error processing /Users/debabratapattnayak/web-dev/greencast/processed_data/plantvillage_color/train/Orange___Haunglongbing_(Citrus_greening)/41cb2b07-b5fe-4dab-9815-230bdd3602cf___UF.Citrus_HLB_Lab 1369.JPG: name 'deep_extractor' is not defined\n",
            "Error processing /Users/debabratapattnayak/web-dev/greencast/processed_data/plantvillage_color/train/Raspberry___healthy/479f93df-1351-41a1-b953-0453b3b66227___Mary_HL 6219.JPG: name 'deep_extractor' is not defined\n",
            "Error processing /Users/debabratapattnayak/web-dev/greencast/processed_data/plantvillage_color/train/Apple___Apple_scab/bf9a1cb3-baa2-42f6-881b-c77864b3019c___FREC_Scab 3189.JPG: name 'deep_extractor' is not defined\n",
            "Error processing /Users/debabratapattnayak/web-dev/greencast/processed_data/plantvillage_color/train/Apple___Black_rot/0cefbd12-c195-40cd-b2d1-be0f9ee550b4___JR_FrgE.S 8762.JPG: name 'deep_extractor' is not defined\n",
            "Error processing /Users/debabratapattnayak/web-dev/greencast/processed_data/plantvillage_color/train/Tomato___Septoria_leaf_spot/3f6c0ef0-068b-4566-a643-9a368d50bdc4___JR_Sept.L.S 8380.JPG: name 'deep_extractor' is not defined\n",
            "Error processing /Users/debabratapattnayak/web-dev/greencast/processed_data/plantvillage_color/train/Tomato___Bacterial_spot/2731979e-e02a-4736-8475-4542fcc6f596___UF.GRC_BS_Lab Leaf 0227.JPG: name 'deep_extractor' is not defined\n",
            "Error processing /Users/debabratapattnayak/web-dev/greencast/processed_data/plantvillage_color/train/Tomato___Leaf_Mold/50a47a28-bbe5-43fb-a2b9-f13c3805de0c___Crnl_L.Mold 6572.JPG: name 'deep_extractor' is not defined\n",
            "Error processing /Users/debabratapattnayak/web-dev/greencast/processed_data/plantvillage_color/train/Grape___Leaf_blight_(Isariopsis_Leaf_Spot)/2a1f4716-f593-487a-b944-363d3f5af429___FAM_L.Blight 4809.JPG: name 'deep_extractor' is not defined\n",
            "Error processing /Users/debabratapattnayak/web-dev/greencast/processed_data/plantvillage_color/train/Pepper,_bell___Bacterial_spot/c4791388-b93b-4cad-9ee8-e243c2847f0c___JR_B.Spot 9024.JPG: name 'deep_extractor' is not defined\n",
            "Error processing /Users/debabratapattnayak/web-dev/greencast/processed_data/plantvillage_color/train/Corn_(maize)___Common_rust_/RS_Rust 2474.JPG: name 'deep_extractor' is not defined\n",
            "Error processing /Users/debabratapattnayak/web-dev/greencast/processed_data/plantvillage_color/train/Grape___Leaf_blight_(Isariopsis_Leaf_Spot)/598bae53-ccaf-478c-b593-e96b6c0591fd___FAM_L.Blight 1570.JPG: name 'deep_extractor' is not defined\n",
            "Error processing /Users/debabratapattnayak/web-dev/greencast/processed_data/plantvillage_color/train/Orange___Haunglongbing_(Citrus_greening)/7a0f96cc-72a2-426f-9d48-9ae4f340010d___CREC_HLB 3898.JPG: name 'deep_extractor' is not defined\n"
          ]
        },
        {
          "name": "stderr",
          "output_type": "stream",
          "text": [
            "Extracting features:  52%|█████▏    | 522/1000 [00:09<00:08, 56.85it/s]"
          ]
        },
        {
          "name": "stdout",
          "output_type": "stream",
          "text": [
            "Error processing /Users/debabratapattnayak/web-dev/greencast/processed_data/plantvillage_color/train/Apple___healthy/f3f9c00a-94b1-43bf-aa9a-a712f0925aaa___RS_HL 6308.JPG: name 'deep_extractor' is not defined\n",
            "Error processing /Users/debabratapattnayak/web-dev/greencast/processed_data/plantvillage_color/train/Orange___Haunglongbing_(Citrus_greening)/61effd60-4729-413d-836c-ef1a9909449e___CREC_HLB 5029.JPG: name 'deep_extractor' is not defined\n",
            "Error processing /Users/debabratapattnayak/web-dev/greencast/processed_data/plantvillage_color/train/Potato___Early_blight/2b982641-10ea-4426-874f-509e6377ff59___RS_Early.B 7663.JPG: name 'deep_extractor' is not defined\n",
            "Error processing /Users/debabratapattnayak/web-dev/greencast/processed_data/plantvillage_color/train/Grape___Black_rot/10101516-c385-4a77-9abd-38ec4fa98085___FAM_B.Rot 0712.JPG: name 'deep_extractor' is not defined\n",
            "Error processing /Users/debabratapattnayak/web-dev/greencast/processed_data/plantvillage_color/train/Grape___Black_rot/623d6138-8f61-48b4-a724-8ca614740ca6___FAM_B.Rot 3167.JPG: name 'deep_extractor' is not defined\n",
            "Error processing /Users/debabratapattnayak/web-dev/greencast/processed_data/plantvillage_color/train/Peach___Bacterial_spot/efc7e19f-df8a-41d8-8f58-08c90017418a___Rut._Bact.S 1398.JPG: name 'deep_extractor' is not defined\n",
            "Error processing /Users/debabratapattnayak/web-dev/greencast/processed_data/plantvillage_color/train/Apple___Apple_scab/6b5e1187-9b7b-4b4c-912f-b2175619f35f___FREC_Scab 3121.JPG: name 'deep_extractor' is not defined\n",
            "Error processing /Users/debabratapattnayak/web-dev/greencast/processed_data/plantvillage_color/train/Peach___Bacterial_spot/c52fcfe0-ed1f-4513-b25f-462dc4c82620___Rut._Bact.S 1536.JPG: name 'deep_extractor' is not defined\n",
            "Error processing /Users/debabratapattnayak/web-dev/greencast/processed_data/plantvillage_color/train/Tomato___Bacterial_spot/8813e958-3b2a-4eee-86bb-88133f98b971___GCREC_Bact.Sp 3297.JPG: name 'deep_extractor' is not defined\n",
            "Error processing /Users/debabratapattnayak/web-dev/greencast/processed_data/plantvillage_color/train/Corn_(maize)___Northern_Leaf_Blight/7dcf62d0-3500-4902-bfe8-e5eab0dcdcaa___RS_NLB 4119.JPG: name 'deep_extractor' is not defined\n",
            "Error processing /Users/debabratapattnayak/web-dev/greencast/processed_data/plantvillage_color/train/Soybean___healthy/e53ee993-e541-49e6-b1e8-314a4485cf66___RS_HL 7162.JPG: name 'deep_extractor' is not defined\n"
          ]
        },
        {
          "name": "stderr",
          "output_type": "stream",
          "text": [
            "Extracting features:  54%|█████▎    | 535/1000 [00:09<00:07, 59.17it/s]"
          ]
        },
        {
          "name": "stdout",
          "output_type": "stream",
          "text": [
            "Error processing /Users/debabratapattnayak/web-dev/greencast/processed_data/plantvillage_color/train/Peach___Bacterial_spot/49ffa9ad-6a96-4d5d-a797-11e2ef0fcd31___Rutg._Bact.S 2325.JPG: name 'deep_extractor' is not defined\n",
            "Error processing /Users/debabratapattnayak/web-dev/greencast/processed_data/plantvillage_color/train/Grape___Esca_(Black_Measles)/154dc4f7-71fb-45fe-ab17-1d96c0ac5940___FAM_B.Msls 0905.JPG: name 'deep_extractor' is not defined\n",
            "Error processing /Users/debabratapattnayak/web-dev/greencast/processed_data/plantvillage_color/train/Grape___Esca_(Black_Measles)/fdf922fe-da7c-43a0-8e31-7c63ff8d5b2c___FAM_B.Msls 4284.JPG: name 'deep_extractor' is not defined\n",
            "Error processing /Users/debabratapattnayak/web-dev/greencast/processed_data/plantvillage_color/train/Pepper,_bell___healthy/65b444c4-e03b-49e2-8ea6-ee3135be368e___JR_HL 8088.JPG: name 'deep_extractor' is not defined\n",
            "Error processing /Users/debabratapattnayak/web-dev/greencast/processed_data/plantvillage_color/train/Tomato___healthy/419bb16e-1d52-4788-8cb5-a8fb30d554fe___RS_HL 9683.JPG: name 'deep_extractor' is not defined\n",
            "Error processing /Users/debabratapattnayak/web-dev/greencast/processed_data/plantvillage_color/train/Grape___Black_rot/5ca2ac16-73d9-475d-bb60-40afddb76ef0___FAM_B.Rot 3409.JPG: name 'deep_extractor' is not defined\n",
            "Error processing /Users/debabratapattnayak/web-dev/greencast/processed_data/plantvillage_color/train/Blueberry___healthy/a19e6cc6-e04b-451c-8d51-143ba9512869___RS_HL 0706.JPG: name 'deep_extractor' is not defined\n",
            "Error processing /Users/debabratapattnayak/web-dev/greencast/processed_data/plantvillage_color/train/Tomato___Target_Spot/b969f29a-d7bd-4be8-a048-62eee7a5405b___Com.G_TgS_FL 7977.JPG: name 'deep_extractor' is not defined\n",
            "Error processing /Users/debabratapattnayak/web-dev/greencast/processed_data/plantvillage_color/train/Peach___Bacterial_spot/9a078cfa-5766-47c5-9bc0-021ba1495045___Rut._Bact.S 0790.JPG: name 'deep_extractor' is not defined\n",
            "Error processing /Users/debabratapattnayak/web-dev/greencast/processed_data/plantvillage_color/train/Cherry_(including_sour)___Powdery_mildew/d47d4ce9-a4da-4f75-a106-3b56e43cb8ec___FREC_Pwd.M 5056.JPG: name 'deep_extractor' is not defined\n",
            "Error processing /Users/debabratapattnayak/web-dev/greencast/processed_data/plantvillage_color/train/Apple___Apple_scab/1d81b4c1-072d-4cf7-b1ca-ce43f59822d8___FREC_Scab 3406.JPG: name 'deep_extractor' is not defined\n",
            "Error processing /Users/debabratapattnayak/web-dev/greencast/processed_data/plantvillage_color/train/Tomato___Bacterial_spot/ea184fd1-b4aa-4121-b88b-ef833d6465d2___GCREC_Bact.Sp 6067.JPG: name 'deep_extractor' is not defined\n",
            "Error processing /Users/debabratapattnayak/web-dev/greencast/processed_data/plantvillage_color/train/Corn_(maize)___Common_rust_/RS_Rust 2140.JPG: name 'deep_extractor' is not defined\n"
          ]
        },
        {
          "name": "stderr",
          "output_type": "stream",
          "text": [
            "Extracting features:  55%|█████▍    | 548/1000 [00:09<00:07, 58.50it/s]"
          ]
        },
        {
          "name": "stdout",
          "output_type": "stream",
          "text": [
            "Error processing /Users/debabratapattnayak/web-dev/greencast/processed_data/plantvillage_color/train/Tomato___Target_Spot/03002b91-afe3-4c72-86b8-31028913434e___Com.G_TgS_FL 0682.JPG: name 'deep_extractor' is not defined\n",
            "Error processing /Users/debabratapattnayak/web-dev/greencast/processed_data/plantvillage_color/train/Apple___healthy/d4008303-6d94-458e-b0f4-61044cc427ae___RS_HL 7709.JPG: name 'deep_extractor' is not defined\n",
            "Error processing /Users/debabratapattnayak/web-dev/greencast/processed_data/plantvillage_color/train/Tomato___Tomato_Yellow_Leaf_Curl_Virus/506e6868-cab4-4109-8b63-40d7350c4e79___YLCV_NREC 0307.JPG: name 'deep_extractor' is not defined\n",
            "Error processing /Users/debabratapattnayak/web-dev/greencast/processed_data/plantvillage_color/train/Tomato___Early_blight/4cbe4896-66b5-4834-8eb7-5baf49ed2f7d___RS_Erly.B 8354.JPG: name 'deep_extractor' is not defined\n",
            "Error processing /Users/debabratapattnayak/web-dev/greencast/processed_data/plantvillage_color/train/Orange___Haunglongbing_(Citrus_greening)/c43e8aca-0d95-4a3c-a8aa-7532dee280fd___UF.Citrus_HLB_Lab 0655.JPG: name 'deep_extractor' is not defined\n",
            "Error processing /Users/debabratapattnayak/web-dev/greencast/processed_data/plantvillage_color/train/Tomato___Septoria_leaf_spot/da74ea57-f6f1-4adb-8bcd-1a72c3f91bcf___Matt.S_CG 0920.JPG: name 'deep_extractor' is not defined\n",
            "Error processing /Users/debabratapattnayak/web-dev/greencast/processed_data/plantvillage_color/train/Orange___Haunglongbing_(Citrus_greening)/02fc11bb-9218-4431-b8f7-c581354cd42b___CREC_HLB 3944.JPG: name 'deep_extractor' is not defined\n",
            "Error processing /Users/debabratapattnayak/web-dev/greencast/processed_data/plantvillage_color/train/Orange___Haunglongbing_(Citrus_greening)/e631197d-7299-4215-8d4a-9ebf1ee2f91e___CREC_HLB 3959.JPG: name 'deep_extractor' is not defined\n",
            "Error processing /Users/debabratapattnayak/web-dev/greencast/processed_data/plantvillage_color/train/Peach___Bacterial_spot/b553d499-0e00-4d08-8502-8986fa12096e___Rutg._Bact.S 1328.JPG: name 'deep_extractor' is not defined\n",
            "Error processing /Users/debabratapattnayak/web-dev/greencast/processed_data/plantvillage_color/train/Cherry_(including_sour)___healthy/dcdc22d9-37df-421c-b349-d412ded169ba___JR_HL 4025.JPG: name 'deep_extractor' is not defined\n",
            "Error processing /Users/debabratapattnayak/web-dev/greencast/processed_data/plantvillage_color/train/Tomato___Late_blight/2c666dfe-4499-48cf-926c-ecdea7864087___GHLB2 Leaf 8947.JPG: name 'deep_extractor' is not defined\n",
            "Error processing /Users/debabratapattnayak/web-dev/greencast/processed_data/plantvillage_color/train/Peach___Bacterial_spot/f0e7bfec-bdfa-440d-83b7-94897376e623___Rutg._Bact.S 2164.JPG: name 'deep_extractor' is not defined\n",
            "Error processing /Users/debabratapattnayak/web-dev/greencast/processed_data/plantvillage_color/train/Orange___Haunglongbing_(Citrus_greening)/f575c239-e7db-4d09-aa1e-56c38348b3a2___CREC_HLB 6941.JPG: name 'deep_extractor' is not defined\n"
          ]
        },
        {
          "name": "stderr",
          "output_type": "stream",
          "text": [
            "Extracting features:  56%|█████▌    | 555/1000 [00:10<00:07, 59.75it/s]"
          ]
        },
        {
          "name": "stdout",
          "output_type": "stream",
          "text": [
            "Error processing /Users/debabratapattnayak/web-dev/greencast/processed_data/plantvillage_color/train/Corn_(maize)___healthy/735da592-2081-42bd-9652-3d12e19210cc___R.S_HL 7918 copy 2.jpg: name 'deep_extractor' is not defined\n",
            "Error processing /Users/debabratapattnayak/web-dev/greencast/processed_data/plantvillage_color/train/Tomato___Late_blight/00ce4c63-9913-4b16-898c-29f99acf0dc3___RS_Late.B 4982.JPG: name 'deep_extractor' is not defined\n",
            "Error processing /Users/debabratapattnayak/web-dev/greencast/processed_data/plantvillage_color/train/Tomato___Septoria_leaf_spot/e9d6c8b2-2174-4f01-ad8a-ef6a8ed1cfb7___Keller.St_CG 1993.JPG: name 'deep_extractor' is not defined\n",
            "Error processing /Users/debabratapattnayak/web-dev/greencast/processed_data/plantvillage_color/train/Grape___Esca_(Black_Measles)/2bd4541e-4ea6-484d-a490-07e2abe41758___FAM_B.Msls 1122.JPG: name 'deep_extractor' is not defined\n",
            "Error processing /Users/debabratapattnayak/web-dev/greencast/processed_data/plantvillage_color/train/Soybean___healthy/0f236598-dc03-4b52-aa7b-613e8fddcd3e___RS_HL 3326.JPG: name 'deep_extractor' is not defined\n",
            "Error processing /Users/debabratapattnayak/web-dev/greencast/processed_data/plantvillage_color/train/Soybean___healthy/848af9c8-3bf3-44b3-b5b6-c0846205846e___RS_HL 3705.JPG: name 'deep_extractor' is not defined\n",
            "Error processing /Users/debabratapattnayak/web-dev/greencast/processed_data/plantvillage_color/train/Corn_(maize)___healthy/e1059625-eff1-402f-87e0-01ed187dc8b6___R.S_HL 8185 copy 3.jpg: name 'deep_extractor' is not defined\n",
            "Error processing /Users/debabratapattnayak/web-dev/greencast/processed_data/plantvillage_color/train/Soybean___healthy/153d87ab-f783-459f-87fe-bc381537db7d___RS_HL 5848.JPG: name 'deep_extractor' is not defined\n",
            "Error processing /Users/debabratapattnayak/web-dev/greencast/processed_data/plantvillage_color/train/Orange___Haunglongbing_(Citrus_greening)/a31e8fc1-34af-4911-b2dd-021cd741e824___UF.Citrus_HLB_Lab 1653.JPG: name 'deep_extractor' is not defined\n",
            "Error processing /Users/debabratapattnayak/web-dev/greencast/processed_data/plantvillage_color/train/Corn_(maize)___healthy/70b37163-3817-4d1e-98eb-75ba4ef240ea___R.S_HL 7927 copy.jpg: name 'deep_extractor' is not defined\n",
            "Error processing /Users/debabratapattnayak/web-dev/greencast/processed_data/plantvillage_color/train/Tomato___Bacterial_spot/7b40e020-e33c-4e9f-8093-d7593b8340dc___GCREC_Bact.Sp 3348.JPG: name 'deep_extractor' is not defined\n",
            "Error processing /Users/debabratapattnayak/web-dev/greencast/processed_data/plantvillage_color/train/Cherry_(including_sour)___Powdery_mildew/be3fa929-9035-41bf-adfb-e55f97fab802___FREC_Pwd.M 4684.JPG: name 'deep_extractor' is not defined\n",
            "Error processing /Users/debabratapattnayak/web-dev/greencast/processed_data/plantvillage_color/train/Apple___Apple_scab/679c439b-740f-45cb-a9ba-d2984694fb25___FREC_Scab 2950.JPG: name 'deep_extractor' is not defined\n"
          ]
        },
        {
          "name": "stderr",
          "output_type": "stream",
          "text": [
            "Extracting features:  57%|█████▋    | 569/1000 [00:10<00:07, 60.66it/s]"
          ]
        },
        {
          "name": "stdout",
          "output_type": "stream",
          "text": [
            "Error processing /Users/debabratapattnayak/web-dev/greencast/processed_data/plantvillage_color/train/Tomato___Bacterial_spot/624af462-6321-42a3-a79e-52cedc26a10e___GCREC_Bact.Sp 3764.JPG: name 'deep_extractor' is not defined\n",
            "Error processing /Users/debabratapattnayak/web-dev/greencast/processed_data/plantvillage_color/train/Cherry_(including_sour)___Powdery_mildew/63da749f-b051-4b5b-98ad-217a21654171___FREC_Pwd.M 4619.JPG: name 'deep_extractor' is not defined\n",
            "Error processing /Users/debabratapattnayak/web-dev/greencast/processed_data/plantvillage_color/train/Tomato___healthy/bb7e22d2-f187-4358-a78a-0ea71ecfadcb___RS_HL 9818.JPG: name 'deep_extractor' is not defined\n",
            "Error processing /Users/debabratapattnayak/web-dev/greencast/processed_data/plantvillage_color/train/Grape___Esca_(Black_Measles)/15a57336-a8a5-464d-bb8a-14de39dcb809___FAM_B.Msls 1092.JPG: name 'deep_extractor' is not defined\n",
            "Error processing /Users/debabratapattnayak/web-dev/greencast/processed_data/plantvillage_color/train/Tomato___Septoria_leaf_spot/7d2e7df9-0b0d-49dc-8161-7601f1cdcf5f___JR_Sept.L.S 2552.JPG: name 'deep_extractor' is not defined\n",
            "Error processing /Users/debabratapattnayak/web-dev/greencast/processed_data/plantvillage_color/train/Corn_(maize)___Northern_Leaf_Blight/a74f0a0e-7067-4e6d-9030-d576034f1736___RS_NLB  4508 copy.jpg: name 'deep_extractor' is not defined\n",
            "Error processing /Users/debabratapattnayak/web-dev/greencast/processed_data/plantvillage_color/train/Orange___Haunglongbing_(Citrus_greening)/778b3d24-4807-4242-9654-218fcdf54e02___UF.Citrus_HLB_Lab 1727.JPG: name 'deep_extractor' is not defined\n",
            "Error processing /Users/debabratapattnayak/web-dev/greencast/processed_data/plantvillage_color/train/Corn_(maize)___Common_rust_/RS_Rust 2429.JPG: name 'deep_extractor' is not defined\n",
            "Error processing /Users/debabratapattnayak/web-dev/greencast/processed_data/plantvillage_color/train/Corn_(maize)___Common_rust_/RS_Rust 2664.JPG: name 'deep_extractor' is not defined\n",
            "Error processing /Users/debabratapattnayak/web-dev/greencast/processed_data/plantvillage_color/train/Peach___healthy/65e93287-a900-4c89-bde8-e99dc095d256___Rutg._HL 2425.JPG: name 'deep_extractor' is not defined\n",
            "Error processing /Users/debabratapattnayak/web-dev/greencast/processed_data/plantvillage_color/train/Corn_(maize)___healthy/a8474109-c782-4c89-ab64-616c1aaea061___R.S_HL 7965 copy.jpg: name 'deep_extractor' is not defined\n",
            "Error processing /Users/debabratapattnayak/web-dev/greencast/processed_data/plantvillage_color/train/Peach___Bacterial_spot/4b98799f-bcdb-41c5-9116-558e13d27211___Rut._Bact.S 3477.JPG: name 'deep_extractor' is not defined\n",
            "Error processing /Users/debabratapattnayak/web-dev/greencast/processed_data/plantvillage_color/train/Soybean___healthy/77dd4e53-80a4-4203-96ec-9b19208a59b7___RS_HL 6071.JPG: name 'deep_extractor' is not defined\n"
          ]
        },
        {
          "name": "stderr",
          "output_type": "stream",
          "text": [
            "Extracting features:  58%|█████▊    | 583/1000 [00:10<00:06, 60.66it/s]"
          ]
        },
        {
          "name": "stdout",
          "output_type": "stream",
          "text": [
            "Error processing /Users/debabratapattnayak/web-dev/greencast/processed_data/plantvillage_color/train/Potato___Early_blight/b09e0cba-0564-4dde-a90d-3c0d90d6336e___RS_Early.B 7776.JPG: name 'deep_extractor' is not defined\n",
            "Error processing /Users/debabratapattnayak/web-dev/greencast/processed_data/plantvillage_color/train/Pepper,_bell___Bacterial_spot/0d8421cd-eebc-4018-b591-12352dd970a7___JR_B.Spot 3234.JPG: name 'deep_extractor' is not defined\n",
            "Error processing /Users/debabratapattnayak/web-dev/greencast/processed_data/plantvillage_color/train/Tomato___Late_blight/039e5d57-64e2-41de-8ccf-e44598bcedb0___RS_Late.B 6883.JPG: name 'deep_extractor' is not defined\n",
            "Error processing /Users/debabratapattnayak/web-dev/greencast/processed_data/plantvillage_color/train/Strawberry___Leaf_scorch/1dd884ae-812c-4330-b1c2-c12385e326d6___RS_L.Scorch 0110.JPG: name 'deep_extractor' is not defined\n",
            "Error processing /Users/debabratapattnayak/web-dev/greencast/processed_data/plantvillage_color/train/Tomato___healthy/f7069452-9405-45a6-bfb3-f21ea42b9b02___RS_HL 9966.JPG: name 'deep_extractor' is not defined\n",
            "Error processing /Users/debabratapattnayak/web-dev/greencast/processed_data/plantvillage_color/train/Tomato___healthy/04dec2d5-560b-4f34-a4a1-36b034031e4d___RS_HL 0516.JPG: name 'deep_extractor' is not defined\n",
            "Error processing /Users/debabratapattnayak/web-dev/greencast/processed_data/plantvillage_color/train/Tomato___healthy/73cc02ea-96ad-4e02-8240-b599cf1e0384___RS_HL 9839.JPG: name 'deep_extractor' is not defined\n",
            "Error processing /Users/debabratapattnayak/web-dev/greencast/processed_data/plantvillage_color/train/Tomato___Spider_mites Two-spotted_spider_mite/9a10c05b-c5ac-4cbf-bc11-5682700f8c4e___Com.G_SpM_FL 1474.JPG: name 'deep_extractor' is not defined\n",
            "Error processing /Users/debabratapattnayak/web-dev/greencast/processed_data/plantvillage_color/train/Tomato___healthy/8ddc8178-4609-4267-bd55-028de3f759c8___RS_HL 0004.JPG: name 'deep_extractor' is not defined\n",
            "Error processing /Users/debabratapattnayak/web-dev/greencast/processed_data/plantvillage_color/train/Tomato___Spider_mites Two-spotted_spider_mite/9bba8874-aadd-4b80-8e5c-dea2e4b6457d___Com.G_SpM_FL 1517.JPG: name 'deep_extractor' is not defined\n",
            "Error processing /Users/debabratapattnayak/web-dev/greencast/processed_data/plantvillage_color/train/Cherry_(including_sour)___Powdery_mildew/e8abf13a-ddfe-4dd8-b397-9ac7484279cf___FREC_Pwd.M 0557.JPG: name 'deep_extractor' is not defined\n",
            "Error processing /Users/debabratapattnayak/web-dev/greencast/processed_data/plantvillage_color/train/Squash___Powdery_mildew/9205f3b3-69be-4c5d-ab86-91a1cde505f8___MD_Powd.M 9975.JPG: name 'deep_extractor' is not defined\n",
            "Error processing /Users/debabratapattnayak/web-dev/greencast/processed_data/plantvillage_color/train/Pepper,_bell___healthy/f4accacc-f839-4bc4-b365-4a021c00c944___JR_HL 8833.JPG: name 'deep_extractor' is not defined\n"
          ]
        },
        {
          "name": "stderr",
          "output_type": "stream",
          "text": [
            "Extracting features:  60%|█████▉    | 597/1000 [00:10<00:06, 58.84it/s]"
          ]
        },
        {
          "name": "stdout",
          "output_type": "stream",
          "text": [
            "Error processing /Users/debabratapattnayak/web-dev/greencast/processed_data/plantvillage_color/train/Tomato___Bacterial_spot/d55c36fd-0ecb-49d9-a2c0-a5039f83b393___GCREC_Bact.Sp 3410.JPG: name 'deep_extractor' is not defined\n",
            "Error processing /Users/debabratapattnayak/web-dev/greencast/processed_data/plantvillage_color/train/Pepper,_bell___healthy/3f3b903c-cfeb-4574-8be7-1580296d7c2f___JR_HL 5865.JPG: name 'deep_extractor' is not defined\n",
            "Error processing /Users/debabratapattnayak/web-dev/greencast/processed_data/plantvillage_color/train/Tomato___Target_Spot/6d8550bb-b43d-4e66-a5fc-f320110ad625___Com.G_TgS_FL 9905.JPG: name 'deep_extractor' is not defined\n",
            "Error processing /Users/debabratapattnayak/web-dev/greencast/processed_data/plantvillage_color/train/Corn_(maize)___Common_rust_/RS_Rust 1732.JPG: name 'deep_extractor' is not defined\n",
            "Error processing /Users/debabratapattnayak/web-dev/greencast/processed_data/plantvillage_color/train/Peach___Bacterial_spot/afa45ba5-153b-4a35-8187-2867078711cb___Rutg._Bact.S 1702.JPG: name 'deep_extractor' is not defined\n",
            "Error processing /Users/debabratapattnayak/web-dev/greencast/processed_data/plantvillage_color/train/Pepper,_bell___healthy/3b0f8dbb-905b-4bdc-b4c6-231a22a47287___JR_HL 7610.JPG: name 'deep_extractor' is not defined\n",
            "Error processing /Users/debabratapattnayak/web-dev/greencast/processed_data/plantvillage_color/train/Peach___Bacterial_spot/68a527c9-729d-4cb0-b974-0f397b61bca1___Rutg._Bact.S 1469.JPG: name 'deep_extractor' is not defined\n",
            "Error processing /Users/debabratapattnayak/web-dev/greencast/processed_data/plantvillage_color/train/Grape___Leaf_blight_(Isariopsis_Leaf_Spot)/48f89d78-f5e2-4b1d-9014-0bd7b16e17c1___FAM_L.Blight 4910.JPG: name 'deep_extractor' is not defined\n",
            "Error processing /Users/debabratapattnayak/web-dev/greencast/processed_data/plantvillage_color/train/Tomato___Septoria_leaf_spot/0a70601b-8511-4a56-9562-c95c46372874___Matt.S_CG 1032.JPG: name 'deep_extractor' is not defined\n",
            "Error processing /Users/debabratapattnayak/web-dev/greencast/processed_data/plantvillage_color/train/Pepper,_bell___healthy/508ca47c-f3f9-4e1e-a9e8-759de2d45471___JR_HL 8678.JPG: name 'deep_extractor' is not defined\n",
            "Error processing /Users/debabratapattnayak/web-dev/greencast/processed_data/plantvillage_color/train/Tomato___Septoria_leaf_spot/6e2dd387-240a-4b31-995e-3389310d8db3___Matt.S_CG 2542.JPG: name 'deep_extractor' is not defined\n",
            "Error processing /Users/debabratapattnayak/web-dev/greencast/processed_data/plantvillage_color/train/Apple___healthy/0da48999-25da-4373-8277-3718a8203d0a___RS_HL 8012.JPG: name 'deep_extractor' is not defined\n"
          ]
        },
        {
          "name": "stderr",
          "output_type": "stream",
          "text": [
            "Extracting features:  61%|██████    | 609/1000 [00:10<00:06, 58.73it/s]"
          ]
        },
        {
          "name": "stdout",
          "output_type": "stream",
          "text": [
            "Error processing /Users/debabratapattnayak/web-dev/greencast/processed_data/plantvillage_color/train/Potato___Early_blight/4eb1fee6-e288-4c32-841d-9fc1d1824508___RS_Early.B 8446.JPG: name 'deep_extractor' is not defined\n",
            "Error processing /Users/debabratapattnayak/web-dev/greencast/processed_data/plantvillage_color/train/Orange___Haunglongbing_(Citrus_greening)/0f0b6faa-28b9-4a48-9d96-2ae2cb5082e4___CREC_HLB 5283.JPG: name 'deep_extractor' is not defined\n",
            "Error processing /Users/debabratapattnayak/web-dev/greencast/processed_data/plantvillage_color/train/Tomato___Early_blight/5592a349-b19a-4fe8-a131-a89bbae8b655___RS_Erly.B 7474.JPG: name 'deep_extractor' is not defined\n",
            "Error processing /Users/debabratapattnayak/web-dev/greencast/processed_data/plantvillage_color/train/Apple___healthy/ea6534d4-60f0-4607-b02b-fbd25fe9a9b4___RS_HL 5681.JPG: name 'deep_extractor' is not defined\n",
            "Error processing /Users/debabratapattnayak/web-dev/greencast/processed_data/plantvillage_color/train/Tomato___Target_Spot/e4d49981-3d94-4a22-bba7-2be41b0fc65f___Com.G_TgS_FL 9880.JPG: name 'deep_extractor' is not defined\n",
            "Error processing /Users/debabratapattnayak/web-dev/greencast/processed_data/plantvillage_color/train/Tomato___Tomato_Yellow_Leaf_Curl_Virus/2531fc5c-6659-46f3-b915-5eab5fcd6782___UF.GRC_YLCV_Lab 02759.JPG: name 'deep_extractor' is not defined\n",
            "Error processing /Users/debabratapattnayak/web-dev/greencast/processed_data/plantvillage_color/train/Orange___Haunglongbing_(Citrus_greening)/4293c596-5b6c-4bc3-9e27-3e35c5e6ad07___UF.Citrus_HLB_Lab 1357.JPG: name 'deep_extractor' is not defined\n",
            "Error processing /Users/debabratapattnayak/web-dev/greencast/processed_data/plantvillage_color/train/Cherry_(including_sour)___Powdery_mildew/0a283423-3a6d-43a4-92e5-267c8153ca45___FREC_Pwd.M 4921.JPG: name 'deep_extractor' is not defined\n",
            "Error processing /Users/debabratapattnayak/web-dev/greencast/processed_data/plantvillage_color/train/Squash___Powdery_mildew/3c364e1f-6970-45f8-b298-87aea856495e___UMD_Powd.M 0265.JPG: name 'deep_extractor' is not defined\n",
            "Error processing /Users/debabratapattnayak/web-dev/greencast/processed_data/plantvillage_color/train/Tomato___Septoria_leaf_spot/681a274a-abbf-4498-bb37-02192cc336a9___Matt.S_CG 6333.JPG: name 'deep_extractor' is not defined\n",
            "Error processing /Users/debabratapattnayak/web-dev/greencast/processed_data/plantvillage_color/train/Apple___healthy/8e2d41f1-9cae-4f1a-b7b4-9ec0c6fbd6fe___RS_HL 7329.JPG: name 'deep_extractor' is not defined\n",
            "Error processing /Users/debabratapattnayak/web-dev/greencast/processed_data/plantvillage_color/train/Strawberry___healthy/c2052c26-d4f7-4f0a-845b-5e25cc2f6e48___RS_HL 4409.JPG: name 'deep_extractor' is not defined\n"
          ]
        },
        {
          "name": "stderr",
          "output_type": "stream",
          "text": [
            "Extracting features:  62%|██████▏   | 621/1000 [00:11<00:06, 58.21it/s]"
          ]
        },
        {
          "name": "stdout",
          "output_type": "stream",
          "text": [
            "Error processing /Users/debabratapattnayak/web-dev/greencast/processed_data/plantvillage_color/train/Corn_(maize)___Cercospora_leaf_spot Gray_leaf_spot/a7dc9342-e554-4245-98f7-d35a3cbd52fe___RS_GLSp 7281.JPG: name 'deep_extractor' is not defined\n",
            "Error processing /Users/debabratapattnayak/web-dev/greencast/processed_data/plantvillage_color/train/Pepper,_bell___healthy/8957c413-e9c6-4f8e-a889-43980e565fe2___JR_HL 5950.JPG: name 'deep_extractor' is not defined\n",
            "Error processing /Users/debabratapattnayak/web-dev/greencast/processed_data/plantvillage_color/train/Grape___Black_rot/c433030c-75eb-465e-9d1d-b6da53552459___FAM_B.Rot 3146.JPG: name 'deep_extractor' is not defined\n",
            "Error processing /Users/debabratapattnayak/web-dev/greencast/processed_data/plantvillage_color/train/Soybean___healthy/ac864ccc-1734-4b04-b44e-63a276e6b642___RS_HL 2897.JPG: name 'deep_extractor' is not defined\n",
            "Error processing /Users/debabratapattnayak/web-dev/greencast/processed_data/plantvillage_color/train/Soybean___healthy/b43c971e-cf76-4bc0-8601-bb643b56aa88___RS_HL 5937.JPG: name 'deep_extractor' is not defined\n",
            "Error processing /Users/debabratapattnayak/web-dev/greencast/processed_data/plantvillage_color/train/Soybean___healthy/50d65956-d5bc-47dd-b428-af1725f14bea___RS_HL 3622.JPG: name 'deep_extractor' is not defined\n",
            "Error processing /Users/debabratapattnayak/web-dev/greencast/processed_data/plantvillage_color/train/Soybean___healthy/e8997164-8519-4552-a5bb-f66046c7dff2___RS_HL 3386.JPG: name 'deep_extractor' is not defined\n",
            "Error processing /Users/debabratapattnayak/web-dev/greencast/processed_data/plantvillage_color/train/Soybean___healthy/493e2fc9-85ae-49a8-ba97-a6a57da746b7___RS_HL 2744.JPG: name 'deep_extractor' is not defined\n",
            "Error processing /Users/debabratapattnayak/web-dev/greencast/processed_data/plantvillage_color/train/Raspberry___healthy/4e1efa30-c1ef-4328-91f1-892747a9bcaf___Mary_HL 6295.JPG: name 'deep_extractor' is not defined\n",
            "Error processing /Users/debabratapattnayak/web-dev/greencast/processed_data/plantvillage_color/train/Tomato___Tomato_Yellow_Leaf_Curl_Virus/a722b7ee-87ba-481c-901e-f59e70902650___YLCV_GCREC 2125.JPG: name 'deep_extractor' is not defined\n",
            "Error processing /Users/debabratapattnayak/web-dev/greencast/processed_data/plantvillage_color/train/Apple___Black_rot/8c033a16-bdf6-46ee-ac3b-2d84a6940950___JR_FrgE.S 8614.JPG: name 'deep_extractor' is not defined\n",
            "Error processing /Users/debabratapattnayak/web-dev/greencast/processed_data/plantvillage_color/train/Peach___Bacterial_spot/bcd812c2-b193-48cc-85d4-38cc3e83bbb8___Rutg._Bact.S 1543.JPG: name 'deep_extractor' is not defined\n"
          ]
        },
        {
          "name": "stderr",
          "output_type": "stream",
          "text": [
            "Extracting features:  63%|██████▎   | 633/1000 [00:11<00:06, 58.15it/s]"
          ]
        },
        {
          "name": "stdout",
          "output_type": "stream",
          "text": [
            "Error processing /Users/debabratapattnayak/web-dev/greencast/processed_data/plantvillage_color/train/Orange___Haunglongbing_(Citrus_greening)/6bdfff1d-b9fc-4dad-b4cb-4568db091be1___UF.Citrus_HLB_Lab 1382.JPG: name 'deep_extractor' is not defined\n",
            "Error processing /Users/debabratapattnayak/web-dev/greencast/processed_data/plantvillage_color/train/Tomato___Late_blight/ed70dd6e-db68-4cf5-95b6-e25c67be113f___RS_Late.B 4966.JPG: name 'deep_extractor' is not defined\n",
            "Error processing /Users/debabratapattnayak/web-dev/greencast/processed_data/plantvillage_color/train/Grape___Esca_(Black_Measles)/ee6d868f-c7a2-400c-aa5e-2e8adeae885a___FAM_B.Msls 4159.JPG: name 'deep_extractor' is not defined\n",
            "Error processing /Users/debabratapattnayak/web-dev/greencast/processed_data/plantvillage_color/train/Blueberry___healthy/715fa72a-0dc4-4bb1-bafe-46a50354cc73___RS_HL 0324.JPG: name 'deep_extractor' is not defined\n",
            "Error processing /Users/debabratapattnayak/web-dev/greencast/processed_data/plantvillage_color/train/Orange___Haunglongbing_(Citrus_greening)/0857104e-fafa-44ab-9ed8-4529a8be31b2___CREC_HLB 7092.JPG: name 'deep_extractor' is not defined\n",
            "Error processing /Users/debabratapattnayak/web-dev/greencast/processed_data/plantvillage_color/train/Tomato___Late_blight/80310e71-b197-444f-a31f-5f2e431c68bb___GHLB2 Leaf 8897.JPG: name 'deep_extractor' is not defined\n",
            "Error processing /Users/debabratapattnayak/web-dev/greencast/processed_data/plantvillage_color/train/Tomato___Tomato_Yellow_Leaf_Curl_Virus/ce1e1f12-2875-4264-9f0c-c753fbf286af___YLCV_GCREC 1958.JPG: name 'deep_extractor' is not defined\n",
            "Error processing /Users/debabratapattnayak/web-dev/greencast/processed_data/plantvillage_color/train/Potato___Early_blight/096a2c48-104c-4570-9e34-8dd60aa5ebcf___RS_Early.B 6979.JPG: name 'deep_extractor' is not defined\n",
            "Error processing /Users/debabratapattnayak/web-dev/greencast/processed_data/plantvillage_color/train/Pepper,_bell___healthy/4afa2688-a33f-4adf-a0f5-18f9c5e7e848___JR_HL 8714.JPG: name 'deep_extractor' is not defined\n",
            "Error processing /Users/debabratapattnayak/web-dev/greencast/processed_data/plantvillage_color/train/Pepper,_bell___Bacterial_spot/7beb562a-e1b0-40a2-8b44-fd892051da87___JR_B.Spot 8989.JPG: name 'deep_extractor' is not defined\n",
            "Error processing /Users/debabratapattnayak/web-dev/greencast/processed_data/plantvillage_color/train/Pepper,_bell___healthy/18f48dd2-09d3-4feb-ae1e-f2b854444243___JR_HL 5966.JPG: name 'deep_extractor' is not defined\n",
            "Error processing /Users/debabratapattnayak/web-dev/greencast/processed_data/plantvillage_color/train/Orange___Haunglongbing_(Citrus_greening)/b3e94e12-8f4b-42b0-9c08-af5961be2460___CREC_HLB 4890.JPG: name 'deep_extractor' is not defined\n"
          ]
        },
        {
          "name": "stderr",
          "output_type": "stream",
          "text": [
            "Extracting features:  64%|██████▍   | 645/1000 [00:11<00:06, 57.47it/s]"
          ]
        },
        {
          "name": "stdout",
          "output_type": "stream",
          "text": [
            "Error processing /Users/debabratapattnayak/web-dev/greencast/processed_data/plantvillage_color/train/Orange___Haunglongbing_(Citrus_greening)/af72e18f-237a-4330-bf75-e39e67cc82e8___UF.Citrus_HLB_Lab 1179.JPG: name 'deep_extractor' is not defined\n",
            "Error processing /Users/debabratapattnayak/web-dev/greencast/processed_data/plantvillage_color/train/Tomato___Target_Spot/164c168a-8d91-42b4-8f6d-08217b423068___Com.G_TgS_FL 7981.JPG: name 'deep_extractor' is not defined\n",
            "Error processing /Users/debabratapattnayak/web-dev/greencast/processed_data/plantvillage_color/train/Soybean___healthy/f6c87e51-7a37-4726-a8e3-c0a1a2246b94___RS_HL 5727 1.JPG: name 'deep_extractor' is not defined\n",
            "Error processing /Users/debabratapattnayak/web-dev/greencast/processed_data/plantvillage_color/train/Tomato___healthy/1a02fa87-a194-482e-b4ac-8dec2064d793___RS_HL 0022.JPG: name 'deep_extractor' is not defined\n",
            "Error processing /Users/debabratapattnayak/web-dev/greencast/processed_data/plantvillage_color/train/Corn_(maize)___Common_rust_/RS_Rust 2633.JPG: name 'deep_extractor' is not defined\n",
            "Error processing /Users/debabratapattnayak/web-dev/greencast/processed_data/plantvillage_color/train/Tomato___Spider_mites Two-spotted_spider_mite/6a16f6d3-b936-45d6-b916-520f1031f590___Com.G_SpM_FL 8512.JPG: name 'deep_extractor' is not defined\n",
            "Error processing /Users/debabratapattnayak/web-dev/greencast/processed_data/plantvillage_color/train/Tomato___Leaf_Mold/b0eb89d7-6d76-4799-acfc-37426aeb4589___Crnl_L.Mold 6719.JPG: name 'deep_extractor' is not defined\n",
            "Error processing /Users/debabratapattnayak/web-dev/greencast/processed_data/plantvillage_color/train/Orange___Haunglongbing_(Citrus_greening)/9907bee4-f6bc-4515-a09e-a8f599b7d0fc___UF.Citrus_HLB_Lab 0303.JPG: name 'deep_extractor' is not defined\n",
            "Error processing /Users/debabratapattnayak/web-dev/greencast/processed_data/plantvillage_color/train/Apple___Apple_scab/d66bf6da-1199-4f2b-9776-8cbc4529b268___FREC_Scab 3157.JPG: name 'deep_extractor' is not defined\n",
            "Error processing /Users/debabratapattnayak/web-dev/greencast/processed_data/plantvillage_color/train/Soybean___healthy/f38d86c1-6160-4eee-aaf7-da076e77c23b___RS_HL 7451.JPG: name 'deep_extractor' is not defined\n",
            "Error processing /Users/debabratapattnayak/web-dev/greencast/processed_data/plantvillage_color/train/Tomato___healthy/ae7304a4-58ad-4a45-aab4-6f18ee303a43___RS_HL 0183.JPG: name 'deep_extractor' is not defined\n",
            "Error processing /Users/debabratapattnayak/web-dev/greencast/processed_data/plantvillage_color/train/Orange___Haunglongbing_(Citrus_greening)/5112be54-d4ac-49fa-b1bc-7a57d04822fe___CREC_HLB 7432.JPG: name 'deep_extractor' is not defined\n"
          ]
        },
        {
          "name": "stderr",
          "output_type": "stream",
          "text": [
            "Extracting features:  66%|██████▌   | 657/1000 [00:11<00:06, 53.12it/s]"
          ]
        },
        {
          "name": "stdout",
          "output_type": "stream",
          "text": [
            "Error processing /Users/debabratapattnayak/web-dev/greencast/processed_data/plantvillage_color/train/Corn_(maize)___Northern_Leaf_Blight/bef2e8ef-dbd2-4ae1-aab7-ab1f0a5f9fba___RS_NLB 4168.JPG: name 'deep_extractor' is not defined\n",
            "Error processing /Users/debabratapattnayak/web-dev/greencast/processed_data/plantvillage_color/train/Blueberry___healthy/37601437-b722-48c8-a38c-119e308ca86d___RS_HL 2388.JPG: name 'deep_extractor' is not defined\n",
            "Error processing /Users/debabratapattnayak/web-dev/greencast/processed_data/plantvillage_color/train/Tomato___Tomato_Yellow_Leaf_Curl_Virus/342ec57e-de00-4729-b7c3-ed3a16a5054d___YLCV_GCREC 2706.JPG: name 'deep_extractor' is not defined\n",
            "Error processing /Users/debabratapattnayak/web-dev/greencast/processed_data/plantvillage_color/train/Pepper,_bell___healthy/27036eec-40be-4b6c-b67d-9ef95b9794cf___JR_HL 8455.JPG: name 'deep_extractor' is not defined\n",
            "Error processing /Users/debabratapattnayak/web-dev/greencast/processed_data/plantvillage_color/train/Tomato___Target_Spot/c799a079-5151-4d82-bc0f-23979da84d4b___Com.G_TgS_FL 0798.JPG: name 'deep_extractor' is not defined\n",
            "Error processing /Users/debabratapattnayak/web-dev/greencast/processed_data/plantvillage_color/train/Grape___Black_rot/2c41c29f-8937-433d-aac8-9f18fef0d702___FAM_B.Rot 3107.JPG: name 'deep_extractor' is not defined\n",
            "Error processing /Users/debabratapattnayak/web-dev/greencast/processed_data/plantvillage_color/train/Tomato___Target_Spot/5df31ae3-b89e-4089-8ce8-777b4ac91f6a___Com.G_TgS_FL 0837.JPG: name 'deep_extractor' is not defined\n",
            "Error processing /Users/debabratapattnayak/web-dev/greencast/processed_data/plantvillage_color/train/Corn_(maize)___healthy/ffe53930-c98f-4c81-b82c-3eeab5da42a5___R.S_HL 8327 copy.jpg: name 'deep_extractor' is not defined\n",
            "Error processing /Users/debabratapattnayak/web-dev/greencast/processed_data/plantvillage_color/train/Orange___Haunglongbing_(Citrus_greening)/9ae00da1-07bd-483a-b8e7-0d8cc6f6cbbf___UF.Citrus_HLB_Lab 0232.JPG: name 'deep_extractor' is not defined\n",
            "Error processing /Users/debabratapattnayak/web-dev/greencast/processed_data/plantvillage_color/train/Soybean___healthy/48183d43-3da3-4e73-99c3-046eeb7bacdc___RS_HL 6077.JPG: name 'deep_extractor' is not defined\n"
          ]
        },
        {
          "name": "stderr",
          "output_type": "stream",
          "text": [
            "Extracting features:  67%|██████▋   | 670/1000 [00:12<00:05, 56.63it/s]"
          ]
        },
        {
          "name": "stdout",
          "output_type": "stream",
          "text": [
            "Error processing /Users/debabratapattnayak/web-dev/greencast/processed_data/plantvillage_color/train/Blueberry___healthy/da49b96b-d3e9-47b0-9f0e-e12e2ddf7a8a___RS_HL 2646.JPG: name 'deep_extractor' is not defined\n",
            "Error processing /Users/debabratapattnayak/web-dev/greencast/processed_data/plantvillage_color/train/Pepper,_bell___healthy/3e26a2d8-a7f6-4d3f-bcb7-63ab63b0ff39___JR_HL 8043.JPG: name 'deep_extractor' is not defined\n",
            "Error processing /Users/debabratapattnayak/web-dev/greencast/processed_data/plantvillage_color/train/Soybean___healthy/093bbf49-3a58-42da-b0c4-d7652b2a4b12___RS_HL 7416.JPG: name 'deep_extractor' is not defined\n",
            "Error processing /Users/debabratapattnayak/web-dev/greencast/processed_data/plantvillage_color/train/Pepper,_bell___healthy/359fd210-bc58-413b-9367-df218023b037___JR_HL 8638.JPG: name 'deep_extractor' is not defined\n",
            "Error processing /Users/debabratapattnayak/web-dev/greencast/processed_data/plantvillage_color/train/Potato___healthy/b42621c3-f751-46e1-a8d2-83ed85b90554___RS_HL 1740.JPG: name 'deep_extractor' is not defined\n",
            "Error processing /Users/debabratapattnayak/web-dev/greencast/processed_data/plantvillage_color/train/Tomato___Tomato_Yellow_Leaf_Curl_Virus/821fd577-b818-4d94-ac0c-fc7d9e728eb2___UF.GRC_YLCV_Lab 02959.JPG: name 'deep_extractor' is not defined\n",
            "Error processing /Users/debabratapattnayak/web-dev/greencast/processed_data/plantvillage_color/train/Orange___Haunglongbing_(Citrus_greening)/42ab026b-e0c1-47cb-b0c5-93a6e5272157___CREC_HLB 6713.JPG: name 'deep_extractor' is not defined\n",
            "Error processing /Users/debabratapattnayak/web-dev/greencast/processed_data/plantvillage_color/train/Peach___Bacterial_spot/99d4a7a8-d570-47dd-99be-9c6010722da4___Rutg._Bact.S 1477.JPG: name 'deep_extractor' is not defined\n",
            "Error processing /Users/debabratapattnayak/web-dev/greencast/processed_data/plantvillage_color/train/Grape___Esca_(Black_Measles)/a7e667f9-3323-4721-b172-c5eb5cd4dec0___FAM_B.Msls 4258.JPG: name 'deep_extractor' is not defined\n",
            "Error processing /Users/debabratapattnayak/web-dev/greencast/processed_data/plantvillage_color/train/Tomato___Target_Spot/eb5f70b3-7bc8-4b2b-b2c3-26389d0ffc2f___Com.G_TgS_FL 0044.JPG: name 'deep_extractor' is not defined\n",
            "Error processing /Users/debabratapattnayak/web-dev/greencast/processed_data/plantvillage_color/train/Grape___Leaf_blight_(Isariopsis_Leaf_Spot)/f4fbf07a-621f-430d-984a-f8ddc8edf931___FAM_L.Blight 1675.JPG: name 'deep_extractor' is not defined\n",
            "Error processing /Users/debabratapattnayak/web-dev/greencast/processed_data/plantvillage_color/train/Pepper,_bell___healthy/c291223d-c9bb-4089-b8ea-c479a28c9519___JR_HL 8612.JPG: name 'deep_extractor' is not defined\n",
            "Error processing /Users/debabratapattnayak/web-dev/greencast/processed_data/plantvillage_color/train/Tomato___Tomato_mosaic_virus/2480c7f8-eb75-4606-bf92-24f09ac52a37___PSU_CG 2380.JPG: name 'deep_extractor' is not defined\n"
          ]
        },
        {
          "name": "stderr",
          "output_type": "stream",
          "text": [
            "Extracting features:  68%|██████▊   | 682/1000 [00:12<00:05, 56.70it/s]"
          ]
        },
        {
          "name": "stdout",
          "output_type": "stream",
          "text": [
            "Error processing /Users/debabratapattnayak/web-dev/greencast/processed_data/plantvillage_color/train/Soybean___healthy/c1bd6cd1-4704-4723-9065-3ddb95c1e5bb___RS_HL 5900.JPG: name 'deep_extractor' is not defined\n",
            "Error processing /Users/debabratapattnayak/web-dev/greencast/processed_data/plantvillage_color/train/Orange___Haunglongbing_(Citrus_greening)/22b21d71-7fbc-4f86-af06-21169d193484___UF.Citrus_HLB_Lab 1294.JPG: name 'deep_extractor' is not defined\n",
            "Error processing /Users/debabratapattnayak/web-dev/greencast/processed_data/plantvillage_color/train/Tomato___Target_Spot/c9346c79-0dd0-45cc-a512-58abb339c932___Com.G_TgS_FL 8273.JPG: name 'deep_extractor' is not defined\n",
            "Error processing /Users/debabratapattnayak/web-dev/greencast/processed_data/plantvillage_color/train/Tomato___Septoria_leaf_spot/0286577f-36c8-4b0d-bbf5-404993cd089d___Matt.S_CG 1422.JPG: name 'deep_extractor' is not defined\n",
            "Error processing /Users/debabratapattnayak/web-dev/greencast/processed_data/plantvillage_color/train/Squash___Powdery_mildew/ff0aa609-e2fc-46ab-8a11-c40307664a01___UMD_Powd.M 9840.JPG: name 'deep_extractor' is not defined\n",
            "Error processing /Users/debabratapattnayak/web-dev/greencast/processed_data/plantvillage_color/train/Peach___Bacterial_spot/8cba0a6f-3819-4e42-8e37-356003e2ac8b___Rut._Bact.S 3445.JPG: name 'deep_extractor' is not defined\n",
            "Error processing /Users/debabratapattnayak/web-dev/greencast/processed_data/plantvillage_color/train/Orange___Haunglongbing_(Citrus_greening)/2ab68e73-d100-4cde-8c03-f7ffe5fb9673___CREC_HLB 7202.JPG: name 'deep_extractor' is not defined\n",
            "Error processing /Users/debabratapattnayak/web-dev/greencast/processed_data/plantvillage_color/train/Potato___Late_blight/b167bd40-798f-4e70-a735-f191350dd057___RS_LB 4017.JPG: name 'deep_extractor' is not defined\n",
            "Error processing /Users/debabratapattnayak/web-dev/greencast/processed_data/plantvillage_color/train/Cherry_(including_sour)___Powdery_mildew/63a78c82-6708-4324-9ea4-d2f51e83565f___FREC_Pwd.M 4763.JPG: name 'deep_extractor' is not defined\n",
            "Error processing /Users/debabratapattnayak/web-dev/greencast/processed_data/plantvillage_color/train/Grape___Black_rot/25b865db-bc3b-495f-aab9-966787d9f408___FAM_B.Rot 3055.JPG: name 'deep_extractor' is not defined\n",
            "Error processing /Users/debabratapattnayak/web-dev/greencast/processed_data/plantvillage_color/train/Soybean___healthy/39cb8fb1-9c2e-4cb4-acac-35f90a4bcbb8___RS_HL 6107.JPG: name 'deep_extractor' is not defined\n",
            "Error processing /Users/debabratapattnayak/web-dev/greencast/processed_data/plantvillage_color/train/Tomato___Tomato_Yellow_Leaf_Curl_Virus/6e37e8ad-3944-4e11-bc10-dd82616274d7___YLCV_NREC 2915.JPG: name 'deep_extractor' is not defined\n"
          ]
        },
        {
          "name": "stderr",
          "output_type": "stream",
          "text": [
            "Extracting features:  69%|██████▉   | 694/1000 [00:12<00:05, 56.93it/s]"
          ]
        },
        {
          "name": "stdout",
          "output_type": "stream",
          "text": [
            "Error processing /Users/debabratapattnayak/web-dev/greencast/processed_data/plantvillage_color/train/Tomato___Tomato_Yellow_Leaf_Curl_Virus/3179068e-5ce6-4aee-b6b9-adf4297ffe8d___YLCV_NREC 2241.JPG: name 'deep_extractor' is not defined\n",
            "Error processing /Users/debabratapattnayak/web-dev/greencast/processed_data/plantvillage_color/train/Grape___Esca_(Black_Measles)/c377ab20-ff8b-4bee-9092-5034fb558910___FAM_B.Msls 1204.JPG: name 'deep_extractor' is not defined\n",
            "Error processing /Users/debabratapattnayak/web-dev/greencast/processed_data/plantvillage_color/train/Orange___Haunglongbing_(Citrus_greening)/9e6dc518-7a9a-4f6d-965e-1bd859055328___UF.Citrus_HLB_Lab 0123.JPG: name 'deep_extractor' is not defined\n",
            "Error processing /Users/debabratapattnayak/web-dev/greencast/processed_data/plantvillage_color/train/Soybean___healthy/671c7058-1fbb-4245-8238-42304047bcbb___RS_HL 5390.JPG: name 'deep_extractor' is not defined\n",
            "Error processing /Users/debabratapattnayak/web-dev/greencast/processed_data/plantvillage_color/train/Soybean___healthy/305686d0-f36f-4e9f-80ff-4278d4b9eca0___RS_HL 6632.JPG: name 'deep_extractor' is not defined\n",
            "Error processing /Users/debabratapattnayak/web-dev/greencast/processed_data/plantvillage_color/train/Raspberry___healthy/432379a4-dc5d-49fa-9d75-ebe05a1e01eb___Mary_HL 9161.JPG: name 'deep_extractor' is not defined\n",
            "Error processing /Users/debabratapattnayak/web-dev/greencast/processed_data/plantvillage_color/train/Pepper,_bell___healthy/bb88a552-d534-4175-ad70-209157de60d8___JR_HL 5809.JPG: name 'deep_extractor' is not defined\n",
            "Error processing /Users/debabratapattnayak/web-dev/greencast/processed_data/plantvillage_color/train/Tomato___Late_blight/06a7cfd9-0992-4020-8a11-79249d657c0c___GHLB2 Leaf 131.JPG: name 'deep_extractor' is not defined\n",
            "Error processing /Users/debabratapattnayak/web-dev/greencast/processed_data/plantvillage_color/train/Tomato___Tomato_mosaic_virus/d338ebb0-f140-48c6-b828-7349f43cf866___PSU_CG 2339.JPG: name 'deep_extractor' is not defined\n",
            "Error processing /Users/debabratapattnayak/web-dev/greencast/processed_data/plantvillage_color/train/Tomato___Spider_mites Two-spotted_spider_mite/5d218af0-e5cf-43b7-acce-de9f86baa690___Com.G_SpM_FL 9272.JPG: name 'deep_extractor' is not defined\n",
            "Error processing /Users/debabratapattnayak/web-dev/greencast/processed_data/plantvillage_color/train/Peach___healthy/987e0ba5-46c4-45ff-bf11-4553365e217c___Rutg._HL 3703.JPG: name 'deep_extractor' is not defined\n",
            "Error processing /Users/debabratapattnayak/web-dev/greencast/processed_data/plantvillage_color/train/Potato___healthy/929107f1-4ae9-4dae-8319-ae7cf4804236___RS_HL 1932.JPG: name 'deep_extractor' is not defined\n"
          ]
        },
        {
          "name": "stderr",
          "output_type": "stream",
          "text": [
            "Extracting features:  71%|███████   | 706/1000 [00:12<00:05, 55.81it/s]"
          ]
        },
        {
          "name": "stdout",
          "output_type": "stream",
          "text": [
            "Error processing /Users/debabratapattnayak/web-dev/greencast/processed_data/plantvillage_color/train/Grape___Leaf_blight_(Isariopsis_Leaf_Spot)/0914920e-4180-488c-a586-af66bf3d726d___FAM_L.Blight 1373.JPG: name 'deep_extractor' is not defined\n",
            "Error processing /Users/debabratapattnayak/web-dev/greencast/processed_data/plantvillage_color/train/Tomato___Target_Spot/e6c089fa-5b16-46e6-a8d9-f742377b43a8___Com.G_TgS_FL 8352.JPG: name 'deep_extractor' is not defined\n",
            "Error processing /Users/debabratapattnayak/web-dev/greencast/processed_data/plantvillage_color/train/Soybean___healthy/ffdc654b-da66-4c21-9837-396c227ebc41___RS_HL 6435.JPG: name 'deep_extractor' is not defined\n",
            "Error processing /Users/debabratapattnayak/web-dev/greencast/processed_data/plantvillage_color/train/Corn_(maize)___Northern_Leaf_Blight/ed02da2f-8b98-49b1-a65d-ff7e47d61331___RS_NLB  4443.JPG: name 'deep_extractor' is not defined\n",
            "Error processing /Users/debabratapattnayak/web-dev/greencast/processed_data/plantvillage_color/train/Tomato___Tomato_Yellow_Leaf_Curl_Virus/edbeb216-1ad8-4593-848e-84cc21886897___YLCV_GCREC 2380.JPG: name 'deep_extractor' is not defined\n",
            "Error processing /Users/debabratapattnayak/web-dev/greencast/processed_data/plantvillage_color/train/Cherry_(including_sour)___Powdery_mildew/649736d0-34ae-4764-b959-8fd67989a038___FREC_Pwd.M 0361.JPG: name 'deep_extractor' is not defined\n",
            "Error processing /Users/debabratapattnayak/web-dev/greencast/processed_data/plantvillage_color/train/Tomato___Septoria_leaf_spot/2b400c69-36a9-4b78-90a0-3702cd38c896___Matt.S_CG 6876.JPG: name 'deep_extractor' is not defined\n",
            "Error processing /Users/debabratapattnayak/web-dev/greencast/processed_data/plantvillage_color/train/Apple___healthy/ae11ce7e-dfd2-42bc-9e1b-0b6a29f9e538___RS_HL 5674.JPG: name 'deep_extractor' is not defined\n",
            "Error processing /Users/debabratapattnayak/web-dev/greencast/processed_data/plantvillage_color/train/Cherry_(including_sour)___Powdery_mildew/de3c4897-eda8-4974-971d-4d88cbc5f893___FREC_Pwd.M 4935.JPG: name 'deep_extractor' is not defined\n",
            "Error processing /Users/debabratapattnayak/web-dev/greencast/processed_data/plantvillage_color/train/Strawberry___Leaf_scorch/83580508-0c6b-4eeb-bbde-07a3949da0ab___RS_L.Scorch 0777.JPG: name 'deep_extractor' is not defined\n",
            "Error processing /Users/debabratapattnayak/web-dev/greencast/processed_data/plantvillage_color/train/Grape___Esca_(Black_Measles)/97646a5b-7d5d-4b24-9da4-1d00a0961174___FAM_B.Msls 1030.JPG: name 'deep_extractor' is not defined\n",
            "Error processing /Users/debabratapattnayak/web-dev/greencast/processed_data/plantvillage_color/train/Tomato___Septoria_leaf_spot/33730016-a830-406f-b969-c50f70adf1df___JR_Sept.L.S 2530.JPG: name 'deep_extractor' is not defined\n"
          ]
        },
        {
          "name": "stderr",
          "output_type": "stream",
          "text": [
            "Extracting features:  72%|███████▏  | 718/1000 [00:12<00:04, 57.01it/s]"
          ]
        },
        {
          "name": "stdout",
          "output_type": "stream",
          "text": [
            "Error processing /Users/debabratapattnayak/web-dev/greencast/processed_data/plantvillage_color/train/Pepper,_bell___Bacterial_spot/2becae93-578d-44c6-8e74-056e59d15c8e___JR_B.Spot 3396.JPG: name 'deep_extractor' is not defined\n",
            "Error processing /Users/debabratapattnayak/web-dev/greencast/processed_data/plantvillage_color/train/Raspberry___healthy/eb8b3204-11d3-4a9b-b7b8-b24a60ef3d57___Mary_HL 9187.JPG: name 'deep_extractor' is not defined\n",
            "Error processing /Users/debabratapattnayak/web-dev/greencast/processed_data/plantvillage_color/train/Potato___Early_blight/8df7a062-73d6-468e-8354-baa641dd69b3___RS_Early.B 7072.JPG: name 'deep_extractor' is not defined\n",
            "Error processing /Users/debabratapattnayak/web-dev/greencast/processed_data/plantvillage_color/train/Grape___Esca_(Black_Measles)/8444c73a-83ee-49f9-b2f4-6e2e31d66e02___FAM_B.Msls 3927.JPG: name 'deep_extractor' is not defined\n",
            "Error processing /Users/debabratapattnayak/web-dev/greencast/processed_data/plantvillage_color/train/Tomato___Tomato_Yellow_Leaf_Curl_Virus/f7ddffe4-6009-4c68-ba10-a2134e1416dc___YLCV_GCREC 5444.JPG: name 'deep_extractor' is not defined\n",
            "Error processing /Users/debabratapattnayak/web-dev/greencast/processed_data/plantvillage_color/train/Grape___healthy/f229b33f-2257-49a7-a135-17d0ef3ca46b___Mt.N.V_HL 6033.JPG: name 'deep_extractor' is not defined\n",
            "Error processing /Users/debabratapattnayak/web-dev/greencast/processed_data/plantvillage_color/train/Tomato___Early_blight/ba789eab-7c04-4012-b8fa-98106b20b50c___RS_Erly.B 7771.JPG: name 'deep_extractor' is not defined\n",
            "Error processing /Users/debabratapattnayak/web-dev/greencast/processed_data/plantvillage_color/train/Corn_(maize)___healthy/1d60142d-84cb-418d-9017-cb443a63bf3a___R.S_HL 7896 copy 3.jpg: name 'deep_extractor' is not defined\n",
            "Error processing /Users/debabratapattnayak/web-dev/greencast/processed_data/plantvillage_color/train/Soybean___healthy/f274cb72-da53-44eb-bcfe-264a24b1e5cc___RS_HL 6723.JPG: name 'deep_extractor' is not defined\n",
            "Error processing /Users/debabratapattnayak/web-dev/greencast/processed_data/plantvillage_color/train/Strawberry___Leaf_scorch/874466a5-8814-4573-9d67-03efc0837338___RS_L.Scorch 1242.JPG: name 'deep_extractor' is not defined\n",
            "Error processing /Users/debabratapattnayak/web-dev/greencast/processed_data/plantvillage_color/train/Grape___Esca_(Black_Measles)/908697c2-ccd6-4a5d-b4ef-24a3d387ff49___FAM_B.Msls 1794.JPG: name 'deep_extractor' is not defined\n",
            "Error processing /Users/debabratapattnayak/web-dev/greencast/processed_data/plantvillage_color/train/Soybean___healthy/c4bcc598-9b6f-4b8d-9582-77a8568b0a3a___RS_HL 5527.JPG: name 'deep_extractor' is not defined\n"
          ]
        },
        {
          "name": "stderr",
          "output_type": "stream",
          "text": [
            "Extracting features:  72%|███████▏  | 724/1000 [00:12<00:05, 52.98it/s]"
          ]
        },
        {
          "name": "stdout",
          "output_type": "stream",
          "text": [
            "Error processing /Users/debabratapattnayak/web-dev/greencast/processed_data/plantvillage_color/train/Orange___Haunglongbing_(Citrus_greening)/1b81aa79-425e-4079-8036-813367a37b7a___UF.Citrus_HLB_Lab 0652.JPG: name 'deep_extractor' is not defined\n",
            "Error processing /Users/debabratapattnayak/web-dev/greencast/processed_data/plantvillage_color/train/Strawberry___Leaf_scorch/c1637527-fb56-4ac5-a732-b56cc83d2bbb___RS_L.Scorch 1281.JPG: name 'deep_extractor' is not defined\n",
            "Error processing /Users/debabratapattnayak/web-dev/greencast/processed_data/plantvillage_color/train/Squash___Powdery_mildew/0a079a5d-f0f2-41f5-b2aa-9bbc86203bae___UMD_Powd.M 0307.JPG: name 'deep_extractor' is not defined\n",
            "Error processing /Users/debabratapattnayak/web-dev/greencast/processed_data/plantvillage_color/train/Tomato___Tomato_Yellow_Leaf_Curl_Virus/2b9d4237-aa71-40c1-8bec-b3d3d20f3231___UF.GRC_YLCV_Lab 02677.JPG: name 'deep_extractor' is not defined\n",
            "Error processing /Users/debabratapattnayak/web-dev/greencast/processed_data/plantvillage_color/train/Peach___Bacterial_spot/2b7b701a-8e42-4112-9aef-681857760c43___Rut._Bact.S 1231.JPG: name 'deep_extractor' is not defined\n",
            "Error processing /Users/debabratapattnayak/web-dev/greencast/processed_data/plantvillage_color/train/Tomato___healthy/6b9b1ad6-3e75-4378-ad97-7dc9b8fa084e___GH_HL Leaf 179.1.JPG: name 'deep_extractor' is not defined\n",
            "Error processing /Users/debabratapattnayak/web-dev/greencast/processed_data/plantvillage_color/train/Apple___healthy/4019c49e-a237-4e3f-b4a9-823905304e05___RS_HL 7997.JPG: name 'deep_extractor' is not defined\n",
            "Error processing /Users/debabratapattnayak/web-dev/greencast/processed_data/plantvillage_color/train/Grape___Black_rot/f25f2d1c-5e6b-42be-9770-638861b73994___FAM_B.Rot 3353.JPG: name 'deep_extractor' is not defined\n",
            "Error processing /Users/debabratapattnayak/web-dev/greencast/processed_data/plantvillage_color/train/Grape___Black_rot/7994b175-d5f2-42a4-95e1-098e957766e6___FAM_B.Rot 0424.JPG: name 'deep_extractor' is not defined\n",
            "Error processing /Users/debabratapattnayak/web-dev/greencast/processed_data/plantvillage_color/train/Tomato___Tomato_Yellow_Leaf_Curl_Virus/13c86d01-0086-4a2a-8215-7a50f9bf4dfa___YLCV_GCREC 2075.JPG: name 'deep_extractor' is not defined\n",
            "Error processing /Users/debabratapattnayak/web-dev/greencast/processed_data/plantvillage_color/train/Tomato___Tomato_Yellow_Leaf_Curl_Virus/6eea288a-b8e5-4841-a305-f9f234ba48ba___UF.GRC_YLCV_Lab 08484.JPG: name 'deep_extractor' is not defined\n"
          ]
        },
        {
          "name": "stderr",
          "output_type": "stream",
          "text": [
            "Extracting features:  74%|███████▎  | 737/1000 [00:13<00:04, 56.07it/s]"
          ]
        },
        {
          "name": "stdout",
          "output_type": "stream",
          "text": [
            "Error processing /Users/debabratapattnayak/web-dev/greencast/processed_data/plantvillage_color/train/Pepper,_bell___Bacterial_spot/95238fdb-d39b-40cb-b644-143e66befcc1___JR_B.Spot 3151.JPG: name 'deep_extractor' is not defined\n",
            "Error processing /Users/debabratapattnayak/web-dev/greencast/processed_data/plantvillage_color/train/Blueberry___healthy/1ed0011f-158c-46d2-ac02-c652b6bda8e2___RS_HL 2452.JPG: name 'deep_extractor' is not defined\n",
            "Error processing /Users/debabratapattnayak/web-dev/greencast/processed_data/plantvillage_color/train/Tomato___Septoria_leaf_spot/71d8607e-536c-4384-a9c5-db2dcd3e149d___JR_Sept.L.S 2641.JPG: name 'deep_extractor' is not defined\n",
            "Error processing /Users/debabratapattnayak/web-dev/greencast/processed_data/plantvillage_color/train/Orange___Haunglongbing_(Citrus_greening)/4b334e82-c9f9-4a00-bb47-bc8fe159f33d___CREC_HLB 5178.JPG: name 'deep_extractor' is not defined\n",
            "Error processing /Users/debabratapattnayak/web-dev/greencast/processed_data/plantvillage_color/train/Grape___Leaf_blight_(Isariopsis_Leaf_Spot)/228b57e4-cd3f-4b41-a7ff-7d85c9dde7f9___FAM_L.Blight 4869.JPG: name 'deep_extractor' is not defined\n",
            "Error processing /Users/debabratapattnayak/web-dev/greencast/processed_data/plantvillage_color/train/Tomato___Tomato_Yellow_Leaf_Curl_Virus/b52609b3-3117-4543-bc40-1bfd5fe4f450___UF.GRC_YLCV_Lab 03266.JPG: name 'deep_extractor' is not defined\n",
            "Error processing /Users/debabratapattnayak/web-dev/greencast/processed_data/plantvillage_color/train/Corn_(maize)___healthy/22e495d5-0daa-4cf6-8555-61f26d091b66___R.S_HL 8061 copy.jpg: name 'deep_extractor' is not defined\n",
            "Error processing /Users/debabratapattnayak/web-dev/greencast/processed_data/plantvillage_color/train/Pepper,_bell___Bacterial_spot/2d7488fa-f033-4c1c-bc1f-b70f86406127___NREC_B.Spot 1800.JPG: name 'deep_extractor' is not defined\n",
            "Error processing /Users/debabratapattnayak/web-dev/greencast/processed_data/plantvillage_color/train/Pepper,_bell___healthy/6c8f7323-5d71-44d3-8d30-825f91de854a___JR_HL 7577.JPG: name 'deep_extractor' is not defined\n",
            "Error processing /Users/debabratapattnayak/web-dev/greencast/processed_data/plantvillage_color/train/Tomato___Late_blight/781582d3-8bad-4e20-9073-e1fa1b50abba___RS_Late.B 6269.JPG: name 'deep_extractor' is not defined\n",
            "Error processing /Users/debabratapattnayak/web-dev/greencast/processed_data/plantvillage_color/train/Tomato___Tomato_Yellow_Leaf_Curl_Virus/4a5b0a30-27ff-400d-ad0c-0ee1e68df21b___UF.GRC_YLCV_Lab 02840.JPG: name 'deep_extractor' is not defined\n",
            "Error processing /Users/debabratapattnayak/web-dev/greencast/processed_data/plantvillage_color/train/Strawberry___Leaf_scorch/1233cddc-af2c-49e7-98c5-82036a9d5cc1___RS_L.Scorch 0904.JPG: name 'deep_extractor' is not defined\n"
          ]
        },
        {
          "name": "stderr",
          "output_type": "stream",
          "text": [
            "Extracting features:  75%|███████▍  | 749/1000 [00:13<00:04, 56.92it/s]"
          ]
        },
        {
          "name": "stdout",
          "output_type": "stream",
          "text": [
            "Error processing /Users/debabratapattnayak/web-dev/greencast/processed_data/plantvillage_color/train/Tomato___Leaf_Mold/528ee5e6-6c7f-4676-9fe2-fe3956a73b00___Crnl_L.Mold 6739.JPG: name 'deep_extractor' is not defined\n",
            "Error processing /Users/debabratapattnayak/web-dev/greencast/processed_data/plantvillage_color/train/Soybean___healthy/2a0cc5c5-5844-4c97-85aa-e7eb72fa6b0b___RS_HL 3792.JPG: name 'deep_extractor' is not defined\n",
            "Error processing /Users/debabratapattnayak/web-dev/greencast/processed_data/plantvillage_color/train/Tomato___Early_blight/21d6c7aa-20d7-4434-9248-e21d073e165a___RS_Erly.B 7495.JPG: name 'deep_extractor' is not defined\n",
            "Error processing /Users/debabratapattnayak/web-dev/greencast/processed_data/plantvillage_color/train/Tomato___Leaf_Mold/cb9effb5-7029-410e-8270-8efb36fb124a___Crnl_L.Mold 8841.JPG: name 'deep_extractor' is not defined\n",
            "Error processing /Users/debabratapattnayak/web-dev/greencast/processed_data/plantvillage_color/train/Soybean___healthy/103003c4-d4a2-44a1-8f7f-829a491b5523___RS_HL 2759.JPG: name 'deep_extractor' is not defined\n",
            "Error processing /Users/debabratapattnayak/web-dev/greencast/processed_data/plantvillage_color/train/Tomato___Tomato_mosaic_virus/fb199918-5c7f-4285-993b-3ed212140456___PSU_CG 2124.JPG: name 'deep_extractor' is not defined\n",
            "Error processing /Users/debabratapattnayak/web-dev/greencast/processed_data/plantvillage_color/train/Raspberry___healthy/5829c049-aa10-494a-9663-8ce0677e64f7___Mary_HL 6330.JPG: name 'deep_extractor' is not defined\n",
            "Error processing /Users/debabratapattnayak/web-dev/greencast/processed_data/plantvillage_color/train/Tomato___Late_blight/d70b86ba-e117-43d6-ad51-43c67d9a2483___RS_Late.B 6347.JPG: name 'deep_extractor' is not defined\n",
            "Error processing /Users/debabratapattnayak/web-dev/greencast/processed_data/plantvillage_color/train/Tomato___Septoria_leaf_spot/009bb542-f0c0-40f2-98a7-f547c5adec45___Matt.S_CG 1355.JPG: name 'deep_extractor' is not defined\n",
            "Error processing /Users/debabratapattnayak/web-dev/greencast/processed_data/plantvillage_color/train/Tomato___healthy/bc339a85-6c4e-428a-a18e-9174acdcab1e___RS_HL 0513.JPG: name 'deep_extractor' is not defined\n",
            "Error processing /Users/debabratapattnayak/web-dev/greencast/processed_data/plantvillage_color/train/Tomato___Spider_mites Two-spotted_spider_mite/2deab6b3-44aa-4ea1-8b18-13b39117ca2d___Com.G_SpM_FL 8781.JPG: name 'deep_extractor' is not defined\n",
            "Error processing /Users/debabratapattnayak/web-dev/greencast/processed_data/plantvillage_color/train/Apple___Cedar_apple_rust/d6485527-aab0-463c-b895-64d7612f45f1___FREC_C.Rust 0144.JPG: name 'deep_extractor' is not defined\n"
          ]
        },
        {
          "name": "stderr",
          "output_type": "stream",
          "text": [
            "Extracting features:  76%|███████▌  | 761/1000 [00:13<00:04, 57.59it/s]"
          ]
        },
        {
          "name": "stdout",
          "output_type": "stream",
          "text": [
            "Error processing /Users/debabratapattnayak/web-dev/greencast/processed_data/plantvillage_color/train/Pepper,_bell___Bacterial_spot/f2e21841-962e-4044-bb5d-efd8af95df74___NREC_B.Spot 1893.JPG: name 'deep_extractor' is not defined\n",
            "Error processing /Users/debabratapattnayak/web-dev/greencast/processed_data/plantvillage_color/train/Tomato___Target_Spot/7b199548-cc65-468a-9cf7-51db805dfdeb___Com.G_TgS_FL 1068.JPG: name 'deep_extractor' is not defined\n",
            "Error processing /Users/debabratapattnayak/web-dev/greencast/processed_data/plantvillage_color/train/Grape___Black_rot/d5c7a5e5-2a4a-4c3c-a01e-e6ed208017a7___FAM_B.Rot 3329.JPG: name 'deep_extractor' is not defined\n",
            "Error processing /Users/debabratapattnayak/web-dev/greencast/processed_data/plantvillage_color/train/Soybean___healthy/70924e49-200e-4e24-a63c-71c95583d6b6___RS_HL 4642.JPG: name 'deep_extractor' is not defined\n",
            "Error processing /Users/debabratapattnayak/web-dev/greencast/processed_data/plantvillage_color/train/Tomato___healthy/1d8bb370-3c10-4806-b2ff-1621e21355ba___RS_HL 9882.JPG: name 'deep_extractor' is not defined\n",
            "Error processing /Users/debabratapattnayak/web-dev/greencast/processed_data/plantvillage_color/train/Soybean___healthy/868612d1-0916-4301-91ab-effff623c055___RS_HL 4534.JPG: name 'deep_extractor' is not defined\n",
            "Error processing /Users/debabratapattnayak/web-dev/greencast/processed_data/plantvillage_color/train/Tomato___Leaf_Mold/86e29af1-d73d-4403-b436-247705413f6d___Crnl_L.Mold 6599.JPG: name 'deep_extractor' is not defined\n",
            "Error processing /Users/debabratapattnayak/web-dev/greencast/processed_data/plantvillage_color/train/Grape___Esca_(Black_Measles)/1f826aa9-11b8-40c5-9206-f70c7138c673___FAM_B.Msls 1737.JPG: name 'deep_extractor' is not defined\n",
            "Error processing /Users/debabratapattnayak/web-dev/greencast/processed_data/plantvillage_color/train/Peach___Bacterial_spot/fea3dae1-085d-4fda-ba21-8ae5acea7245___Rut._Bact.S 1126.JPG: name 'deep_extractor' is not defined\n",
            "Error processing /Users/debabratapattnayak/web-dev/greencast/processed_data/plantvillage_color/train/Peach___Bacterial_spot/5648e249-411f-43e5-a85f-324bfe1aa844___Rut._Bact.S 0957.JPG: name 'deep_extractor' is not defined\n",
            "Error processing /Users/debabratapattnayak/web-dev/greencast/processed_data/plantvillage_color/train/Potato___Late_blight/5318452f-222d-4abc-b39c-55fa6c26a82a___RS_LB 3063.JPG: name 'deep_extractor' is not defined\n",
            "Error processing /Users/debabratapattnayak/web-dev/greencast/processed_data/plantvillage_color/train/Strawberry___healthy/bc365494-4c30-4a7e-8ecc-0e9876ce313f___RS_HL 4716.JPG: name 'deep_extractor' is not defined\n"
          ]
        },
        {
          "name": "stderr",
          "output_type": "stream",
          "text": [
            "Extracting features:  77%|███████▋  | 773/1000 [00:13<00:03, 57.86it/s]"
          ]
        },
        {
          "name": "stdout",
          "output_type": "stream",
          "text": [
            "Error processing /Users/debabratapattnayak/web-dev/greencast/processed_data/plantvillage_color/train/Tomato___Target_Spot/947d51e3-5c1f-4a54-b1bb-4e6f31f21140___Com.G_TgS_FL 0943.JPG: name 'deep_extractor' is not defined\n",
            "Error processing /Users/debabratapattnayak/web-dev/greencast/processed_data/plantvillage_color/train/Tomato___Early_blight/df86b9f1-3871-4139-be7d-928bd3e6d642___RS_Erly.B 7497.JPG: name 'deep_extractor' is not defined\n",
            "Error processing /Users/debabratapattnayak/web-dev/greencast/processed_data/plantvillage_color/train/Corn_(maize)___Common_rust_/RS_Rust 2406.JPG: name 'deep_extractor' is not defined\n",
            "Error processing /Users/debabratapattnayak/web-dev/greencast/processed_data/plantvillage_color/train/Blueberry___healthy/f0214e05-4d69-4519-ab9c-778604c5013a___RS_HL 2318.JPG: name 'deep_extractor' is not defined\n",
            "Error processing /Users/debabratapattnayak/web-dev/greencast/processed_data/plantvillage_color/train/Blueberry___healthy/479547f3-df9d-40b6-b207-fc27d67daa3c___RS_HL 5362.JPG: name 'deep_extractor' is not defined\n",
            "Error processing /Users/debabratapattnayak/web-dev/greencast/processed_data/plantvillage_color/train/Tomato___Tomato_Yellow_Leaf_Curl_Virus/0e07d1ac-39e3-404a-b14e-3218ee74e6bd___YLCV_NREC 2784.JPG: name 'deep_extractor' is not defined\n",
            "Error processing /Users/debabratapattnayak/web-dev/greencast/processed_data/plantvillage_color/train/Corn_(maize)___Common_rust_/RS_Rust 1896.JPG: name 'deep_extractor' is not defined\n",
            "Error processing /Users/debabratapattnayak/web-dev/greencast/processed_data/plantvillage_color/train/Corn_(maize)___healthy/1d424e91-e89b-4cf8-a0e9-48fc345cb9c4___R.S_HL 8299 copy.jpg: name 'deep_extractor' is not defined\n",
            "Error processing /Users/debabratapattnayak/web-dev/greencast/processed_data/plantvillage_color/train/Tomato___Spider_mites Two-spotted_spider_mite/00fa99e8-2605-4d72-be69-98277587d84b___Com.G_SpM_FL 1453.JPG: name 'deep_extractor' is not defined\n",
            "Error processing /Users/debabratapattnayak/web-dev/greencast/processed_data/plantvillage_color/train/Apple___healthy/45b5782c-dd64-4513-954a-25a4c4c5fdef___RS_HL 7887.JPG: name 'deep_extractor' is not defined\n",
            "Error processing /Users/debabratapattnayak/web-dev/greencast/processed_data/plantvillage_color/train/Squash___Powdery_mildew/412c48c1-fc0d-432c-a9fe-228124a882f8___UMD_Powd.M 0328.JPG: name 'deep_extractor' is not defined\n",
            "Error processing /Users/debabratapattnayak/web-dev/greencast/processed_data/plantvillage_color/train/Tomato___healthy/70ae81f5-0d05-4b69-a182-fa35bb3fe0ad___GH_HL Leaf 339.1.JPG: name 'deep_extractor' is not defined\n"
          ]
        },
        {
          "name": "stderr",
          "output_type": "stream",
          "text": [
            "Extracting features:  78%|███████▊  | 785/1000 [00:14<00:04, 52.35it/s]"
          ]
        },
        {
          "name": "stdout",
          "output_type": "stream",
          "text": [
            "Error processing /Users/debabratapattnayak/web-dev/greencast/processed_data/plantvillage_color/train/Apple___Black_rot/f3524490-1e4a-4292-9628-fccb4f85ae4e___JR_FrgE.S 8671.JPG: name 'deep_extractor' is not defined\n",
            "Error processing /Users/debabratapattnayak/web-dev/greencast/processed_data/plantvillage_color/train/Soybean___healthy/9b09f238-04f4-4a6a-9c03-453867309d9e___RS_HL 5705.JPG: name 'deep_extractor' is not defined\n",
            "Error processing /Users/debabratapattnayak/web-dev/greencast/processed_data/plantvillage_color/train/Tomato___Tomato_Yellow_Leaf_Curl_Virus/45a8e840-8248-4b4c-9ad4-54d721c99f25___UF.GRC_YLCV_Lab 02168.JPG: name 'deep_extractor' is not defined\n",
            "Error processing /Users/debabratapattnayak/web-dev/greencast/processed_data/plantvillage_color/train/Squash___Powdery_mildew/2e4b59a4-594a-4c40-ba66-adf6fc90f554___MD_Powd.M 0318.JPG: name 'deep_extractor' is not defined\n",
            "Error processing /Users/debabratapattnayak/web-dev/greencast/processed_data/plantvillage_color/train/Corn_(maize)___Northern_Leaf_Blight/fd9c7938-4f3f-448d-851b-042e287515f0___RS_NLB 3990.JPG: name 'deep_extractor' is not defined\n",
            "Error processing /Users/debabratapattnayak/web-dev/greencast/processed_data/plantvillage_color/train/Tomato___Septoria_leaf_spot/f687e8fc-c361-4f77-976d-64063c311858___Matt.S_CG 6793.JPG: name 'deep_extractor' is not defined\n",
            "Error processing /Users/debabratapattnayak/web-dev/greencast/processed_data/plantvillage_color/train/Tomato___healthy/8558f71b-626f-40f3-863d-69493941f829___RS_HL 0044.JPG: name 'deep_extractor' is not defined\n",
            "Error processing /Users/debabratapattnayak/web-dev/greencast/processed_data/plantvillage_color/train/Grape___Black_rot/9fbd4d4e-cb72-4fbb-b982-df897afed921___FAM_B.Rot 0566.JPG: name 'deep_extractor' is not defined\n",
            "Error processing /Users/debabratapattnayak/web-dev/greencast/processed_data/plantvillage_color/train/Corn_(maize)___Common_rust_/RS_Rust 1980.JPG: name 'deep_extractor' is not defined\n",
            "Error processing /Users/debabratapattnayak/web-dev/greencast/processed_data/plantvillage_color/train/Soybean___healthy/f3c72726-bd70-4ad3-afa9-e7207eaf96ba___RS_HL 6749.JPG: name 'deep_extractor' is not defined\n"
          ]
        },
        {
          "name": "stderr",
          "output_type": "stream",
          "text": [
            "Extracting features:  80%|███████▉  | 797/1000 [00:14<00:03, 54.15it/s]"
          ]
        },
        {
          "name": "stdout",
          "output_type": "stream",
          "text": [
            "Error processing /Users/debabratapattnayak/web-dev/greencast/processed_data/plantvillage_color/train/Tomato___Bacterial_spot/dbda016b-fd39-451d-82e5-08e42ea6bcda___GCREC_Bact.Sp 3285.JPG: name 'deep_extractor' is not defined\n",
            "Error processing /Users/debabratapattnayak/web-dev/greencast/processed_data/plantvillage_color/train/Peach___Bacterial_spot/5993883e-fc36-46ff-8838-c05e7e7ae9ef___Rut._Bact.S 1049.JPG: name 'deep_extractor' is not defined\n",
            "Error processing /Users/debabratapattnayak/web-dev/greencast/processed_data/plantvillage_color/train/Apple___healthy/0c056dd8-2040-48cf-a9a8-53d8ae5662d0___RS_HL 7987.JPG: name 'deep_extractor' is not defined\n",
            "Error processing /Users/debabratapattnayak/web-dev/greencast/processed_data/plantvillage_color/train/Soybean___healthy/759e3d2e-cdb7-4caa-912c-8ea953263998___RS_HL 6847.JPG: name 'deep_extractor' is not defined\n",
            "Error processing /Users/debabratapattnayak/web-dev/greencast/processed_data/plantvillage_color/train/Cherry_(including_sour)___healthy/4c075ba7-9664-4259-a574-7f4c8fa4cbd3___JR_HL 9828.JPG: name 'deep_extractor' is not defined\n",
            "Error processing /Users/debabratapattnayak/web-dev/greencast/processed_data/plantvillage_color/train/Grape___Black_rot/93271ee2-23b2-4b41-8bd7-ea951853fb38___FAM_B.Rot 3456.JPG: name 'deep_extractor' is not defined\n",
            "Error processing /Users/debabratapattnayak/web-dev/greencast/processed_data/plantvillage_color/train/Corn_(maize)___Common_rust_/RS_Rust 1619.JPG: name 'deep_extractor' is not defined\n",
            "Error processing /Users/debabratapattnayak/web-dev/greencast/processed_data/plantvillage_color/train/Orange___Haunglongbing_(Citrus_greening)/d33d1a79-39d2-421d-adf9-0aa83dc8d0da___CREC_HLB 7735.JPG: name 'deep_extractor' is not defined\n",
            "Error processing /Users/debabratapattnayak/web-dev/greencast/processed_data/plantvillage_color/train/Soybean___healthy/1716fc99-c502-41e2-a8f0-79119308b244___RS_HL 3592.JPG: name 'deep_extractor' is not defined\n",
            "Error processing /Users/debabratapattnayak/web-dev/greencast/processed_data/plantvillage_color/train/Soybean___healthy/bd7b6d83-12a6-4418-9ba5-2ce2fb6623be___RS_HL 4449.JPG: name 'deep_extractor' is not defined\n",
            "Error processing /Users/debabratapattnayak/web-dev/greencast/processed_data/plantvillage_color/train/Grape___healthy/8253f8a0-545c-4020-babf-46abad8260cf___Mt.N.V_HL 6161.JPG: name 'deep_extractor' is not defined\n",
            "Error processing /Users/debabratapattnayak/web-dev/greencast/processed_data/plantvillage_color/train/Potato___Early_blight/abb9a8c4-5d0f-443a-b7c9-780036ffe76c___RS_Early.B 7380.JPG: name 'deep_extractor' is not defined\n"
          ]
        },
        {
          "name": "stderr",
          "output_type": "stream",
          "text": [
            "Extracting features:  81%|████████  | 809/1000 [00:14<00:03, 56.33it/s]"
          ]
        },
        {
          "name": "stdout",
          "output_type": "stream",
          "text": [
            "Error processing /Users/debabratapattnayak/web-dev/greencast/processed_data/plantvillage_color/train/Peach___Bacterial_spot/7ce4668a-f177-4a73-b9b1-9c1ffd5c260b___Rutg._Bact.S 2082.JPG: name 'deep_extractor' is not defined\n",
            "Error processing /Users/debabratapattnayak/web-dev/greencast/processed_data/plantvillage_color/train/Orange___Haunglongbing_(Citrus_greening)/ddb550aa-4596-4b1c-9e06-f8bf2812253d___CREC_HLB 5046.JPG: name 'deep_extractor' is not defined\n",
            "Error processing /Users/debabratapattnayak/web-dev/greencast/processed_data/plantvillage_color/train/Tomato___Septoria_leaf_spot/e09ba1ab-7952-4b09-a886-0025c4536d7c___Keller.St_CG 1936.JPG: name 'deep_extractor' is not defined\n",
            "Error processing /Users/debabratapattnayak/web-dev/greencast/processed_data/plantvillage_color/train/Pepper,_bell___healthy/a7427b19-b68c-4ca9-b175-6fca8174c4b0___JR_HL 8142.JPG: name 'deep_extractor' is not defined\n",
            "Error processing /Users/debabratapattnayak/web-dev/greencast/processed_data/plantvillage_color/train/Tomato___Tomato_Yellow_Leaf_Curl_Virus/740233be-a812-4ff3-bf0e-bc95c56505a6___UF.GRC_YLCV_Lab 03239.JPG: name 'deep_extractor' is not defined\n",
            "Error processing /Users/debabratapattnayak/web-dev/greencast/processed_data/plantvillage_color/train/Grape___Black_rot/0d2c5ad5-1a2d-44f9-9be5-1aef9a51fb95___FAM_B.Rot 3469.JPG: name 'deep_extractor' is not defined\n",
            "Error processing /Users/debabratapattnayak/web-dev/greencast/processed_data/plantvillage_color/train/Tomato___Leaf_Mold/edf50862-c5ce-406d-a3f1-f228bd358ca3___Crnl_L.Mold 7038.JPG: name 'deep_extractor' is not defined\n",
            "Error processing /Users/debabratapattnayak/web-dev/greencast/processed_data/plantvillage_color/train/Tomato___healthy/2a859068-5042-4f74-82ac-29339c760cbb___GH_HL Leaf 436.JPG: name 'deep_extractor' is not defined\n",
            "Error processing /Users/debabratapattnayak/web-dev/greencast/processed_data/plantvillage_color/train/Soybean___healthy/071af3b5-5cc3-4344-a027-f149aec294b3___RS_HL 6430.JPG: name 'deep_extractor' is not defined\n",
            "Error processing /Users/debabratapattnayak/web-dev/greencast/processed_data/plantvillage_color/train/Grape___Esca_(Black_Measles)/7e8d88f1-a360-455f-ba55-046a8881d648___FAM_B.Msls 1111.JPG: name 'deep_extractor' is not defined\n",
            "Error processing /Users/debabratapattnayak/web-dev/greencast/processed_data/plantvillage_color/train/Tomato___Bacterial_spot/0aa1c431-682b-4a6e-af5f-2a7081ea2e97___GCREC_Bact.Sp 3622.JPG: name 'deep_extractor' is not defined\n",
            "Error processing /Users/debabratapattnayak/web-dev/greencast/processed_data/plantvillage_color/train/Tomato___Early_blight/fc38942e-e609-41a2-970c-cc1a67b16fe2___RS_Erly.B 7793.JPG: name 'deep_extractor' is not defined\n"
          ]
        },
        {
          "name": "stderr",
          "output_type": "stream",
          "text": [
            "Extracting features:  82%|████████▏ | 821/1000 [00:14<00:03, 56.73it/s]"
          ]
        },
        {
          "name": "stdout",
          "output_type": "stream",
          "text": [
            "Error processing /Users/debabratapattnayak/web-dev/greencast/processed_data/plantvillage_color/train/Corn_(maize)___healthy/8fe2c73e-d36f-4120-9d76-86ea660c00dc___R.S_HL 5528 copy 2.jpg: name 'deep_extractor' is not defined\n",
            "Error processing /Users/debabratapattnayak/web-dev/greencast/processed_data/plantvillage_color/train/Orange___Haunglongbing_(Citrus_greening)/0cf9f07e-919e-4ae5-b119-72a93def716d___CREC_HLB 6846.JPG: name 'deep_extractor' is not defined\n",
            "Error processing /Users/debabratapattnayak/web-dev/greencast/processed_data/plantvillage_color/train/Blueberry___healthy/ee7d3511-1912-46d9-8cda-254b77612a58___RS_HL 0458.JPG: name 'deep_extractor' is not defined\n",
            "Error processing /Users/debabratapattnayak/web-dev/greencast/processed_data/plantvillage_color/train/Corn_(maize)___Northern_Leaf_Blight/7f52f749-dad1-4042-8c73-52fc7e3ac99e___RS_NLB 3778.JPG: name 'deep_extractor' is not defined\n",
            "Error processing /Users/debabratapattnayak/web-dev/greencast/processed_data/plantvillage_color/train/Grape___healthy/40802018-54d4-4be9-8dd3-0856e6dac368___Mt.N.V_HL 9050.JPG: name 'deep_extractor' is not defined\n",
            "Error processing /Users/debabratapattnayak/web-dev/greencast/processed_data/plantvillage_color/train/Orange___Haunglongbing_(Citrus_greening)/889e8220-69c3-4ccc-9ccb-564b6077b153___UF.Citrus_HLB_Lab 0239.JPG: name 'deep_extractor' is not defined\n",
            "Error processing /Users/debabratapattnayak/web-dev/greencast/processed_data/plantvillage_color/train/Tomato___Tomato_Yellow_Leaf_Curl_Virus/a7a73400-263d-4796-87fc-4e8e00fc8a5b___UF.GRC_YLCV_Lab 03248.JPG: name 'deep_extractor' is not defined\n",
            "Error processing /Users/debabratapattnayak/web-dev/greencast/processed_data/plantvillage_color/train/Corn_(maize)___healthy/8b6204cd-cbf2-43b0-90cc-255815f7beb7___R.S_HL 8156 copy.jpg: name 'deep_extractor' is not defined\n",
            "Error processing /Users/debabratapattnayak/web-dev/greencast/processed_data/plantvillage_color/train/Blueberry___healthy/d9424a3a-c237-48e2-9d57-080bc79ba34e___RS_HL 4977.JPG: name 'deep_extractor' is not defined\n",
            "Error processing /Users/debabratapattnayak/web-dev/greencast/processed_data/plantvillage_color/train/Tomato___Late_blight/bf014d78-5f3a-4748-a026-dc80d95cbc3f___GHLB2 Leaf 164.JPG: name 'deep_extractor' is not defined\n",
            "Error processing /Users/debabratapattnayak/web-dev/greencast/processed_data/plantvillage_color/train/Tomato___Leaf_Mold/1b561161-1e63-4de0-889a-9c7b13487e18___Crnl_L.Mold 6596.JPG: name 'deep_extractor' is not defined\n",
            "Error processing /Users/debabratapattnayak/web-dev/greencast/processed_data/plantvillage_color/train/Tomato___Early_blight/0982d864-182e-4d36-959a-dcc67d85d9e6___RS_Erly.B 9481.JPG: name 'deep_extractor' is not defined\n"
          ]
        },
        {
          "name": "stderr",
          "output_type": "stream",
          "text": [
            "Extracting features:  83%|████████▎ | 834/1000 [00:14<00:02, 58.40it/s]"
          ]
        },
        {
          "name": "stdout",
          "output_type": "stream",
          "text": [
            "Error processing /Users/debabratapattnayak/web-dev/greencast/processed_data/plantvillage_color/train/Squash___Powdery_mildew/2e531dd7-e282-4e5c-ac21-1b29b6c4ea59___UMD_Powd.M 0637.JPG: name 'deep_extractor' is not defined\n",
            "Error processing /Users/debabratapattnayak/web-dev/greencast/processed_data/plantvillage_color/train/Tomato___Target_Spot/c5ef18ff-9e4d-4600-bf43-75cabf873e6e___Com.G_TgS_FL 0984.JPG: name 'deep_extractor' is not defined\n",
            "Error processing /Users/debabratapattnayak/web-dev/greencast/processed_data/plantvillage_color/train/Apple___Black_rot/ee5b8f3c-3afe-45d9-b0ad-8aefc9dc914b___JR_FrgE.S 2987.JPG: name 'deep_extractor' is not defined\n",
            "Error processing /Users/debabratapattnayak/web-dev/greencast/processed_data/plantvillage_color/train/Tomato___Spider_mites Two-spotted_spider_mite/0d835caf-0069-4fa5-a022-c8cc7763189c___Com.G_SpM_FL 8917.JPG: name 'deep_extractor' is not defined\n",
            "Error processing /Users/debabratapattnayak/web-dev/greencast/processed_data/plantvillage_color/train/Orange___Haunglongbing_(Citrus_greening)/70e0f4e9-8f9c-4458-baf4-41ee1bd091ea___UF.Citrus_HLB_Lab 1407.JPG: name 'deep_extractor' is not defined\n",
            "Error processing /Users/debabratapattnayak/web-dev/greencast/processed_data/plantvillage_color/train/Tomato___Leaf_Mold/3876f39d-ca68-494d-ac22-f71d5d459a66___Crnl_L.Mold 9175.JPG: name 'deep_extractor' is not defined\n",
            "Error processing /Users/debabratapattnayak/web-dev/greencast/processed_data/plantvillage_color/train/Peach___Bacterial_spot/8fa85b82-300b-4403-9b6e-22662bac799b___Rutg._Bact.S 1573.JPG: name 'deep_extractor' is not defined\n",
            "Error processing /Users/debabratapattnayak/web-dev/greencast/processed_data/plantvillage_color/train/Pepper,_bell___healthy/342c87ae-db00-4ba8-9029-a91ba10b4d77___JR_HL 8397.JPG: name 'deep_extractor' is not defined\n",
            "Error processing /Users/debabratapattnayak/web-dev/greencast/processed_data/plantvillage_color/train/Tomato___Tomato_Yellow_Leaf_Curl_Virus/7447f09a-4155-433a-b7d7-ce8c6fc2cba7___UF.GRC_YLCV_Lab 02093.JPG: name 'deep_extractor' is not defined\n",
            "Error processing /Users/debabratapattnayak/web-dev/greencast/processed_data/plantvillage_color/train/Orange___Haunglongbing_(Citrus_greening)/dba21d90-9009-4a9a-8179-7227d7e56b8e___CREC_HLB 6427.JPG: name 'deep_extractor' is not defined\n",
            "Error processing /Users/debabratapattnayak/web-dev/greencast/processed_data/plantvillage_color/train/Orange___Haunglongbing_(Citrus_greening)/55cf12fd-f3b5-4576-af8d-4a5ded2cad43___UF.Citrus_HLB_Lab 9745.JPG: name 'deep_extractor' is not defined\n",
            "Error processing /Users/debabratapattnayak/web-dev/greencast/processed_data/plantvillage_color/train/Tomato___Tomato_Yellow_Leaf_Curl_Virus/566ea21e-2f9a-4232-b095-335db627b494___YLCV_GCREC 2100.JPG: name 'deep_extractor' is not defined\n",
            "Error processing /Users/debabratapattnayak/web-dev/greencast/processed_data/plantvillage_color/train/Tomato___Bacterial_spot/35f5191b-02dc-4358-8b35-808f2e1dc580___GCREC_Bact.Sp 5590.JPG: name 'deep_extractor' is not defined\n"
          ]
        },
        {
          "name": "stderr",
          "output_type": "stream",
          "text": [
            "Extracting features:  85%|████████▍ | 846/1000 [00:15<00:02, 56.96it/s]"
          ]
        },
        {
          "name": "stdout",
          "output_type": "stream",
          "text": [
            "Error processing /Users/debabratapattnayak/web-dev/greencast/processed_data/plantvillage_color/train/Cherry_(including_sour)___Powdery_mildew/0543e14a-64f1-495c-a33c-a9e2463a2a50___FREC_Pwd.M 4632.JPG: name 'deep_extractor' is not defined\n",
            "Error processing /Users/debabratapattnayak/web-dev/greencast/processed_data/plantvillage_color/train/Tomato___healthy/ae17a302-03cb-48c7-aee2-6d9a859ce5dc___RS_HL 9811.JPG: name 'deep_extractor' is not defined\n",
            "Error processing /Users/debabratapattnayak/web-dev/greencast/processed_data/plantvillage_color/train/Tomato___Septoria_leaf_spot/dd5b3796-c2c2-4277-ab0f-cfee6d0f661a___Matt.S_CG 7589.JPG: name 'deep_extractor' is not defined\n",
            "Error processing /Users/debabratapattnayak/web-dev/greencast/processed_data/plantvillage_color/train/Blueberry___healthy/24013c74-54aa-4a2d-adf2-dcd29336ef44___RS_HL 2617.JPG: name 'deep_extractor' is not defined\n",
            "Error processing /Users/debabratapattnayak/web-dev/greencast/processed_data/plantvillage_color/train/Apple___healthy/81dd861f-5c83-41f3-8aa2-2abbb94ed9f5___RS_HL 7325.JPG: name 'deep_extractor' is not defined\n",
            "Error processing /Users/debabratapattnayak/web-dev/greencast/processed_data/plantvillage_color/train/Peach___Bacterial_spot/d9dc64d7-43ff-40d9-93ff-fcec68cfc25f___Rut._Bact.S 0771.JPG: name 'deep_extractor' is not defined\n",
            "Error processing /Users/debabratapattnayak/web-dev/greencast/processed_data/plantvillage_color/train/Squash___Powdery_mildew/4cd7041d-6971-4a3c-a6a9-b8c6810ef0f0___MD_Powd.M 0663.JPG: name 'deep_extractor' is not defined\n",
            "Error processing /Users/debabratapattnayak/web-dev/greencast/processed_data/plantvillage_color/train/Grape___Black_rot/c8bfe895-d9a9-489b-82c3-a038f28640c1___FAM_B.Rot 0400.JPG: name 'deep_extractor' is not defined\n",
            "Error processing /Users/debabratapattnayak/web-dev/greencast/processed_data/plantvillage_color/train/Squash___Powdery_mildew/676f8bc9-46f3-40ea-92c4-7595670efa23___UMD_Powd.M 9758.JPG: name 'deep_extractor' is not defined\n",
            "Error processing /Users/debabratapattnayak/web-dev/greencast/processed_data/plantvillage_color/train/Soybean___healthy/d8e246bb-14ce-4d26-a069-f8ef1269217b___RS_HL 3590.JPG: name 'deep_extractor' is not defined\n",
            "Error processing /Users/debabratapattnayak/web-dev/greencast/processed_data/plantvillage_color/train/Apple___Black_rot/29f7c332-777e-427b-898a-3b82465a17aa___JR_FrgE.S 2941.JPG: name 'deep_extractor' is not defined\n",
            "Error processing /Users/debabratapattnayak/web-dev/greencast/processed_data/plantvillage_color/train/Apple___Cedar_apple_rust/4444fa5c-3ad7-49cf-9384-8686b691e4b8___FREC_C.Rust 3600.JPG: name 'deep_extractor' is not defined\n"
          ]
        },
        {
          "name": "stderr",
          "output_type": "stream",
          "text": [
            "Extracting features:  86%|████████▌ | 858/1000 [00:15<00:02, 54.32it/s]"
          ]
        },
        {
          "name": "stdout",
          "output_type": "stream",
          "text": [
            "Error processing /Users/debabratapattnayak/web-dev/greencast/processed_data/plantvillage_color/train/Soybean___healthy/052a3e45-92da-479c-9634-26f5f80dd7d5___RS_HL 3424.JPG: name 'deep_extractor' is not defined\n",
            "Error processing /Users/debabratapattnayak/web-dev/greencast/processed_data/plantvillage_color/train/Soybean___healthy/cc733fdf-ab5d-48dd-906b-100615a43e71___RS_HL 5615.JPG: name 'deep_extractor' is not defined\n",
            "Error processing /Users/debabratapattnayak/web-dev/greencast/processed_data/plantvillage_color/train/Apple___healthy/65a6d1f7-616e-40b7-8ebb-8b895c69a7dd___RS_HL 7813.JPG: name 'deep_extractor' is not defined\n",
            "Error processing /Users/debabratapattnayak/web-dev/greencast/processed_data/plantvillage_color/train/Tomato___Tomato_Yellow_Leaf_Curl_Virus/8f1a743b-d0cf-4405-9d85-8d40f9187da3___YLCV_NREC 2212.JPG: name 'deep_extractor' is not defined\n",
            "Error processing /Users/debabratapattnayak/web-dev/greencast/processed_data/plantvillage_color/train/Blueberry___healthy/9d6ac526-5b63-47d6-aeb5-95eb78a79e22___RS_HL 5441.JPG: name 'deep_extractor' is not defined\n",
            "Error processing /Users/debabratapattnayak/web-dev/greencast/processed_data/plantvillage_color/train/Soybean___healthy/0a802bf3-4175-415e-86f7-71f825d927e8___RS_HL 4574.JPG: name 'deep_extractor' is not defined\n",
            "Error processing /Users/debabratapattnayak/web-dev/greencast/processed_data/plantvillage_color/train/Apple___Apple_scab/c2997bb6-d9ae-4ffc-bc3f-c85510480e13___FREC_Scab 3428.JPG: name 'deep_extractor' is not defined\n",
            "Error processing /Users/debabratapattnayak/web-dev/greencast/processed_data/plantvillage_color/train/Pepper,_bell___healthy/77f29636-f395-4e5e-857e-e76b263f4887___JR_HL 8622.JPG: name 'deep_extractor' is not defined\n",
            "Error processing /Users/debabratapattnayak/web-dev/greencast/processed_data/plantvillage_color/train/Cherry_(including_sour)___Powdery_mildew/245733d5-60d3-4db2-8843-134b973b6e6b___FREC_Pwd.M 4665.JPG: name 'deep_extractor' is not defined\n",
            "Error processing /Users/debabratapattnayak/web-dev/greencast/processed_data/plantvillage_color/train/Tomato___Bacterial_spot/87e80453-5c30-413b-b60f-673730e8e2d4___GCREC_Bact.Sp 3207.JPG: name 'deep_extractor' is not defined\n",
            "Error processing /Users/debabratapattnayak/web-dev/greencast/processed_data/plantvillage_color/train/Potato___Late_blight/f4e6847d-d381-4849-9ff1-930cfb597d08___RS_LB 5097.JPG: name 'deep_extractor' is not defined\n",
            "Error processing /Users/debabratapattnayak/web-dev/greencast/processed_data/plantvillage_color/train/Grape___Black_rot/1e828732-ed86-4741-b9e5-2e7c3785c1ff___FAM_B.Rot 3015.JPG: name 'deep_extractor' is not defined\n"
          ]
        },
        {
          "name": "stderr",
          "output_type": "stream",
          "text": [
            "Extracting features:  87%|████████▋ | 870/1000 [00:15<00:02, 55.75it/s]"
          ]
        },
        {
          "name": "stdout",
          "output_type": "stream",
          "text": [
            "Error processing /Users/debabratapattnayak/web-dev/greencast/processed_data/plantvillage_color/train/Apple___Black_rot/60a8b7ad-7039-4c35-82da-ad011a1e856e___JR_FrgE.S 2805.JPG: name 'deep_extractor' is not defined\n",
            "Error processing /Users/debabratapattnayak/web-dev/greencast/processed_data/plantvillage_color/train/Tomato___Target_Spot/7723f266-8f6d-421e-ae24-fa6a7b292e13___Com.G_TgS_FL 0818.JPG: name 'deep_extractor' is not defined\n",
            "Error processing /Users/debabratapattnayak/web-dev/greencast/processed_data/plantvillage_color/train/Tomato___Early_blight/d4e4bce8-d7ca-492b-8dda-69f3e95f4e5a___RS_Erly.B 6418.JPG: name 'deep_extractor' is not defined\n",
            "Error processing /Users/debabratapattnayak/web-dev/greencast/processed_data/plantvillage_color/train/Pepper,_bell___Bacterial_spot/ca89aafd-ce2f-4eaf-96ab-362bf91311b9___JR_B.Spot 8883.JPG: name 'deep_extractor' is not defined\n",
            "Error processing /Users/debabratapattnayak/web-dev/greencast/processed_data/plantvillage_color/train/Orange___Haunglongbing_(Citrus_greening)/cf41e77f-2ebe-4023-a877-f47775689a3b___CREC_HLB 7771.JPG: name 'deep_extractor' is not defined\n",
            "Error processing /Users/debabratapattnayak/web-dev/greencast/processed_data/plantvillage_color/train/Soybean___healthy/8936f6e2-92ee-4608-87a3-aba4b0b03c0f___RS_HL 4761.JPG: name 'deep_extractor' is not defined\n",
            "Error processing /Users/debabratapattnayak/web-dev/greencast/processed_data/plantvillage_color/train/Apple___Black_rot/51c1787e-4570-43dc-91c3-6ae72c98128a___JR_FrgE.S 8706.JPG: name 'deep_extractor' is not defined\n",
            "Error processing /Users/debabratapattnayak/web-dev/greencast/processed_data/plantvillage_color/train/Corn_(maize)___Common_rust_/RS_Rust 1576.JPG: name 'deep_extractor' is not defined\n",
            "Error processing /Users/debabratapattnayak/web-dev/greencast/processed_data/plantvillage_color/train/Tomato___Tomato_Yellow_Leaf_Curl_Virus/b37e1706-abf7-49c1-9a4c-361b9f586b8a___UF.GRC_YLCV_Lab 02815.JPG: name 'deep_extractor' is not defined\n",
            "Error processing /Users/debabratapattnayak/web-dev/greencast/processed_data/plantvillage_color/train/Blueberry___healthy/94f7bc0f-a8c2-4a7b-8346-b0333b4c8ee4___RS_HL 0488.JPG: name 'deep_extractor' is not defined\n",
            "Error processing /Users/debabratapattnayak/web-dev/greencast/processed_data/plantvillage_color/train/Corn_(maize)___Northern_Leaf_Blight/38b794a9-d3c7-4861-9cff-4465ed936f48___RS_NLB 3948.JPG: name 'deep_extractor' is not defined\n",
            "Error processing /Users/debabratapattnayak/web-dev/greencast/processed_data/plantvillage_color/train/Blueberry___healthy/a2255d3f-5fbf-4fbd-9c8d-703a2f081e3c___RS_HL 0615.JPG: name 'deep_extractor' is not defined\n"
          ]
        },
        {
          "name": "stderr",
          "output_type": "stream",
          "text": [
            "Extracting features:  88%|████████▊ | 882/1000 [00:15<00:02, 57.00it/s]"
          ]
        },
        {
          "name": "stdout",
          "output_type": "stream",
          "text": [
            "Error processing /Users/debabratapattnayak/web-dev/greencast/processed_data/plantvillage_color/train/Potato___Late_blight/51eb7a7a-99b4-47c4-be2f-2de9f4e5e985___RS_LB 5182.JPG: name 'deep_extractor' is not defined\n",
            "Error processing /Users/debabratapattnayak/web-dev/greencast/processed_data/plantvillage_color/train/Tomato___Tomato_Yellow_Leaf_Curl_Virus/a060ee22-57e7-4999-9ae8-e8a5ec56620c___YLCV_NREC 2727.JPG: name 'deep_extractor' is not defined\n",
            "Error processing /Users/debabratapattnayak/web-dev/greencast/processed_data/plantvillage_color/train/Orange___Haunglongbing_(Citrus_greening)/fc115475-cb4c-445f-9278-542887bce499___UF.Citrus_HLB_Lab 0553.JPG: name 'deep_extractor' is not defined\n",
            "Error processing /Users/debabratapattnayak/web-dev/greencast/processed_data/plantvillage_color/train/Peach___Bacterial_spot/2e39d122-19b5-4c62-bb2d-98f2e9240976___Rut._Bact.S 3439.JPG: name 'deep_extractor' is not defined\n",
            "Error processing /Users/debabratapattnayak/web-dev/greencast/processed_data/plantvillage_color/train/Grape___Black_rot/4ea5f522-3623-4ee9-9a13-4ea63404c500___FAM_B.Rot 5070.JPG: name 'deep_extractor' is not defined\n",
            "Error processing /Users/debabratapattnayak/web-dev/greencast/processed_data/plantvillage_color/train/Corn_(maize)___healthy/ed1a380e-aee9-46db-b967-93f25bbfdbff___R.S_HL 7961 copy.jpg: name 'deep_extractor' is not defined\n",
            "Error processing /Users/debabratapattnayak/web-dev/greencast/processed_data/plantvillage_color/train/Orange___Haunglongbing_(Citrus_greening)/6b617db5-cede-444c-bfbc-969ceb71aa90___UF.Citrus_HLB_Lab 9632.JPG: name 'deep_extractor' is not defined\n",
            "Error processing /Users/debabratapattnayak/web-dev/greencast/processed_data/plantvillage_color/train/Apple___Apple_scab/7edff180-8238-44d7-bba1-07749e649dae___FREC_Scab 3071.JPG: name 'deep_extractor' is not defined\n",
            "Error processing /Users/debabratapattnayak/web-dev/greencast/processed_data/plantvillage_color/train/Tomato___Leaf_Mold/bd6dc03e-b3f0-4b30-81f8-8ac3205d4d49___Crnl_L.Mold 8849.JPG: name 'deep_extractor' is not defined\n",
            "Error processing /Users/debabratapattnayak/web-dev/greencast/processed_data/plantvillage_color/train/Corn_(maize)___Common_rust_/RS_Rust 2602.JPG: name 'deep_extractor' is not defined\n",
            "Error processing /Users/debabratapattnayak/web-dev/greencast/processed_data/plantvillage_color/train/Apple___healthy/398f4455-d008-4d69-a58d-b0a1f228abaa___RS_HL 5729.JPG: name 'deep_extractor' is not defined\n",
            "Error processing /Users/debabratapattnayak/web-dev/greencast/processed_data/plantvillage_color/train/Squash___Powdery_mildew/600e85b6-31d2-4cb9-99e6-778a7e782c63___UMD_Powd.M 9987.JPG: name 'deep_extractor' is not defined\n"
          ]
        },
        {
          "name": "stderr",
          "output_type": "stream",
          "text": [
            "Extracting features:  89%|████████▉ | 894/1000 [00:16<00:01, 56.95it/s]"
          ]
        },
        {
          "name": "stdout",
          "output_type": "stream",
          "text": [
            "Error processing /Users/debabratapattnayak/web-dev/greencast/processed_data/plantvillage_color/train/Blueberry___healthy/15e89153-70ab-4b92-b96e-22d474e00755___RS_HL 5137.JPG: name 'deep_extractor' is not defined\n",
            "Error processing /Users/debabratapattnayak/web-dev/greencast/processed_data/plantvillage_color/train/Apple___Cedar_apple_rust/6b9f9f65-4359-40a4-bdba-3db5057489f4___FREC_C.Rust 3748.JPG: name 'deep_extractor' is not defined\n",
            "Error processing /Users/debabratapattnayak/web-dev/greencast/processed_data/plantvillage_color/train/Tomato___Tomato_Yellow_Leaf_Curl_Virus/2641a88e-9e38-4270-95a4-69ca75d2e9bb___UF.GRC_YLCV_Lab 02773.JPG: name 'deep_extractor' is not defined\n",
            "Error processing /Users/debabratapattnayak/web-dev/greencast/processed_data/plantvillage_color/train/Tomato___Bacterial_spot/372d40b5-aac9-43d3-b9e7-08d52467622c___GCREC_Bact.Sp 6215.JPG: name 'deep_extractor' is not defined\n",
            "Error processing /Users/debabratapattnayak/web-dev/greencast/processed_data/plantvillage_color/train/Blueberry___healthy/6e2b2e48-ddc6-4a59-9e62-702b5192e8ba___RS_HL 0477.JPG: name 'deep_extractor' is not defined\n",
            "Error processing /Users/debabratapattnayak/web-dev/greencast/processed_data/plantvillage_color/train/Soybean___healthy/f61cc5fe-968b-4a9e-881d-e2325b4a3b63___RS_HL 6086.JPG: name 'deep_extractor' is not defined\n",
            "Error processing /Users/debabratapattnayak/web-dev/greencast/processed_data/plantvillage_color/train/Grape___Esca_(Black_Measles)/d4a705a5-9e57-4994-a9ce-9d1d9fe4b4f4___FAM_B.Msls 4286.JPG: name 'deep_extractor' is not defined\n",
            "Error processing /Users/debabratapattnayak/web-dev/greencast/processed_data/plantvillage_color/train/Tomato___Bacterial_spot/f144a9b5-bdbb-48ca-a454-4885137f805a___GCREC_Bact.Sp 3629.JPG: name 'deep_extractor' is not defined\n",
            "Error processing /Users/debabratapattnayak/web-dev/greencast/processed_data/plantvillage_color/train/Apple___healthy/594d37c6-accf-4ea8-9c97-8a9e0300010d___RS_HL 8019.JPG: name 'deep_extractor' is not defined\n",
            "Error processing /Users/debabratapattnayak/web-dev/greencast/processed_data/plantvillage_color/train/Apple___healthy/ecfed640-129c-4440-8617-fbe0372c0556___RS_HL 7485.JPG: name 'deep_extractor' is not defined\n",
            "Error processing /Users/debabratapattnayak/web-dev/greencast/processed_data/plantvillage_color/train/Pepper,_bell___Bacterial_spot/79aa6f93-2261-4e77-a452-c6d09f836ba3___JR_B.Spot 3126.JPG: name 'deep_extractor' is not defined\n",
            "Error processing /Users/debabratapattnayak/web-dev/greencast/processed_data/plantvillage_color/train/Peach___Bacterial_spot/d49800b9-b84b-4d71-8f7b-5537b2563ae8___Rutg._Bact.S 1482.JPG: name 'deep_extractor' is not defined\n"
          ]
        },
        {
          "name": "stderr",
          "output_type": "stream",
          "text": [
            "Extracting features:  91%|█████████ | 906/1000 [00:16<00:01, 57.37it/s]"
          ]
        },
        {
          "name": "stdout",
          "output_type": "stream",
          "text": [
            "Error processing /Users/debabratapattnayak/web-dev/greencast/processed_data/plantvillage_color/train/Orange___Haunglongbing_(Citrus_greening)/6313f034-b247-43e8-b589-f6813bba53c1___CREC_HLB 4577.JPG: name 'deep_extractor' is not defined\n",
            "Error processing /Users/debabratapattnayak/web-dev/greencast/processed_data/plantvillage_color/train/Cherry_(including_sour)___Powdery_mildew/a1d9a59f-ea5f-47c7-8305-75cffd13a86c___FREC_Pwd.M 4892.JPG: name 'deep_extractor' is not defined\n",
            "Error processing /Users/debabratapattnayak/web-dev/greencast/processed_data/plantvillage_color/train/Orange___Haunglongbing_(Citrus_greening)/8c234c74-0ac2-4d2e-96d8-8aaebac5adfa___CREC_HLB 4208.JPG: name 'deep_extractor' is not defined\n",
            "Error processing /Users/debabratapattnayak/web-dev/greencast/processed_data/plantvillage_color/train/Tomato___Septoria_leaf_spot/a6e00d31-f88a-4e11-98e1-d3897a0d5684___Keller.St_CG 1822.JPG: name 'deep_extractor' is not defined\n",
            "Error processing /Users/debabratapattnayak/web-dev/greencast/processed_data/plantvillage_color/train/Pepper,_bell___healthy/b353a9e6-cdab-4fb7-9a1f-8f25c14c0137___JR_HL 7795.JPG: name 'deep_extractor' is not defined\n",
            "Error processing /Users/debabratapattnayak/web-dev/greencast/processed_data/plantvillage_color/train/Tomato___Early_blight/2840c2f1-b901-41c2-8d0c-7827bc7f8ab3___RS_Erly.B 9574.JPG: name 'deep_extractor' is not defined\n",
            "Error processing /Users/debabratapattnayak/web-dev/greencast/processed_data/plantvillage_color/train/Blueberry___healthy/b6df7199-5c95-4d6c-9291-987c2bbed1f2___RS_HL 5400.JPG: name 'deep_extractor' is not defined\n",
            "Error processing /Users/debabratapattnayak/web-dev/greencast/processed_data/plantvillage_color/train/Tomato___Late_blight/97e49ab1-3159-4659-9954-518c94690a9e___RS_Late.B 5534.JPG: name 'deep_extractor' is not defined\n",
            "Error processing /Users/debabratapattnayak/web-dev/greencast/processed_data/plantvillage_color/train/Apple___Apple_scab/10072248-60e2-4190-b4df-14e8ab61008c___FREC_Scab 3445.JPG: name 'deep_extractor' is not defined\n",
            "Error processing /Users/debabratapattnayak/web-dev/greencast/processed_data/plantvillage_color/train/Squash___Powdery_mildew/4db5164e-d91e-4f1f-8686-591596406758___MD_Powd.M 0800.JPG: name 'deep_extractor' is not defined\n",
            "Error processing /Users/debabratapattnayak/web-dev/greencast/processed_data/plantvillage_color/train/Apple___Black_rot/0ca16873-eeac-47e9-9a87-1859950daab7___JR_FrgE.S 2835.JPG: name 'deep_extractor' is not defined\n",
            "Error processing /Users/debabratapattnayak/web-dev/greencast/processed_data/plantvillage_color/train/Tomato___Tomato_Yellow_Leaf_Curl_Virus/c300ca8f-5d23-459c-8d07-cbcbde7c7a9c___YLCV_NREC 0214.JPG: name 'deep_extractor' is not defined\n"
          ]
        },
        {
          "name": "stderr",
          "output_type": "stream",
          "text": [
            "Extracting features:  92%|█████████▏| 918/1000 [00:16<00:01, 52.52it/s]"
          ]
        },
        {
          "name": "stdout",
          "output_type": "stream",
          "text": [
            "Error processing /Users/debabratapattnayak/web-dev/greencast/processed_data/plantvillage_color/train/Peach___Bacterial_spot/bdb5b6fd-1372-45d6-b7cc-299459c4c338___Rut._Bact.S 0773.JPG: name 'deep_extractor' is not defined\n",
            "Error processing /Users/debabratapattnayak/web-dev/greencast/processed_data/plantvillage_color/train/Soybean___healthy/769d957c-6237-4dd1-928d-9ad6d3186d60___RS_HL 5611.JPG: name 'deep_extractor' is not defined\n",
            "Error processing /Users/debabratapattnayak/web-dev/greencast/processed_data/plantvillage_color/train/Corn_(maize)___Common_rust_/RS_Rust 1778.JPG: name 'deep_extractor' is not defined\n",
            "Error processing /Users/debabratapattnayak/web-dev/greencast/processed_data/plantvillage_color/train/Orange___Haunglongbing_(Citrus_greening)/77f9ae9f-3170-4df8-8027-5199ffde6a4d___CREC_HLB 6966.JPG: name 'deep_extractor' is not defined\n",
            "Error processing /Users/debabratapattnayak/web-dev/greencast/processed_data/plantvillage_color/train/Tomato___Bacterial_spot/4987b5ee-012c-4bcd-854d-7881a50757fd___GCREC_Bact.Sp 3209.JPG: name 'deep_extractor' is not defined\n",
            "Error processing /Users/debabratapattnayak/web-dev/greencast/processed_data/plantvillage_color/train/Soybean___healthy/c14c5813-34ce-48ec-a472-a0df316be13c___RS_HL 4472.JPG: name 'deep_extractor' is not defined\n",
            "Error processing /Users/debabratapattnayak/web-dev/greencast/processed_data/plantvillage_color/train/Tomato___Septoria_leaf_spot/57364d0e-48f0-49e4-89a3-5a697c6efa5b___Keller.St_CG 1813.JPG: name 'deep_extractor' is not defined\n",
            "Error processing /Users/debabratapattnayak/web-dev/greencast/processed_data/plantvillage_color/train/Soybean___healthy/eeac2f9f-f852-46b3-a72d-67dacdf264cd___RS_HL 3404.JPG: name 'deep_extractor' is not defined\n",
            "Error processing /Users/debabratapattnayak/web-dev/greencast/processed_data/plantvillage_color/train/Orange___Haunglongbing_(Citrus_greening)/d09d3fdf-6a16-4a52-9287-3aa3812add61___CREC_HLB 4677.JPG: name 'deep_extractor' is not defined\n",
            "Error processing /Users/debabratapattnayak/web-dev/greencast/processed_data/plantvillage_color/train/Squash___Powdery_mildew/de0b80ad-9b1b-478b-8f4f-90e79615b21b___MD_Powd.M 0962.JPG: name 'deep_extractor' is not defined\n"
          ]
        },
        {
          "name": "stderr",
          "output_type": "stream",
          "text": [
            "Extracting features:  93%|█████████▎| 930/1000 [00:16<00:01, 55.48it/s]"
          ]
        },
        {
          "name": "stdout",
          "output_type": "stream",
          "text": [
            "Error processing /Users/debabratapattnayak/web-dev/greencast/processed_data/plantvillage_color/train/Grape___Black_rot/422245a4-9a54-44af-90f5-f9428cdc5e43___FAM_B.Rot 3166.JPG: name 'deep_extractor' is not defined\n",
            "Error processing /Users/debabratapattnayak/web-dev/greencast/processed_data/plantvillage_color/train/Tomato___Septoria_leaf_spot/a0268a59-6f6e-4f65-973a-a282a1d078fd___Matt.S_CG 0972.JPG: name 'deep_extractor' is not defined\n",
            "Error processing /Users/debabratapattnayak/web-dev/greencast/processed_data/plantvillage_color/train/Corn_(maize)___healthy/ad07f4f7-c5a1-42f3-8007-bda26301a4c7___R.S_HL 8111 copy 2.jpg: name 'deep_extractor' is not defined\n",
            "Error processing /Users/debabratapattnayak/web-dev/greencast/processed_data/plantvillage_color/train/Potato___Early_blight/f0cdbf74-8401-48d1-b1cc-94862e1a4452___RS_Early.B 7447.JPG: name 'deep_extractor' is not defined\n",
            "Error processing /Users/debabratapattnayak/web-dev/greencast/processed_data/plantvillage_color/train/Blueberry___healthy/93a17a3d-a09b-4aad-8735-353cf1ff70ae___RS_HL 4917.JPG: name 'deep_extractor' is not defined\n",
            "Error processing /Users/debabratapattnayak/web-dev/greencast/processed_data/plantvillage_color/train/Orange___Haunglongbing_(Citrus_greening)/0bd2460c-fdfe-4213-a713-13da46987054___CREC_HLB 4460.JPG: name 'deep_extractor' is not defined\n",
            "Error processing /Users/debabratapattnayak/web-dev/greencast/processed_data/plantvillage_color/train/Orange___Haunglongbing_(Citrus_greening)/b19b6f3e-7ffc-43fc-b379-d4e30b1dac8b___CREC_HLB 5433.JPG: name 'deep_extractor' is not defined\n",
            "Error processing /Users/debabratapattnayak/web-dev/greencast/processed_data/plantvillage_color/train/Orange___Haunglongbing_(Citrus_greening)/5f116b0d-de43-4337-bbd9-9abfd3d77132___UF.Citrus_HLB_Lab 0421.JPG: name 'deep_extractor' is not defined\n",
            "Error processing /Users/debabratapattnayak/web-dev/greencast/processed_data/plantvillage_color/train/Strawberry___Leaf_scorch/01f11949-54ba-4c0e-afb7-1e435ecac63a___RS_L.Scorch 0045.JPG: name 'deep_extractor' is not defined\n",
            "Error processing /Users/debabratapattnayak/web-dev/greencast/processed_data/plantvillage_color/train/Potato___Early_blight/2767ef91-3383-4872-9804-e0bcd2bc43fc___RS_Early.B 7783.JPG: name 'deep_extractor' is not defined\n",
            "Error processing /Users/debabratapattnayak/web-dev/greencast/processed_data/plantvillage_color/train/Tomato___Leaf_Mold/794848b0-1482-46ae-b615-1382b41ea623___Crnl_L.Mold 6595.JPG: name 'deep_extractor' is not defined\n",
            "Error processing /Users/debabratapattnayak/web-dev/greencast/processed_data/plantvillage_color/train/Cherry_(including_sour)___Powdery_mildew/d42add39-cfc9-4603-948e-fb70a8fb0a12___FREC_Pwd.M 4823.JPG: name 'deep_extractor' is not defined\n"
          ]
        },
        {
          "name": "stderr",
          "output_type": "stream",
          "text": [
            "Extracting features:  94%|█████████▍| 942/1000 [00:16<00:01, 56.47it/s]"
          ]
        },
        {
          "name": "stdout",
          "output_type": "stream",
          "text": [
            "Error processing /Users/debabratapattnayak/web-dev/greencast/processed_data/plantvillage_color/train/Tomato___Bacterial_spot/beed8d22-757d-44fb-b53f-2aa274ef676b___GCREC_Bact.Sp 3749.JPG: name 'deep_extractor' is not defined\n",
            "Error processing /Users/debabratapattnayak/web-dev/greencast/processed_data/plantvillage_color/train/Tomato___Target_Spot/7eec3aca-476f-457d-8c0a-5c721a26aa4a___Com.G_TgS_FL 9899.JPG: name 'deep_extractor' is not defined\n",
            "Error processing /Users/debabratapattnayak/web-dev/greencast/processed_data/plantvillage_color/train/Corn_(maize)___Common_rust_/RS_Rust 1740.JPG: name 'deep_extractor' is not defined\n",
            "Error processing /Users/debabratapattnayak/web-dev/greencast/processed_data/plantvillage_color/train/Pepper,_bell___healthy/14d0f6a3-c314-4faa-8d6f-1770b21f4f04___JR_HL 8551.JPG: name 'deep_extractor' is not defined\n",
            "Error processing /Users/debabratapattnayak/web-dev/greencast/processed_data/plantvillage_color/train/Grape___Black_rot/61a3d458-6b32-4191-ab56-75ead7362294___FAM_B.Rot 3473.JPG: name 'deep_extractor' is not defined\n",
            "Error processing /Users/debabratapattnayak/web-dev/greencast/processed_data/plantvillage_color/train/Cherry_(including_sour)___Powdery_mildew/6f82f88c-8c37-484c-8175-01b53790a16d___FREC_Pwd.M 0350.JPG: name 'deep_extractor' is not defined\n",
            "Error processing /Users/debabratapattnayak/web-dev/greencast/processed_data/plantvillage_color/train/Corn_(maize)___Cercospora_leaf_spot Gray_leaf_spot/0140764c-6157-4995-9ada-9c10b81af3b8___RS_GLSp 4378.JPG: name 'deep_extractor' is not defined\n",
            "Error processing /Users/debabratapattnayak/web-dev/greencast/processed_data/plantvillage_color/train/Soybean___healthy/606f9fd1-c44f-4fc8-84e0-d7c09552b411___RS_HL 6792.JPG: name 'deep_extractor' is not defined\n",
            "Error processing /Users/debabratapattnayak/web-dev/greencast/processed_data/plantvillage_color/train/Orange___Haunglongbing_(Citrus_greening)/b980867d-1361-435d-849d-ba5ca4f9878a___UF.Citrus_HLB_Lab 9857.JPG: name 'deep_extractor' is not defined\n",
            "Error processing /Users/debabratapattnayak/web-dev/greencast/processed_data/plantvillage_color/train/Potato___Early_blight/16a6f216-6d2a-48fe-b8bc-ff385c96d0d3___RS_Early.B 7220.JPG: name 'deep_extractor' is not defined\n",
            "Error processing /Users/debabratapattnayak/web-dev/greencast/processed_data/plantvillage_color/train/Tomato___healthy/9f1704fc-28ae-4e27-a6f3-885811ea80e2___GH_HL Leaf 260.JPG: name 'deep_extractor' is not defined\n",
            "Error processing /Users/debabratapattnayak/web-dev/greencast/processed_data/plantvillage_color/train/Tomato___Spider_mites Two-spotted_spider_mite/e1b3535e-675c-4021-a14f-75da349d6127___Com.G_SpM_FL 8757.JPG: name 'deep_extractor' is not defined\n"
          ]
        },
        {
          "name": "stderr",
          "output_type": "stream",
          "text": [
            "Extracting features:  95%|█████████▌| 954/1000 [00:17<00:00, 57.04it/s]"
          ]
        },
        {
          "name": "stdout",
          "output_type": "stream",
          "text": [
            "Error processing /Users/debabratapattnayak/web-dev/greencast/processed_data/plantvillage_color/train/Peach___Bacterial_spot/503b1917-4329-410b-a722-2fc27a395a36___Rutg._Bact.S 2196.JPG: name 'deep_extractor' is not defined\n",
            "Error processing /Users/debabratapattnayak/web-dev/greencast/processed_data/plantvillage_color/train/Grape___healthy/29ffbe00-4f75-496b-8bb5-dc1be1eb73b3___Mt.N.V_HL 8956.JPG: name 'deep_extractor' is not defined\n",
            "Error processing /Users/debabratapattnayak/web-dev/greencast/processed_data/plantvillage_color/train/Soybean___healthy/952c183b-a453-48aa-95ee-23ac71553939___RS_HL 7113.JPG: name 'deep_extractor' is not defined\n",
            "Error processing /Users/debabratapattnayak/web-dev/greencast/processed_data/plantvillage_color/train/Squash___Powdery_mildew/18ff0f9e-9e42-421a-ac09-33b42a708ba3___MD_Powd.M 9985.JPG: name 'deep_extractor' is not defined\n",
            "Error processing /Users/debabratapattnayak/web-dev/greencast/processed_data/plantvillage_color/train/Grape___healthy/9c9ae952-4031-4fb0-9f79-fc9272a7a1fa___Mt.N.V_HL 6141.JPG: name 'deep_extractor' is not defined\n",
            "Error processing /Users/debabratapattnayak/web-dev/greencast/processed_data/plantvillage_color/train/Tomato___Septoria_leaf_spot/0a146952-538a-41e5-a422-b5d50e91771e___Matt.S_CG 6079.JPG: name 'deep_extractor' is not defined\n",
            "Error processing /Users/debabratapattnayak/web-dev/greencast/processed_data/plantvillage_color/train/Potato___Early_blight/93c3dfcc-de7c-4ae9-9d18-4042f53e3d1f___RS_Early.B 7872.JPG: name 'deep_extractor' is not defined\n",
            "Error processing /Users/debabratapattnayak/web-dev/greencast/processed_data/plantvillage_color/train/Soybean___healthy/805d4089-9f3a-4c00-ad80-8deb8f50ac88___RS_HL 6793.JPG: name 'deep_extractor' is not defined\n",
            "Error processing /Users/debabratapattnayak/web-dev/greencast/processed_data/plantvillage_color/train/Apple___Apple_scab/84ba6fe9-427e-415b-8bfe-a1f8670e1537___FREC_Scab 3530.JPG: name 'deep_extractor' is not defined\n",
            "Error processing /Users/debabratapattnayak/web-dev/greencast/processed_data/plantvillage_color/train/Tomato___Septoria_leaf_spot/0c8fd2f4-9c26-4e6d-90b5-fae10602579c___Matt.S_CG 1072.JPG: name 'deep_extractor' is not defined\n",
            "Error processing /Users/debabratapattnayak/web-dev/greencast/processed_data/plantvillage_color/train/Corn_(maize)___Common_rust_/RS_Rust 2403.JPG: name 'deep_extractor' is not defined\n",
            "Error processing /Users/debabratapattnayak/web-dev/greencast/processed_data/plantvillage_color/train/Orange___Haunglongbing_(Citrus_greening)/4be724cd-6f53-49e5-8b4d-6b8696590d20___CREC_HLB 6568.JPG: name 'deep_extractor' is not defined\n"
          ]
        },
        {
          "name": "stderr",
          "output_type": "stream",
          "text": [
            "Extracting features:  97%|█████████▋| 966/1000 [00:17<00:00, 57.47it/s]"
          ]
        },
        {
          "name": "stdout",
          "output_type": "stream",
          "text": [
            "Error processing /Users/debabratapattnayak/web-dev/greencast/processed_data/plantvillage_color/train/Potato___Late_blight/09a30eff-d386-456d-a6ce-ead7c0d6235b___RS_LB 5068.JPG: name 'deep_extractor' is not defined\n",
            "Error processing /Users/debabratapattnayak/web-dev/greencast/processed_data/plantvillage_color/train/Raspberry___healthy/cfcc231b-47ae-4adb-9fb2-bdbda4f05113___Mary_HL 9282.JPG: name 'deep_extractor' is not defined\n",
            "Error processing /Users/debabratapattnayak/web-dev/greencast/processed_data/plantvillage_color/train/Squash___Powdery_mildew/6159238b-07e4-42af-b231-89665e5ca7bb___UMD_Powd.M 0317.JPG: name 'deep_extractor' is not defined\n",
            "Error processing /Users/debabratapattnayak/web-dev/greencast/processed_data/plantvillage_color/train/Tomato___Tomato_Yellow_Leaf_Curl_Virus/19869eb6-51a1-448f-8326-af002366b2a9___UF.GRC_YLCV_Lab 02502.JPG: name 'deep_extractor' is not defined\n",
            "Error processing /Users/debabratapattnayak/web-dev/greencast/processed_data/plantvillage_color/train/Tomato___Bacterial_spot/9a49c63a-b86d-4815-a1d2-0800ec359f9f___UF.GRC_BS_Lab Leaf 0304.JPG: name 'deep_extractor' is not defined\n",
            "Error processing /Users/debabratapattnayak/web-dev/greencast/processed_data/plantvillage_color/train/Corn_(maize)___Common_rust_/RS_Rust 1571.JPG: name 'deep_extractor' is not defined\n",
            "Error processing /Users/debabratapattnayak/web-dev/greencast/processed_data/plantvillage_color/train/Pepper,_bell___Bacterial_spot/697e19e9-b11b-4bc8-884b-e25d432b90f6___NREC_B.Spot 9206.JPG: name 'deep_extractor' is not defined\n",
            "Error processing /Users/debabratapattnayak/web-dev/greencast/processed_data/plantvillage_color/train/Tomato___Tomato_Yellow_Leaf_Curl_Virus/ba5746c9-27e9-4baa-a4ab-67f507672b02___YLCV_NREC 2742.JPG: name 'deep_extractor' is not defined\n",
            "Error processing /Users/debabratapattnayak/web-dev/greencast/processed_data/plantvillage_color/train/Blueberry___healthy/02f89fdc-2492-41a2-ad6e-5d83b2f2e1b2___RS_HL 5056.JPG: name 'deep_extractor' is not defined\n",
            "Error processing /Users/debabratapattnayak/web-dev/greencast/processed_data/plantvillage_color/train/Orange___Haunglongbing_(Citrus_greening)/082a5ec8-cf88-4271-a51e-b27fbe0dbee7___CREC_HLB 3886.JPG: name 'deep_extractor' is not defined\n",
            "Error processing /Users/debabratapattnayak/web-dev/greencast/processed_data/plantvillage_color/train/Orange___Haunglongbing_(Citrus_greening)/08cac39d-176f-49c4-b7be-64151fb70465___CREC_HLB 7913.JPG: name 'deep_extractor' is not defined\n",
            "Error processing /Users/debabratapattnayak/web-dev/greencast/processed_data/plantvillage_color/train/Tomato___Tomato_mosaic_virus/5e990ddc-28f3-4624-8498-28f3b10111fd___PSU_CG 2182.JPG: name 'deep_extractor' is not defined\n"
          ]
        },
        {
          "name": "stderr",
          "output_type": "stream",
          "text": [
            "Extracting features:  97%|█████████▋| 972/1000 [00:17<00:00, 57.62it/s]"
          ]
        },
        {
          "name": "stdout",
          "output_type": "stream",
          "text": [
            "Error processing /Users/debabratapattnayak/web-dev/greencast/processed_data/plantvillage_color/train/Corn_(maize)___healthy/b2df7a91-eb90-4263-9305-c91d53019da7___R.S_HL 8005 copy.jpg: name 'deep_extractor' is not defined\n",
            "Error processing /Users/debabratapattnayak/web-dev/greencast/processed_data/plantvillage_color/train/Grape___Esca_(Black_Measles)/83c10b54-4e46-44a8-a28b-6e4aae71d6fc___FAM_B.Msls 4259.JPG: name 'deep_extractor' is not defined\n",
            "Error processing /Users/debabratapattnayak/web-dev/greencast/processed_data/plantvillage_color/train/Blueberry___healthy/990015b1-d83b-40ed-83dd-5e155dda7b19___RS_HL 5049.JPG: name 'deep_extractor' is not defined\n",
            "Error processing /Users/debabratapattnayak/web-dev/greencast/processed_data/plantvillage_color/train/Cherry_(including_sour)___healthy/515f8058-9e91-4b9a-b74a-deb114fc3f39___JR_HL 9444.JPG: name 'deep_extractor' is not defined\n",
            "Error processing /Users/debabratapattnayak/web-dev/greencast/processed_data/plantvillage_color/train/Grape___Leaf_blight_(Isariopsis_Leaf_Spot)/fe0b294c-a4db-4d1d-a4b9-f3e707ea442d___FAM_L.Blight 4849.JPG: name 'deep_extractor' is not defined\n",
            "Error processing /Users/debabratapattnayak/web-dev/greencast/processed_data/plantvillage_color/train/Apple___healthy/1398b04d-e259-418b-a5db-d4b20b7a3380___RS_HL 7536.JPG: name 'deep_extractor' is not defined\n",
            "Error processing /Users/debabratapattnayak/web-dev/greencast/processed_data/plantvillage_color/train/Tomato___Bacterial_spot/25a94cb1-a32d-4da4-a379-4d5732fb6f5e___GCREC_Bact.Sp 3615.JPG: name 'deep_extractor' is not defined\n",
            "Error processing /Users/debabratapattnayak/web-dev/greencast/processed_data/plantvillage_color/train/Corn_(maize)___healthy/16c3cff6-3abb-4af5-979a-9ab375e4a9b1___R.S_HL 5562 copy.jpg: name 'deep_extractor' is not defined\n",
            "Error processing /Users/debabratapattnayak/web-dev/greencast/processed_data/plantvillage_color/train/Blueberry___healthy/6287a057-b63c-486b-ae96-ff4268302820___RS_HL 5185.JPG: name 'deep_extractor' is not defined\n",
            "Error processing /Users/debabratapattnayak/web-dev/greencast/processed_data/plantvillage_color/train/Strawberry___Leaf_scorch/1c759763-3c5b-477f-b2fe-ae0f8387bf53___RS_L.Scorch 1045.JPG: name 'deep_extractor' is not defined\n",
            "Error processing /Users/debabratapattnayak/web-dev/greencast/processed_data/plantvillage_color/train/Tomato___Tomato_mosaic_virus/382828a4-dbdf-4ddc-a75b-9a6fcc4b600e___PSU_CG 2054.JPG: name 'deep_extractor' is not defined\n"
          ]
        },
        {
          "name": "stderr",
          "output_type": "stream",
          "text": [
            "Extracting features:  98%|█████████▊| 984/1000 [00:17<00:00, 52.08it/s]"
          ]
        },
        {
          "name": "stdout",
          "output_type": "stream",
          "text": [
            "Error processing /Users/debabratapattnayak/web-dev/greencast/processed_data/plantvillage_color/train/Grape___healthy/63e38ffd-dfb4-4fc0-aee2-0e6da78a9915___Mt.N.V_HL 6028.JPG: name 'deep_extractor' is not defined\n",
            "Error processing /Users/debabratapattnayak/web-dev/greencast/processed_data/plantvillage_color/train/Strawberry___Leaf_scorch/9d7518b0-4a8b-4a64-9775-d8339f66d0c6___RS_L.Scorch 0960.JPG: name 'deep_extractor' is not defined\n",
            "Error processing /Users/debabratapattnayak/web-dev/greencast/processed_data/plantvillage_color/train/Peach___Bacterial_spot/24ed9d42-f707-46a3-89f4-c32408e86802___Rut._Bact.S 3367.JPG: name 'deep_extractor' is not defined\n",
            "Error processing /Users/debabratapattnayak/web-dev/greencast/processed_data/plantvillage_color/train/Soybean___healthy/7e7cfef1-2274-46da-98b8-b095dc7f8996___RS_HL 5589 1.JPG: name 'deep_extractor' is not defined\n",
            "Error processing /Users/debabratapattnayak/web-dev/greencast/processed_data/plantvillage_color/train/Peach___Bacterial_spot/0b046683-3a87-4866-b772-0ff89890a0ac___Rut._Bact.S 0967.JPG: name 'deep_extractor' is not defined\n",
            "Error processing /Users/debabratapattnayak/web-dev/greencast/processed_data/plantvillage_color/train/Tomato___Target_Spot/1d67d1c7-108d-4090-88c5-519d52963e9a___Com.G_TgS_FL 0980.JPG: name 'deep_extractor' is not defined\n",
            "Error processing /Users/debabratapattnayak/web-dev/greencast/processed_data/plantvillage_color/train/Peach___Bacterial_spot/1a8f39f1-16ef-454a-a554-0ea467e17c16___Rutg._Bact.S 1826.JPG: name 'deep_extractor' is not defined\n",
            "Error processing /Users/debabratapattnayak/web-dev/greencast/processed_data/plantvillage_color/train/Tomato___Tomato_Yellow_Leaf_Curl_Virus/73ac94a4-7ca4-4716-bdc9-f27355d3b5ea___YLCV_NREC 0105.JPG: name 'deep_extractor' is not defined\n",
            "Error processing /Users/debabratapattnayak/web-dev/greencast/processed_data/plantvillage_color/train/Grape___Leaf_blight_(Isariopsis_Leaf_Spot)/74776ea0-972b-4ea6-89cf-45d2071102c9___FAM_L.Blight 4504.JPG: name 'deep_extractor' is not defined\n",
            "Error processing /Users/debabratapattnayak/web-dev/greencast/processed_data/plantvillage_color/train/Squash___Powdery_mildew/aa0f4149-1121-429f-8444-aa492b5882d3___MD_Powd.M 0893.JPG: name 'deep_extractor' is not defined\n"
          ]
        },
        {
          "name": "stderr",
          "output_type": "stream",
          "text": [
            "Extracting features: 100%|█████████▉| 996/1000 [00:17<00:00, 54.58it/s]"
          ]
        },
        {
          "name": "stdout",
          "output_type": "stream",
          "text": [
            "Error processing /Users/debabratapattnayak/web-dev/greencast/processed_data/plantvillage_color/train/Apple___Cedar_apple_rust/affae282-693e-4078-b037-de7037ecdcdc___FREC_C.Rust 9909.JPG: name 'deep_extractor' is not defined\n",
            "Error processing /Users/debabratapattnayak/web-dev/greencast/processed_data/plantvillage_color/train/Cherry_(including_sour)___Powdery_mildew/3241ea49-4272-490b-95d5-6797a3aea739___FREC_Pwd.M 0408.JPG: name 'deep_extractor' is not defined\n",
            "Error processing /Users/debabratapattnayak/web-dev/greencast/processed_data/plantvillage_color/train/Tomato___Leaf_Mold/73f77cb0-f4ee-4500-ac3f-2cd6c79585ed___Crnl_L.Mold 7000.JPG: name 'deep_extractor' is not defined\n",
            "Error processing /Users/debabratapattnayak/web-dev/greencast/processed_data/plantvillage_color/train/Grape___Black_rot/c01ce5a9-a37d-4698-be6a-335868371a54___FAM_B.Rot 3594.JPG: name 'deep_extractor' is not defined\n",
            "Error processing /Users/debabratapattnayak/web-dev/greencast/processed_data/plantvillage_color/train/Tomato___Tomato_Yellow_Leaf_Curl_Virus/8080249d-dc06-4fcc-9f10-efa5f86f0428___UF.GRC_YLCV_Lab 08522.JPG: name 'deep_extractor' is not defined\n",
            "Error processing /Users/debabratapattnayak/web-dev/greencast/processed_data/plantvillage_color/train/Soybean___healthy/6b97830c-984a-4d6b-89d8-306f1f821604___RS_HL 6714.JPG: name 'deep_extractor' is not defined\n",
            "Error processing /Users/debabratapattnayak/web-dev/greencast/processed_data/plantvillage_color/train/Grape___Leaf_blight_(Isariopsis_Leaf_Spot)/b880ef50-7576-4bdd-bfd5-8e10194efd47___FAM_L.Blight 4764.JPG: name 'deep_extractor' is not defined\n",
            "Error processing /Users/debabratapattnayak/web-dev/greencast/processed_data/plantvillage_color/train/Grape___Leaf_blight_(Isariopsis_Leaf_Spot)/88a40dd6-6598-4b9a-9303-4757546e3d9d___FAM_L.Blight 1583.JPG: name 'deep_extractor' is not defined\n",
            "Error processing /Users/debabratapattnayak/web-dev/greencast/processed_data/plantvillage_color/train/Orange___Haunglongbing_(Citrus_greening)/9bc81e45-24cb-4d3d-b0a1-215cb5bc1ee0___CREC_HLB 7601.JPG: name 'deep_extractor' is not defined\n",
            "Error processing /Users/debabratapattnayak/web-dev/greencast/processed_data/plantvillage_color/train/Tomato___Spider_mites Two-spotted_spider_mite/31d8e0ad-c71a-47de-aa56-81a5f0910f0a___Com.G_SpM_FL 9291.JPG: name 'deep_extractor' is not defined\n",
            "Error processing /Users/debabratapattnayak/web-dev/greencast/processed_data/plantvillage_color/train/Soybean___healthy/28bf5bde-47a0-435a-8fe2-10d5575838b2___RS_HL 4419.JPG: name 'deep_extractor' is not defined\n",
            "Error processing /Users/debabratapattnayak/web-dev/greencast/processed_data/plantvillage_color/train/Tomato___Late_blight/a67418bb-f556-4b1d-ac63-839c4ea89b43___RS_Late.B 6914.JPG: name 'deep_extractor' is not defined\n"
          ]
        },
        {
          "name": "stderr",
          "output_type": "stream",
          "text": [
            "Extracting features: 100%|██████████| 1000/1000 [00:17<00:00, 55.83it/s]\n"
          ]
        },
        {
          "name": "stdout",
          "output_type": "stream",
          "text": [
            "Error processing /Users/debabratapattnayak/web-dev/greencast/processed_data/plantvillage_color/train/Pepper,_bell___Bacterial_spot/65c3a8f9-9631-4b86-9ae3-28116c869247___JR_B.Spot 9005.JPG: name 'deep_extractor' is not defined\n"
          ]
        },
        {
          "ename": "IndexError",
          "evalue": "tuple index out of range",
          "output_type": "error",
          "traceback": [
            "\u001b[31m---------------------------------------------------------------------------\u001b[39m",
            "\u001b[31mIndexError\u001b[39m                                Traceback (most recent call last)",
            "\u001b[36mCell\u001b[39m\u001b[36m \u001b[39m\u001b[32mIn[7]\u001b[39m\u001b[32m, line 110\u001b[39m\n\u001b[32m    108\u001b[39m \u001b[38;5;28;01mif\u001b[39;00m processed_train_path.exists():\n\u001b[32m    109\u001b[39m     \u001b[38;5;28mprint\u001b[39m(\u001b[33m\"\u001b[39m\u001b[33mExtracting features from training set...\u001b[39m\u001b[33m\"\u001b[39m)\n\u001b[32m--> \u001b[39m\u001b[32m110\u001b[39m     train_metadata = \u001b[43mextract_features_from_dataset\u001b[49m\u001b[43m(\u001b[49m\n\u001b[32m    111\u001b[39m \u001b[43m        \u001b[49m\u001b[43mprocessed_train_path\u001b[49m\u001b[43m,\u001b[49m\n\u001b[32m    112\u001b[39m \u001b[43m        \u001b[49m\u001b[43mFEATURES_PATH\u001b[49m\u001b[43m \u001b[49m\u001b[43m/\u001b[49m\u001b[43m \u001b[49m\u001b[33;43m'\u001b[39;49m\u001b[33;43mtrain\u001b[39;49m\u001b[33;43m'\u001b[39;49m\u001b[43m,\u001b[49m\n\u001b[32m    113\u001b[39m \u001b[43m        \u001b[49m\u001b[43msample_size\u001b[49m\u001b[43m=\u001b[49m\u001b[32;43m1000\u001b[39;49m\u001b[43m  \u001b[49m\u001b[38;5;66;43;03m# Sample for demonstration\u001b[39;49;00m\n\u001b[32m    114\u001b[39m \u001b[43m    \u001b[49m\u001b[43m)\u001b[49m\n\u001b[32m    115\u001b[39m \u001b[38;5;28;01melse\u001b[39;00m:\n\u001b[32m    116\u001b[39m     \u001b[38;5;28mprint\u001b[39m(\u001b[33m\"\u001b[39m\u001b[33mProcessed training data not found. Please run the preprocessing notebook first.\u001b[39m\u001b[33m\"\u001b[39m)\n",
            "\u001b[36mCell\u001b[39m\u001b[36m \u001b[39m\u001b[32mIn[7]\u001b[39m\u001b[32m, line 92\u001b[39m, in \u001b[36mextract_features_from_dataset\u001b[39m\u001b[34m(dataset_path, output_path, sample_size)\u001b[39m\n\u001b[32m     80\u001b[39m         pickle.dump({\n\u001b[32m     81\u001b[39m             \u001b[33m'\u001b[39m\u001b[33mfeatures\u001b[39m\u001b[33m'\u001b[39m: features,\n\u001b[32m     82\u001b[39m             \u001b[33m'\u001b[39m\u001b[33mlabels\u001b[39m\u001b[33m'\u001b[39m: valid_labels,\n\u001b[32m     83\u001b[39m             \u001b[33m'\u001b[39m\u001b[33mpaths\u001b[39m\u001b[33m'\u001b[39m: valid_paths\n\u001b[32m     84\u001b[39m         }, f)\n\u001b[32m     86\u001b[39m \u001b[38;5;66;03m# Save metadata\u001b[39;00m\n\u001b[32m     87\u001b[39m metadata = {\n\u001b[32m     88\u001b[39m     \u001b[33m'\u001b[39m\u001b[33mnum_images\u001b[39m\u001b[33m'\u001b[39m: \u001b[38;5;28mlen\u001b[39m(valid_labels),\n\u001b[32m     89\u001b[39m     \u001b[33m'\u001b[39m\u001b[33mnum_classes\u001b[39m\u001b[33m'\u001b[39m: \u001b[38;5;28mlen\u001b[39m(\u001b[38;5;28mset\u001b[39m(valid_labels)),\n\u001b[32m     90\u001b[39m     \u001b[33m'\u001b[39m\u001b[33mclasses\u001b[39m\u001b[33m'\u001b[39m: \u001b[38;5;28mlist\u001b[39m(\u001b[38;5;28mset\u001b[39m(valid_labels)),\n\u001b[32m     91\u001b[39m     \u001b[33m'\u001b[39m\u001b[33mtraditional_feature_dim\u001b[39m\u001b[33m'\u001b[39m: traditional_features.shape[\u001b[32m1\u001b[39m],\n\u001b[32m---> \u001b[39m\u001b[32m92\u001b[39m     \u001b[33m'\u001b[39m\u001b[33mdeep_feature_dims\u001b[39m\u001b[33m'\u001b[39m: {name: \u001b[43mfeat\u001b[49m\u001b[43m.\u001b[49m\u001b[43mshape\u001b[49m\u001b[43m[\u001b[49m\u001b[32;43m1\u001b[39;49m\u001b[43m]\u001b[49m \u001b[38;5;28;01mfor\u001b[39;00m name, feat \u001b[38;5;129;01min\u001b[39;00m deep_features.items()}\n\u001b[32m     93\u001b[39m }\n\u001b[32m     95\u001b[39m \u001b[38;5;28;01mwith\u001b[39;00m \u001b[38;5;28mopen\u001b[39m(output_path / \u001b[33m'\u001b[39m\u001b[33mmetadata.json\u001b[39m\u001b[33m'\u001b[39m, \u001b[33m'\u001b[39m\u001b[33mw\u001b[39m\u001b[33m'\u001b[39m) \u001b[38;5;28;01mas\u001b[39;00m f:\n\u001b[32m     96\u001b[39m     json.dump(metadata, f, indent=\u001b[32m2\u001b[39m)\n",
            "\u001b[31mIndexError\u001b[39m: tuple index out of range"
          ]
        }
      ],
      "source": [
        "def extract_features_from_dataset(dataset_path, output_path, sample_size=None):\n",
        "    \"\"\"Extract features from entire dataset\"\"\"\n",
        "    \n",
        "    # Collect all image paths and labels\n",
        "    image_paths = []\n",
        "    labels = []\n",
        "    \n",
        "    for class_name in os.listdir(dataset_path):\n",
        "        class_path = os.path.join(dataset_path, class_name)\n",
        "        if os.path.isdir(class_path):\n",
        "            for img_file in os.listdir(class_path):\n",
        "                if img_file.lower().endswith(('.jpg', '.jpeg', '.png', '.bmp')):\n",
        "                    image_paths.append(os.path.join(class_path, img_file))\n",
        "                    labels.append(class_name)\n",
        "    \n",
        "    # Sample if requested\n",
        "    if sample_size and len(image_paths) > sample_size:\n",
        "        indices = np.random.choice(len(image_paths), sample_size, replace=False)\n",
        "        image_paths = [image_paths[i] for i in indices]\n",
        "        labels = [labels[i] for i in indices]\n",
        "    \n",
        "    print(f\"Extracting features from {len(image_paths)} images...\")\n",
        "    \n",
        "    # Initialize feature storage\n",
        "    traditional_features = []\n",
        "    deep_features = {'vgg16': [], 'resnet50': [], 'efficientnet': []}\n",
        "    valid_labels = []\n",
        "    valid_paths = []\n",
        "    \n",
        "    # Extract features\n",
        "    for i, img_path in enumerate(tqdm(image_paths, desc=\"Extracting features\")):\n",
        "        try:\n",
        "            # Load image\n",
        "            img = cv2.imread(img_path)\n",
        "            if img is None:\n",
        "                continue\n",
        "            \n",
        "            # Convert to RGB\n",
        "            img_rgb = cv2.cvtColor(img, cv2.COLOR_BGR2RGB)\n",
        "            \n",
        "            # Resize to standard size\n",
        "            img_resized = cv2.resize(img_rgb, (224, 224))\n",
        "            \n",
        "            # Extract traditional features\n",
        "            trad_feat = traditional_extractor.extract_all_features(img_resized)\n",
        "            traditional_features.append(trad_feat)\n",
        "            \n",
        "            # Extract deep features\n",
        "            deep_feat = deep_extractor.extract_all_model_features(img_resized)\n",
        "            for model_name, features in deep_feat.items():\n",
        "                deep_features[model_name].append(features)\n",
        "            \n",
        "            valid_labels.append(labels[i])\n",
        "            valid_paths.append(img_path)\n",
        "            \n",
        "        except Exception as e:\n",
        "            print(f\"Error processing {img_path}: {e}\")\n",
        "            continue\n",
        "    \n",
        "    # Convert to numpy arrays\n",
        "    traditional_features = np.array(traditional_features)\n",
        "    for model_name in deep_features.keys():\n",
        "        deep_features[model_name] = np.array(deep_features[model_name])\n",
        "    \n",
        "    # Save features\n",
        "    output_path = Path(output_path)\n",
        "    output_path.mkdir(parents=True, exist_ok=True)\n",
        "    \n",
        "    # Save traditional features\n",
        "    with open(output_path / 'traditional_features.pkl', 'wb') as f:\n",
        "        pickle.dump({\n",
        "            'features': traditional_features,\n",
        "            'labels': valid_labels,\n",
        "            'paths': valid_paths\n",
        "        }, f)\n",
        "    \n",
        "    # Save deep features\n",
        "    for model_name, features in deep_features.items():\n",
        "        with open(output_path / f'{model_name}_features.pkl', 'wb') as f:\n",
        "            pickle.dump({\n",
        "                'features': features,\n",
        "                'labels': valid_labels,\n",
        "                'paths': valid_paths\n",
        "            }, f)\n",
        "    \n",
        "    # Save metadata\n",
        "    metadata = {\n",
        "        'num_images': len(valid_labels),\n",
        "        'num_classes': len(set(valid_labels)),\n",
        "        'classes': list(set(valid_labels)),\n",
        "        'traditional_feature_dim': traditional_features.shape[1],\n",
        "        'deep_feature_dims': {name: feat.shape[1] for name, feat in deep_features.items()}\n",
        "    }\n",
        "    \n",
        "    with open(output_path / 'metadata.json', 'w') as f:\n",
        "        json.dump(metadata, f, indent=2)\n",
        "    \n",
        "    print(f\"\\nFeature extraction complete!\")\n",
        "    print(f\"Processed {len(valid_labels)} images\")\n",
        "    print(f\"Traditional features shape: {traditional_features.shape}\")\n",
        "    for model_name, features in deep_features.items():\n",
        "        print(f\"{model_name} features shape: {features.shape}\")\n",
        "    \n",
        "    return metadata\n",
        "\n",
        "# Extract features from processed dataset\n",
        "processed_train_path = PROCESSED_DATA_PATH / 'plantvillage_color' / 'train'\n",
        "if processed_train_path.exists():\n",
        "    print(\"Extracting features from training set...\")\n",
        "    train_metadata = extract_features_from_dataset(\n",
        "        processed_train_path,\n",
        "        FEATURES_PATH / 'train',\n",
        "        sample_size=1000  # Sample for demonstration\n",
        "    )\n",
        "else:\n",
        "    print(\"Processed training data not found. Please run the preprocessing notebook first.\")"
      ]
    }
  ],
  "metadata": {
    "kernelspec": {
      "display_name": "venv",
      "language": "python",
      "name": "python3"
    },
    "language_info": {
      "codemirror_mode": {
        "name": "ipython",
        "version": 3
      },
      "file_extension": ".py",
      "mimetype": "text/x-python",
      "name": "python",
      "nbconvert_exporter": "python",
      "pygments_lexer": "ipython3",
      "version": "3.13.5"
    }
  },
  "nbformat": 4,
  "nbformat_minor": 4
}
